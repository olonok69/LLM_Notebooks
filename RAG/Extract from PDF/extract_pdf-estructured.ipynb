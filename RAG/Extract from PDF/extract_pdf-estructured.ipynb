{
 "cells": [
  {
   "cell_type": "markdown",
   "id": "f4b12935-365d-427c-8033-6cfe92464515",
   "metadata": {},
   "source": [
    "# Speak with your documents . Extract structured Data\n",
    "\n",
    "- https://python.langchain.com/docs/tutorials/extraction/\n",
    "\n",
    "- https://python.langchain.com/docs/how_to/structured_output/\n",
    "\n",
    "- https://python.langchain.com/docs/how_to/output_parser_structured/\n",
    "\n",
    "- https://api.python.langchain.com/en/latest/core/output_parsers/langchain_core.output_parsers.pydantic.PydanticOutputParser.html"
   ]
  },
  {
   "cell_type": "code",
   "execution_count": null,
   "id": "2285259d-c4bd-4360-869f-aa7ae32a8407",
   "metadata": {},
   "outputs": [],
   "source": [
    "# ! python -m pip install -r requirements.txt"
   ]
  },
  {
   "cell_type": "code",
   "execution_count": null,
   "id": "f83f1200-686d-4d50-a072-08632f802c05",
   "metadata": {},
   "outputs": [],
   "source": [
    "import os\n",
    "from dotenv import dotenv_values"
   ]
  },
  {
   "cell_type": "code",
   "execution_count": null,
   "id": "e95feeed-c048-413b-89de-5c48e4a6c63c",
   "metadata": {},
   "outputs": [],
   "source": [
    "config = dotenv_values(\"./keys/.env\")"
   ]
  },
  {
   "cell_type": "code",
   "execution_count": null,
   "id": "11ec4941-e188-47be-b7cb-36805dcc0ad7",
   "metadata": {},
   "outputs": [],
   "source": [
    "from dotenv import dotenv_values\n",
    "import json\n",
    "import vertexai\n",
    "from google.oauth2 import service_account\n",
    "from vertexai.generative_models import GenerationConfig, GenerativeModel, Image, Part\n",
    "from langchain_google_genai import ChatGoogleGenerativeAI, GoogleGenerativeAIEmbeddings\n",
    "\n",
    "from langchain_community.document_loaders import PyPDFLoader\n",
    "from langchain.output_parsers import PydanticOutputParser\n",
    "from pydantic import BaseModel, Field\n",
    "from typing import List, Optional\n",
    "import pprint"
   ]
  },
  {
   "cell_type": "code",
   "execution_count": null,
   "id": "99fe2179-5d2f-4131-ac3e-38ee2d1dfb64",
   "metadata": {},
   "outputs": [],
   "source": [
    "import getpass\n",
    "import os\n",
    "\n",
    "os.environ[\"LANGCHAIN_TRACING_V2\"] = \"true\"\n",
    "os.environ[\"LANGCHAIN_API_KEY\"] = getpass.getpass()"
   ]
  },
  {
   "cell_type": "code",
   "execution_count": null,
   "id": "4475f782-1013-4cc3-a8c0-04f2ef53e2b8",
   "metadata": {},
   "outputs": [],
   "source": [
    "import pydantic"
   ]
  },
  {
   "cell_type": "code",
   "execution_count": null,
   "id": "d6b47815-741e-42de-9230-dff86d6d3fc1",
   "metadata": {},
   "outputs": [],
   "source": [
    "pydantic.__version__"
   ]
  },
  {
   "cell_type": "code",
   "execution_count": null,
   "id": "f16d85de-c89d-4bc3-be00-7f4ed68f886a",
   "metadata": {},
   "outputs": [],
   "source": [
    "\n",
    "with open(\"./keys/complete-tube-421007-208a4862c992.json\") as source:\n",
    "    info = json.load(source)\n",
    "\n",
    "vertex_credentials = service_account.Credentials.from_service_account_info(info)\n",
    "vertexai.init(\n",
    "    project=config[\"PROJECT\"],\n",
    "    location=config[\"REGION\"],\n",
    "    credentials=vertex_credentials,\n",
    ")\n",
    "google_api_key = config[\"GEMINI-API-KEY\"]\n",
    "os.environ[\"GEMINI_API_KEY\"] = google_api_key"
   ]
  },
  {
   "cell_type": "code",
   "execution_count": null,
   "id": "1675d798-9bd3-459d-b243-1505c6f2f12b",
   "metadata": {},
   "outputs": [],
   "source": [
    "loader = PyPDFLoader(\"data/PArser Source 1.pdf\")\n",
    "pages = loader.load()"
   ]
  },
  {
   "cell_type": "code",
   "execution_count": null,
   "id": "a06f3ec2-9b8a-4a15-9d8d-82966b6e566a",
   "metadata": {},
   "outputs": [],
   "source": [
    "pages[0]"
   ]
  },
  {
   "cell_type": "code",
   "execution_count": null,
   "id": "2e4ff895-3b40-4b13-b0ce-3420047b8e1c",
   "metadata": {},
   "outputs": [],
   "source": [
    "\n",
    "# To help construct our Chat Messages\n",
    "from langchain.schema import HumanMessage\n",
    "from langchain.prompts import PromptTemplate, ChatPromptTemplate, HumanMessagePromptTemplate\n",
    "\n",
    "# To parse outputs and get structured data back\n",
    "from langchain.output_parsers import StructuredOutputParser, ResponseSchema"
   ]
  },
  {
   "cell_type": "code",
   "execution_count": null,
   "id": "d5bedbe5-6ac3-4d94-b82f-561119cac810",
   "metadata": {},
   "outputs": [],
   "source": [
    "len(pages)"
   ]
  },
  {
   "cell_type": "code",
   "execution_count": null,
   "id": "6ee36c65-5577-4835-b6c4-43ec8e96a069",
   "metadata": {},
   "outputs": [],
   "source": [
    "from typing import List, Optional\n",
    "\n",
    "from pydantic import BaseModel, Field\n",
    "\n",
    "class EntityDataExtraction(BaseModel):\n",
    "    entity_name: Optional[str] = Field(default=None, description=\"Name of Entity\")\n",
    "    legal_company_type: Optional[str] = Field(default=None, description=\"Legal Company Type\")\n",
    "    status :Optional[str] = Field(default=None, description=\"Status entity\")\n",
    "    registration_number_tax_id: Optional[int] = Field(default=None, description=\"Registration Number or Tax ID. This could be empty\")\n",
    "    incorporation_date: Optional[str] = Field(default=None, description=\"The incorporation Date of the time period in ISO format.\")\n",
    "    country : Optional[str] = Field(default=None, description=\"Country\")\n",
    "    region_state:Optional[str] = Field(default=None, description=\"Region or State\")\n",
    "    dissolved_date: Optional[str] = Field(default=None,  description=\"The Dissolved Date of the time period in ISO format. This could be empty\")\n",
    "    historical : Optional[str] =  Field(default=None, description=\"it is Historical TRUE or FALSE\")\n",
    "    registered_office_address : Optional[str] = Field(default=None, description=\"The Registered Office Address of the company\")\n",
    "    main_address_line : Optional[str] = Field(default=None, description=\"The Main Address Line of the company\")\n",
    "\n",
    "class Data(BaseModel):\n",
    "    \"\"\"Extracted data about Companies.\"\"\"\n",
    "\n",
    "    # Creates a model so that we can extract multiple entities.\n",
    "    companies: List[EntityDataExtraction]\n"
   ]
  },
  {
   "cell_type": "code",
   "execution_count": null,
   "id": "03304e6e-ad47-42b2-a2e1-66f5234a8595",
   "metadata": {},
   "outputs": [],
   "source": [
    "EntityDataExtraction.schema()"
   ]
  },
  {
   "cell_type": "code",
   "execution_count": null,
   "id": "e0809fa5-3e85-48ea-955c-ac140671664a",
   "metadata": {},
   "outputs": [],
   "source": [
    "\n",
    "data = {\n",
    "    \"description\": \"Company registry Information.\",\n",
    "    \"schema\": EntityDataExtraction.schema(),\n",
    "    \"instruction\": (\n",
    "        \"Extract data according to the schema \"\n",
    "\n",
    "    )\n",
    "}"
   ]
  },
  {
   "cell_type": "code",
   "execution_count": null,
   "id": "6a50b342-4164-4231-a6fe-be0c3ef0f7eb",
   "metadata": {},
   "outputs": [],
   "source": [
    "\n",
    "# Instantiate the parser with the new model.\n",
    "parser = PydanticOutputParser(pydantic_object=EntityDataExtraction)\n",
    "\n",
    "# Update the prompt to match the new query and desired format.\n",
    "prompt = ChatPromptTemplate(\n",
    "    messages=[\n",
    "        HumanMessagePromptTemplate.from_template(\n",
    "            \"Answer the users question as best as possible about the name of the company Requested.\\n{format_instructions}\\n{question}\"\n",
    "        )\n",
    "    ],\n",
    "    input_variables=[\"question\"],\n",
    "    partial_variables={\n",
    "        \"format_instructions\": parser.get_format_instructions(),\n",
    "    },\n",
    ")"
   ]
  },
  {
   "cell_type": "code",
   "execution_count": null,
   "id": "07d1eacd-a70f-4c72-b4b9-a2af0c38c10d",
   "metadata": {},
   "outputs": [],
   "source": [
    "parser.get_format_instructions()"
   ]
  },
  {
   "cell_type": "code",
   "execution_count": null,
   "id": "10150aa7-7eeb-418b-b7b8-bcfeb9fda18e",
   "metadata": {},
   "outputs": [],
   "source": [
    "model = ChatGoogleGenerativeAI(\n",
    "                    model=\"gemini-1.5-pro-001\", credentials=vertex_credentials\n",
    "                )"
   ]
  },
  {
   "cell_type": "code",
   "execution_count": null,
   "id": "2a5e5eed-05de-44cd-8686-21fa692a8a2d",
   "metadata": {},
   "outputs": [],
   "source": [
    "document_query = \"Extract information of company Yuga Studios from this document report: \" + pages[0].page_content\n",
    "\n",
    "_input = prompt.format_prompt(question=document_query)\n",
    "output = model.invoke(_input.to_messages())\n",
    "parsed = parser.parse(output.content)\n",
    "\n",
    "pprint.pprint(parsed)"
   ]
  },
  {
   "cell_type": "code",
   "execution_count": null,
   "id": "34c4dc63-8632-4fb4-9ab7-832dabb6dd3d",
   "metadata": {},
   "outputs": [],
   "source": [
    "json.loads(parsed.json())"
   ]
  },
  {
   "cell_type": "code",
   "execution_count": null,
   "id": "7cd6dca0-f7a5-426f-a488-5d619aa1c8b9",
   "metadata": {},
   "outputs": [],
   "source": [
    "output.content"
   ]
  },
  {
   "cell_type": "code",
   "execution_count": null,
   "id": "e38140f8-dde5-4917-9499-4b6025b6715d",
   "metadata": {},
   "outputs": [],
   "source": [
    "document_query = \"Extract information of company 'Youthcoin Ltd' from this document report: \" + pages[0].page_content\n",
    "\n",
    "_input = prompt.format_prompt(question=document_query)\n",
    "output = model.invoke(_input.to_messages())\n",
    "parsed = parser.parse(output.content)\n",
    "\n",
    "pprint.pprint(parsed)"
   ]
  },
  {
   "cell_type": "code",
   "execution_count": null,
   "id": "d114dc81-0a54-465d-b47d-2206e4170988",
   "metadata": {},
   "outputs": [],
   "source": [
    "json.loads(parsed.json())"
   ]
  },
  {
   "cell_type": "markdown",
   "id": "ac84ac9a-c929-4cb7-963b-29c2d1fe6376",
   "metadata": {},
   "source": [
    "# Multiple Objects (Under Construction)"
   ]
  },
  {
   "cell_type": "code",
   "execution_count": null,
   "id": "e07b6512-cfd8-42f3-84ba-0d3e57a04d66",
   "metadata": {},
   "outputs": [],
   "source": [
    "# prompt2 = ChatPromptTemplate.from_messages(\n",
    "#     [\n",
    "#         (\n",
    "#             \"system\",\n",
    "#             \"You are an expert extraction algorithm. \"\n",
    "#             \"Only extract relevant information from the text. \"\n",
    "#             \"If you do not know the value of an attribute asked to extract, \"\n",
    "#             \"return null for the attribute's value.\",\n",
    "#         ),\n",
    "#         # Please see the how-to about improving performance with\n",
    "#         # reference examples.\n",
    "#         # MessagesPlaceholder('examples'),\n",
    "#         (\"human\", \"{text}\"),\n",
    "#     ]\n",
    "# )"
   ]
  },
  {
   "cell_type": "code",
   "execution_count": null,
   "id": "98137901-5b94-45de-89b1-a35c398a68e4",
   "metadata": {},
   "outputs": [],
   "source": [
    "# runnable = prompt2 | model.with_structured_output(schema=Data)"
   ]
  },
  {
   "cell_type": "code",
   "execution_count": null,
   "id": "1768a9c8-2991-4d08-9cc9-7ec9112571df",
   "metadata": {},
   "outputs": [],
   "source": [
    "# runnable.invoke({\"text\": pages[0].page_content})"
   ]
  },
  {
   "cell_type": "code",
   "execution_count": null,
   "id": "8f98875f-5a0b-4598-8aa6-ecfa5317c5ff",
   "metadata": {},
   "outputs": [],
   "source": []
  }
 ],
 "metadata": {
  "kernelspec": {
   "display_name": "Python (rag)",
   "language": "python",
   "name": "rag"
  },
  "language_info": {
   "codemirror_mode": {
    "name": "ipython",
    "version": 3
   },
   "file_extension": ".py",
   "mimetype": "text/x-python",
   "name": "python",
   "nbconvert_exporter": "python",
   "pygments_lexer": "ipython3",
   "version": "3.11.10"
  }
 },
 "nbformat": 4,
 "nbformat_minor": 5
}
