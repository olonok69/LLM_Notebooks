{
 "cells": [
  {
   "cell_type": "markdown",
   "id": "4c3cee77-3770-4aff-bf7c-f071ea2f36b0",
   "metadata": {},
   "source": [
    "## Anthropic\n",
    "\n",
    "- https://www.anthropic.com/news/claude-3-family\n",
    "- https://console.anthropic.com/workbench\n",
    "- https://docs.anthropic.com/claude/docs/embeddings\n",
    "- https://docs.anthropic.com/claude/docs/functions-external-tools\n",
    "- https://docs.anthropic.com/claude/reference/claude-on-vertex-ai\n",
    "- https://docs.anthropic.com/claude/reference/claude-on-amazon-bedrock\n",
    "\n",
    "- pip install voyageai anthropic\n",
    "\n"
   ]
  },
  {
   "cell_type": "code",
   "execution_count": null,
   "id": "dc8c87f3-4960-4a48-adc7-b58bfe5b2069",
   "metadata": {},
   "outputs": [],
   "source": [
    "\n",
    "from dotenv import dotenv_values\n",
    "import os\n",
    "config = dotenv_values(\".env\")\n",
    "\n",
    "API_KEY_ANTROPIC = config.get(\"ANTHROPIC_API_KEY\")\n",
    "\n",
    "# ANTHROPIC_API_KEY\n",
    "os.environ[\"ANTHROPIC_API_KEY\"] = config.get(\"ANTHROPIC_API_KEY\")"
   ]
  },
  {
   "cell_type": "markdown",
   "id": "420a9b76-1670-44ee-ad25-a00f23f81e26",
   "metadata": {},
   "source": [
    "# Text Generation\n",
    "\n",
    "https://docs.anthropic.com/claude/docs/text-generation"
   ]
  },
  {
   "cell_type": "code",
   "execution_count": null,
   "id": "af27324b-1497-4e88-9f79-0896c2a01174",
   "metadata": {},
   "outputs": [],
   "source": [
    "from Payload import Message, Payload\n",
    "# Prepare the prompt\n",
    "prompt = \"Hello, Claude! I am Sebastian\"\n",
    "\n",
    "# Build the messages\n",
    "messages = [Message(role=\"user\", content=prompt)]"
   ]
  },
  {
   "cell_type": "code",
   "execution_count": null,
   "id": "0a5fc6c4-b515-4a34-9f86-63e578270436",
   "metadata": {},
   "outputs": [],
   "source": [
    "client = anthropic.Client(api_key=API_KEY_ANTROPIC)\n",
    "\n",
    "response = client.messages.create(\n",
    "    model=\"claude-3-haiku-20240307\",\n",
    "    system=\"Respond only in Spanish.\", # <-- system prompt\n",
    "    max_tokens = 150,\n",
    "    messages=messages\n",
    ")\n",
    "\n",
    "print(response)"
   ]
  },
  {
   "cell_type": "code",
   "execution_count": null,
   "id": "43cc1a63-9731-4180-a3aa-6864af178c59",
   "metadata": {},
   "outputs": [],
   "source": [
    "messages.append(Message(role=\"assistant\", content=response.content[0].text))"
   ]
  },
  {
   "cell_type": "code",
   "execution_count": null,
   "id": "84e0f2f9-02a6-4beb-bb45-c46ec7b25919",
   "metadata": {},
   "outputs": [],
   "source": [
    "messages.append(Message(role=\"user\", content=\"can you describe in plain language how to prepare a choco suffle?\"))"
   ]
  },
  {
   "cell_type": "code",
   "execution_count": null,
   "id": "7e9dd2e5-1dde-43a5-b00a-69938c5df7de",
   "metadata": {},
   "outputs": [],
   "source": [
    "response = client.messages.create(\n",
    "    model=\"claude-3-haiku-20240307\",\n",
    "    system=\"Respond only in Spanish.\", # <-- system prompt\n",
    "    max_tokens = 150,\n",
    "    messages=messages\n",
    ")\n",
    "\n",
    "print(response)"
   ]
  },
  {
   "cell_type": "code",
   "execution_count": null,
   "id": "02b6a9b8-e911-4133-8970-91bbead87b6c",
   "metadata": {},
   "outputs": [],
   "source": [
    "# CoT"
   ]
  },
  {
   "cell_type": "code",
   "execution_count": null,
   "id": "ff2082da-53ce-4746-97c8-62459696dd9c",
   "metadata": {},
   "outputs": [],
   "source": [
    "from Payload import Message, Payload\n",
    "# Prepare the prompt\n",
    "prompt = \"\"\"Read the Instruction below and provide an answer.\n",
    "\n",
    "### INSTRUCTION:\n",
    "Question:\n",
    "I had a car 20 years ago, and its cost was 100000$.\n",
    "Car's anual depreciation it is 5%.\n",
    "Using the Percentage (Declining Balance) method, what it is the value of the car now ?\n",
    "\n",
    "### RESPONSE:\n",
    "\"\"\"\n",
    "\n",
    "# Build the messages\n",
    "messages = [Message(role=\"user\", content=prompt)]"
   ]
  },
  {
   "cell_type": "code",
   "execution_count": null,
   "id": "85873230-47db-46e9-b795-c4baa3f75bad",
   "metadata": {},
   "outputs": [],
   "source": [
    "client = anthropic.Client(api_key=API_KEY_ANTROPIC)\n",
    "\n",
    "response = client.messages.create(\n",
    "    model=\"claude-3-opus-20240229\",\n",
    "    system=\"You are a usefull accountant.\", # <-- system prompt\n",
    "    max_tokens = 4096,\n",
    "    messages=messages\n",
    ")\n",
    "\n",
    "print(response)"
   ]
  },
  {
   "cell_type": "code",
   "execution_count": null,
   "id": "73292122-ada8-4e72-a9d6-9ae1bc9efde7",
   "metadata": {},
   "outputs": [],
   "source": [
    "print(response.content[0].text)"
   ]
  },
  {
   "cell_type": "markdown",
   "id": "b719f411-00b8-4560-85b0-5105511757c6",
   "metadata": {},
   "source": [
    "## Vision\n",
    "\n",
    "The Claude 3 family of models comes with new vision capabilities that allow Claude to understand and analyze images, opening up exciting possibilities for multimodal interaction. With Claude, you can now provide both text and image inputs to enrich your conversations and enable powerful new use cases.\n",
    "\n",
    "https://docs.anthropic.com/claude/docs/vision"
   ]
  },
  {
   "cell_type": "code",
   "execution_count": null,
   "id": "e7b81dfb-11c4-4db2-bbad-1209800b5ebd",
   "metadata": {},
   "outputs": [],
   "source": [
    "import anthropic\n",
    "import base64\n",
    "import httpx\n",
    "\n",
    "client = anthropic.Anthropic()\n",
    "\n",
    "image1_url = \"https://upload.wikimedia.org/wikipedia/commons/a/a7/Camponotus_flavomarginatus_ant.jpg\"\n",
    "image1_media_type = \"image/jpeg\"\n",
    "image1_data = base64.b64encode(httpx.get(image1_url).content).decode(\"utf-8\")\n",
    "\n",
    "image2_url = \"https://upload.wikimedia.org/wikipedia/commons/b/b5/Iridescent.green.sweat.bee1.jpg\"\n",
    "image2_media_type = \"image/jpeg\"\n",
    "image2_data = base64.b64encode(httpx.get(image2_url).content).decode(\"utf-8\")"
   ]
  },
  {
   "cell_type": "code",
   "execution_count": null,
   "id": "0d9371bc-77b9-4465-84c5-f1fdeadd9c2b",
   "metadata": {},
   "outputs": [],
   "source": [
    "message = client.messages.create(\n",
    "    model=\"claude-3-opus-20240229\",\n",
    "    max_tokens=1024,\n",
    "    messages=[\n",
    "        {\n",
    "            \"role\": \"user\",\n",
    "            \"content\": [\n",
    "                {\n",
    "                    \"type\": \"image\",\n",
    "                    \"source\": {\n",
    "                        \"type\": \"base64\",\n",
    "                        \"media_type\": image1_media_type,\n",
    "                        \"data\": image1_data,\n",
    "                    },\n",
    "                },\n",
    "                {\n",
    "                    \"type\": \"text\",\n",
    "                    \"text\": \"Compare both Images.\"\n",
    "                }\n",
    "            ],\n",
    "        }\n",
    "    ],\n",
    ")\n",
    "print(message)"
   ]
  },
  {
   "cell_type": "code",
   "execution_count": null,
   "id": "2be02b53-0fb5-48e8-980d-45fd69bd5743",
   "metadata": {},
   "outputs": [],
   "source": [
    "print(message.content[0].text)"
   ]
  },
  {
   "cell_type": "markdown",
   "id": "7c59336a-74e9-4f70-863c-57af8ffdf56c",
   "metadata": {},
   "source": [
    "### Amazon BedRock\n",
    "https://docs.anthropic.com/claude/reference/claude-on-amazon-bedrock"
   ]
  },
  {
   "cell_type": "markdown",
   "id": "a7ac51c5-e026-4d0e-ab6e-25796e9b5f68",
   "metadata": {},
   "source": [
    "### Vertex Ai \n",
    "https://docs.anthropic.com/claude/reference/claude-on-vertex-ai"
   ]
  },
  {
   "cell_type": "code",
   "execution_count": null,
   "id": "4ca85faa-3141-40d2-9d9f-9db176cef510",
   "metadata": {},
   "outputs": [],
   "source": []
  }
 ],
 "metadata": {
  "kernelspec": {
   "display_name": "Python 3 (ipykernel)",
   "language": "python",
   "name": "python3"
  },
  "language_info": {
   "codemirror_mode": {
    "name": "ipython",
    "version": 3
   },
   "file_extension": ".py",
   "mimetype": "text/x-python",
   "name": "python",
   "nbconvert_exporter": "python",
   "pygments_lexer": "ipython3",
   "version": "3.11.8"
  }
 },
 "nbformat": 4,
 "nbformat_minor": 5
}
