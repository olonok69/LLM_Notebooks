{
 "cells": [
  {
   "cell_type": "code",
   "execution_count": null,
   "id": "6160f76b-8542-445a-bb4d-6ba985ce2534",
   "metadata": {},
   "outputs": [],
   "source": [
    "from langchain.docstore.document import Document\n",
    "from langchain.text_splitter import CharacterTextSplitter\n",
    "from langchain.document_loaders import TextLoader\n",
    "from langchain.vectorstores import Chroma\n",
    "from langchain.embeddings import OllamaEmbeddings\n",
    "from langchain.text_splitter import RecursiveCharacterTextSplitter\n",
    "import warnings\n",
    "warnings.filterwarnings(\"ignore\")\n",
    "import pandas as pd\n",
    "import time\n"
   ]
  },
  {
   "cell_type": "code",
   "execution_count": null,
   "id": "89f4d75e-666e-4016-817e-147d5aef87b5",
   "metadata": {},
   "outputs": [],
   "source": [
    "import requests\n",
    "\n",
    "response = requests.get(\"https://www.gutenberg.org/cache/epub/64317/pg64317.txt\")"
   ]
  },
  {
   "cell_type": "code",
   "execution_count": null,
   "id": "8b1e5bb4-a08e-4556-b1f2-7f3b2d26590b",
   "metadata": {},
   "outputs": [],
   "source": [
    "book_complete_text = response.text\n",
    "book_complete_text = book_complete_text[5:]\n",
    "len(book_complete_text)"
   ]
  },
  {
   "cell_type": "code",
   "execution_count": null,
   "id": "0641baa2-7675-4683-ac94-0b2651347b3d",
   "metadata": {},
   "outputs": [],
   "source": [
    "file_path = \"./book.txt\"\n",
    "\n",
    "with open(file_path, \"w\", encoding=\"utf-8\") as f:\n",
    "    f.write(book_complete_text)"
   ]
  },
  {
   "cell_type": "code",
   "execution_count": null,
   "id": "81625d3f-c3c5-420e-9efc-a134f2d41633",
   "metadata": {},
   "outputs": [],
   "source": [
    "with open(file_path, \"r\",  encoding=\"utf-8\") as f:\n",
    "    text = f.read()\n",
    "\n",
    "text = text.replace('\\t', ' ')"
   ]
  },
  {
   "cell_type": "code",
   "execution_count": null,
   "id": "8412ce9b-a44e-4cda-a783-e31d817742c7",
   "metadata": {},
   "outputs": [],
   "source": [
    "text_splitter = RecursiveCharacterTextSplitter(separators=[\"\\n\\n\", \"\\n\", \"\\t\"], chunk_size=5000, chunk_overlap=300)\n"
   ]
  },
  {
   "cell_type": "code",
   "execution_count": null,
   "id": "de636b40-83d9-4ebc-bfd3-ae66c1895e5d",
   "metadata": {},
   "outputs": [],
   "source": [
    "documents = text_splitter.create_documents([text])\n",
    "num_documents = len(documents)\n",
    "\n",
    "print (f\"Now our book is split up into {num_documents} documents\")"
   ]
  },
  {
   "cell_type": "code",
   "execution_count": null,
   "id": "742a3740-98d2-486d-a55c-7978ea7681d6",
   "metadata": {},
   "outputs": [],
   "source": [
    "len(documents)"
   ]
  },
  {
   "cell_type": "code",
   "execution_count": null,
   "id": "1d225ddd-bb6b-4bd4-bb4d-7b0ee2dbd4eb",
   "metadata": {},
   "outputs": [],
   "source": [
    "chroma_path = \"./chroma\"\n",
    "#delete collection if this exists"
   ]
  },
  {
   "cell_type": "code",
   "execution_count": null,
   "id": "cc7d265b-5b68-4159-a925-a7f1c6be695e",
   "metadata": {},
   "outputs": [],
   "source": [
    "\n",
    "#embeddings = OllamaEmbeddings(model=\"mistral:7b\", num_gpu=1, show_progress=True)"
   ]
  },
  {
   "cell_type": "code",
   "execution_count": null,
   "id": "7500dd2c-4c99-43c8-8548-1ad32aaa6fe2",
   "metadata": {},
   "outputs": [],
   "source": [
    "embeddings2 = OllamaEmbeddings(model=\"qwen:0.5b-text\",  show_progress=True)"
   ]
  },
  {
   "cell_type": "code",
   "execution_count": null,
   "id": "353d1ecf-3743-472d-bb72-e34e4ba93e11",
   "metadata": {},
   "outputs": [],
   "source": [
    "import datetime"
   ]
  },
  {
   "cell_type": "code",
   "execution_count": null,
   "id": "c447b43b-d6dd-4f00-9815-d5812ef46bf7",
   "metadata": {},
   "outputs": [],
   "source": [
    "datetime.datetime.now()"
   ]
  },
  {
   "cell_type": "code",
   "execution_count": null,
   "id": "8a05234f-a6e5-462a-97a4-82ef9503cefb",
   "metadata": {},
   "outputs": [],
   "source": [
    "time1 = datetime.datetime.now()\n",
    "embeddings2 = OllamaEmbeddings(model=\"qwen:0.5b-text\",  show_progress=True)\n",
    "emb2 = embeddings2.embed_documents(texts=documents)\n",
    "time2 = datetime.datetime.now()"
   ]
  },
  {
   "cell_type": "code",
   "execution_count": null,
   "id": "c4db8044-38a4-40c6-b10c-99ae69bb8792",
   "metadata": {},
   "outputs": [],
   "source": [
    "(time2-time1).seconds"
   ]
  },
  {
   "cell_type": "code",
   "execution_count": null,
   "id": "a6ff01d5-be9f-4b45-9b8a-9ea41f5ac375",
   "metadata": {},
   "outputs": [],
   "source": [
    "len(emb2[0])"
   ]
  },
  {
   "cell_type": "code",
   "execution_count": null,
   "id": "3cb62bb3-9c4a-4351-acd8-8331d3b16282",
   "metadata": {},
   "outputs": [],
   "source": [
    "emb2[0]"
   ]
  },
  {
   "cell_type": "code",
   "execution_count": null,
   "id": "489a7211-f771-4754-b36a-59a0d6699bc5",
   "metadata": {},
   "outputs": [],
   "source": [
    "from sklearn.cluster import KMeans\n",
    "import numpy as np"
   ]
  },
  {
   "cell_type": "code",
   "execution_count": null,
   "id": "cf052f3d-4645-4405-a05d-39aa61d43a01",
   "metadata": {},
   "outputs": [],
   "source": [
    "n_clusters = 8"
   ]
  },
  {
   "cell_type": "code",
   "execution_count": null,
   "id": "b60bbdde-4574-45dd-b30a-c9111c77e304",
   "metadata": {},
   "outputs": [],
   "source": [
    "### Mistral 7B"
   ]
  },
  {
   "cell_type": "code",
   "execution_count": null,
   "id": "8a22dc88-5a70-4db3-9a1c-321aae1f0ee9",
   "metadata": {},
   "outputs": [],
   "source": [
    "kmeans = KMeans(n_clusters=n_clusters, random_state=42).fit(emb2)"
   ]
  },
  {
   "cell_type": "code",
   "execution_count": null,
   "id": "60616ece-cc9d-4448-a369-0b8656d1ae21",
   "metadata": {},
   "outputs": [],
   "source": [
    "kmeans.labels_"
   ]
  },
  {
   "cell_type": "code",
   "execution_count": null,
   "id": "05e1a2e8-3681-4344-8899-62c8948c137a",
   "metadata": {},
   "outputs": [],
   "source": [
    "# t-SNE (t-distributed Stochastic Neighbor Embedding) \n",
    "\n",
    "from sklearn.manifold import TSNE\n",
    "import matplotlib.pyplot as plt\n",
    "import numpy as np\n",
    "# Taking out the warnings\n",
    "import warnings\n",
    "from warnings import simplefilter\n",
    "\n",
    "# Filter out FutureWarnings\n",
    "simplefilter(action='ignore', category=FutureWarning)\n",
    "\n",
    "# Perform t-SNE and reduce to 2 dimensions\n",
    "tsne = TSNE(n_components=2, random_state=42)\n",
    "reduced_data_tsne = tsne.fit_transform(np.array(emb2))\n",
    "\n",
    "# Plot the reduced data\n",
    "plt.scatter(reduced_data_tsne[:, 0], reduced_data_tsne[:, 1], c=kmeans.labels_)\n",
    "plt.xlabel('Dimension 1')\n",
    "plt.ylabel('Dimension 2')\n",
    "plt.title('Book Embeddings Clustered')\n",
    "plt.show()"
   ]
  },
  {
   "cell_type": "code",
   "execution_count": null,
   "id": "a6ac8edd-3c77-4db4-9701-27181c3c4ce0",
   "metadata": {},
   "outputs": [],
   "source": [
    "closest_indices = []\n",
    "\n",
    "# Loop through the number of clusters you have\n",
    "for i in range(n_clusters):\n",
    "\n",
    "    # Get the list of distances from that particular cluster center\n",
    "    distances = np.linalg.norm(emb2 - kmeans.cluster_centers_[i], axis=1)\n",
    "\n",
    "    # Find the list position of the closest one (using argmin to find the smallest distance)\n",
    "    closest_index = np.argmin(distances)\n",
    "\n",
    "    # Append that position to your closest indices list\n",
    "    closest_indices.append(closest_index)\n",
    "\n",
    "selected_indices = sorted(closest_indices)\n",
    "\n",
    "selected_docs = [documents[doc] for doc in selected_indices]\n",
    "\n"
   ]
  },
  {
   "cell_type": "code",
   "execution_count": null,
   "id": "558536e0-ff61-4a69-b566-40f343214238",
   "metadata": {},
   "outputs": [],
   "source": [
    "selected_indices"
   ]
  },
  {
   "cell_type": "code",
   "execution_count": null,
   "id": "6437d371-0a15-4df1-8ef7-cd5dd8c800cb",
   "metadata": {},
   "outputs": [],
   "source": [
    "from langchain_community.llms import Ollama\n",
    "llm = Ollama(model=\"qwen:0.5b-text\")"
   ]
  },
  {
   "cell_type": "code",
   "execution_count": null,
   "id": "2ac340d3-739d-4f3c-b3fd-8d85368956d9",
   "metadata": {},
   "outputs": [],
   "source": [
    "final_text = documents[9].page_content.replace(\"\\n\", \" \")"
   ]
  },
  {
   "cell_type": "code",
   "execution_count": null,
   "id": "738c1708-7791-4d02-97d2-30f596934f0c",
   "metadata": {},
   "outputs": [],
   "source": [
    "prompt = f\"\"\"Summarize this text in 50 words \n",
    "{final_text}\"\"\""
   ]
  },
  {
   "cell_type": "code",
   "execution_count": null,
   "id": "1d394041-1e71-4330-9e8d-ff936e1e3e59",
   "metadata": {},
   "outputs": [],
   "source": [
    "len(prompt)"
   ]
  },
  {
   "cell_type": "code",
   "execution_count": null,
   "id": "5c8112a2-1ba7-4bae-b860-3ca75676519e",
   "metadata": {},
   "outputs": [],
   "source": [
    "time1 = datetime.datetime.now()\n",
    "response = llm.invoke(prompt)\n",
    "time2 = datetime.datetime.now()"
   ]
  },
  {
   "cell_type": "code",
   "execution_count": null,
   "id": "a25cc164-54f8-42ab-b5f5-cc1eb1c9ea1b",
   "metadata": {},
   "outputs": [],
   "source": [
    "(time2-time1).seconds"
   ]
  },
  {
   "cell_type": "code",
   "execution_count": null,
   "id": "11a86052-61c3-43e3-a64e-1648e0abc72f",
   "metadata": {},
   "outputs": [],
   "source": [
    "len(response)"
   ]
  },
  {
   "cell_type": "code",
   "execution_count": null,
   "id": "b00ce72f-4fdd-4ee8-9279-af367c230bd8",
   "metadata": {},
   "outputs": [],
   "source": [
    "time1 = datetime.datetime.now()\n",
    "final_text=\"\"\n",
    "for x in selected_indices:\n",
    "    txt = documents[x].page_content.replace(\"\\n\", \" \")\n",
    "    prompt = f\"\"\"Summarize this text in 50 words \n",
    "{txt}\"\"\"\n",
    "    response = llm.invoke(prompt)\n",
    "    final_text= final_text + \" \" + response\n",
    "\n",
    "\n",
    "time2 = datetime.datetime.now()"
   ]
  },
  {
   "cell_type": "code",
   "execution_count": null,
   "id": "e7f66213-6f61-4e8b-8d3a-e176718d2e72",
   "metadata": {},
   "outputs": [],
   "source": [
    "len(final_text)"
   ]
  },
  {
   "cell_type": "code",
   "execution_count": null,
   "id": "385a635c-4733-4f88-b597-9ebd5145049b",
   "metadata": {},
   "outputs": [],
   "source": [
    "(time2-time1).seconds / 60"
   ]
  },
  {
   "cell_type": "code",
   "execution_count": null,
   "id": "38b48893-b8bf-40c7-995c-27c6643dfaf6",
   "metadata": {},
   "outputs": [],
   "source": [
    "\n",
    "llm = Ollama(model=\"qwen:0.5b-text\")\n"
   ]
  },
  {
   "cell_type": "code",
   "execution_count": null,
   "id": "a9840d2b-6a58-4b81-b8f0-d07a62cb2999",
   "metadata": {},
   "outputs": [],
   "source": [
    "prompt = f\"\"\"Summarize this text in 50 words \n",
    "{final_text}\"\"\""
   ]
  },
  {
   "cell_type": "code",
   "execution_count": null,
   "id": "1e2cfb11-5845-41ca-8962-1e97a070e1bb",
   "metadata": {},
   "outputs": [],
   "source": [
    "time1 = datetime.datetime.now()\n",
    "response = llm.invoke(prompt)\n",
    "time2 = datetime.datetime.now()"
   ]
  },
  {
   "cell_type": "code",
   "execution_count": null,
   "id": "17827e93-1ac8-4cc6-8ef7-2dc8de81bc5b",
   "metadata": {},
   "outputs": [],
   "source": [
    "(time2-time1).seconds"
   ]
  },
  {
   "cell_type": "code",
   "execution_count": null,
   "id": "cb469266-f8d0-4a70-9717-ad9e1f27f26e",
   "metadata": {},
   "outputs": [],
   "source": []
  },
  {
   "cell_type": "code",
   "execution_count": null,
   "id": "811f9b53-6fa6-4a91-86b8-f6a07088d4a9",
   "metadata": {},
   "outputs": [],
   "source": [
    "### Orca Mini3B"
   ]
  },
  {
   "cell_type": "code",
   "execution_count": null,
   "id": "bf04f8fc-e529-4daf-b039-c464a9a43b56",
   "metadata": {},
   "outputs": [],
   "source": [
    "kmeans2 = KMeans(n_clusters=n_clusters, random_state=42).fit(emb2)"
   ]
  },
  {
   "cell_type": "code",
   "execution_count": null,
   "id": "fc142796-5f6b-4881-801f-a22ab7a22f5c",
   "metadata": {},
   "outputs": [],
   "source": [
    "closest_indices2 = []\n",
    "\n",
    "# Loop through the number of clusters you have\n",
    "for i in range(n_clusters):\n",
    "\n",
    "    # Get the list of distances from that particular cluster center\n",
    "    distances2 = np.linalg.norm(emb2 - kmeans2.cluster_centers_[i], axis=1)\n",
    "\n",
    "    # Find the list position of the closest one (using argmin to find the smallest distance)\n",
    "    closest_index2 = np.argmin(distances2)\n",
    "\n",
    "    # Append that position to your closest indices list\n",
    "    closest_indices2.append(closest_index2)\n",
    "\n",
    "selected_indices2 = sorted(closest_indices2)\n",
    "\n",
    "selected_docs2 = [documents[doc] for doc in selected_indices2]"
   ]
  },
  {
   "cell_type": "code",
   "execution_count": null,
   "id": "eb72b19f-1f1b-4c22-a05e-45682118e8a8",
   "metadata": {},
   "outputs": [],
   "source": [
    "selected_indices2"
   ]
  },
  {
   "cell_type": "code",
   "execution_count": null,
   "id": "baec517f-4c2c-4223-85dc-723ad45d0c1c",
   "metadata": {},
   "outputs": [],
   "source": [
    "db  = Chroma.from_documents(documents=documents,\n",
    "                                 embedding=embeddings,\n",
    "                                 collection_metadata = {\"hnsw:space\": \"cosine\"},\n",
    "                                 persist_directory=chroma_path)"
   ]
  },
  {
   "cell_type": "code",
   "execution_count": null,
   "id": "926199c2-4aea-4831-a31e-c1e5dd4e915d",
   "metadata": {},
   "outputs": [],
   "source": [
    "query = \"\"\"Lufthansa flies back to profit\n",
    "\n",
    "German airline Lufthansa has returned to profit in 2004 after posting huge losses in 2003.\n",
    "\n",
    "In a preliminary report, the airline announced net profits of 400m euros ($527.61m; £274.73m), compared with a loss of 984m euros in 2003. Operating profits were at 380m euros, ten times more than in 2003. Lufthansa was hit in 2003 by tough competition and a dip in demand following the Iraq war and the killer SARS virus. It was also hit by troubles at its US catering business. Last year, Lufthansa showed signs of recovery even as some European and US airlines were teetering on the brink of bankruptcy. The board of Lufthansa has recommended paying a 2004 dividend of 0.30 euros per share. In 2003, shareholders did not get a dividend. The company said that it will give all the details of its 2004 results on 23 March.\n",
    "\"\"\"\n",
    "docs_with_score = db.similarity_search_with_score(query, k=5)"
   ]
  },
  {
   "cell_type": "code",
   "execution_count": null,
   "id": "522580fb-d864-432d-8ff2-ac968597e839",
   "metadata": {},
   "outputs": [],
   "source": [
    "for doc, score in docs_with_score:\n",
    "    print(\"-\" * 80)\n",
    "    print(\"Score: \", score)\n",
    "    print(doc.page_content)\n",
    "    print(\"-\" * 80)\n",
    "    print(f\"Class {doc.metadata.get('classifier')}\")\n",
    "    print(\"-\" * 80)"
   ]
  },
  {
   "cell_type": "code",
   "execution_count": null,
   "id": "5ca01891-9c0a-4f1f-b155-7e983b6bf8a9",
   "metadata": {},
   "outputs": [],
   "source": [
    "db.embeddings"
   ]
  },
  {
   "cell_type": "code",
   "execution_count": null,
   "id": "758e6f61-ba94-4e2b-97eb-38a71a85b62e",
   "metadata": {},
   "outputs": [],
   "source": [
    "docs_with_score = db.similarity_search_with_relevance_scores(query, k=5)"
   ]
  },
  {
   "cell_type": "code",
   "execution_count": null,
   "id": "97380d8e-c74a-4b26-af74-45dfcdb1750f",
   "metadata": {},
   "outputs": [],
   "source": [
    "for doc, score in docs_with_score:\n",
    "    print(\"-\" * 80)\n",
    "    print(\"Score: \", score)\n",
    "    print(doc.page_content)\n",
    "    print(\"-\" * 80)\n",
    "    print(f\"Class {doc.metadata.get('classifier')}\")\n",
    "    print(\"-\" * 80)"
   ]
  },
  {
   "cell_type": "code",
   "execution_count": null,
   "id": "a46738a8-87f1-42f2-821a-7ef2513fde70",
   "metadata": {},
   "outputs": [],
   "source": []
  }
 ],
 "metadata": {
  "kernelspec": {
   "display_name": "Python 3 (ipykernel)",
   "language": "python",
   "name": "python3"
  },
  "language_info": {
   "codemirror_mode": {
    "name": "ipython",
    "version": 3
   },
   "file_extension": ".py",
   "mimetype": "text/x-python",
   "name": "python",
   "nbconvert_exporter": "python",
   "pygments_lexer": "ipython3",
   "version": "3.11.7"
  }
 },
 "nbformat": 4,
 "nbformat_minor": 5
}
