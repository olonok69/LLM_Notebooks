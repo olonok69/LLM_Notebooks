{
 "cells": [
  {
   "cell_type": "code",
   "execution_count": null,
   "id": "786f10b8",
   "metadata": {},
   "outputs": [],
   "source": [
    "!pip install pyngrok python-dotenv  -q"
   ]
  },
  {
   "cell_type": "code",
   "execution_count": null,
   "id": "34ab55df",
   "metadata": {},
   "outputs": [],
   "source": [
    "from pyngrok import ngrok, conf\n",
    "import os\n",
    "from dotenv import load_dotenv, dotenv_values"
   ]
  },
  {
   "cell_type": "code",
   "execution_count": null,
   "id": "8b91f4ca",
   "metadata": {},
   "outputs": [],
   "source": [
    "config = dotenv_values(\".env\")"
   ]
  },
  {
   "cell_type": "code",
   "execution_count": null,
   "id": "b6d2ed89",
   "metadata": {},
   "outputs": [],
   "source": [
    "conf.get_default().auth_token = config.get(\"NGROK\")"
   ]
  },
  {
   "cell_type": "code",
   "execution_count": null,
   "id": "7e2aa683",
   "metadata": {},
   "outputs": [],
   "source": [
    "public_url = ngrok.connect(8000).public_url\n",
    "print(' * ngrok tunnel \"{}\" -> \"http://127.0.0.1:{}/\"'.format(public_url, 8000))"
   ]
  },
  {
   "cell_type": "code",
   "execution_count": null,
   "id": "802fb470-b17c-49ff-b1b9-2f70f15db36e",
   "metadata": {},
   "outputs": [],
   "source": [
    "from langchain_core.messages import HumanMessage, SystemMessage\n",
    "from langchain_core.prompts.chat import (\n",
    "    ChatPromptTemplate,\n",
    "    HumanMessagePromptTemplate,\n",
    "    SystemMessagePromptTemplate,\n",
    ")\n",
    "from langchain_openai import ChatOpenAI"
   ]
  },
  {
   "cell_type": "code",
   "execution_count": null,
   "id": "6ba4969f-3ba2-4d21-ac48-ebc588cb60e1",
   "metadata": {},
   "outputs": [],
   "source": [
    "inference_server_url = \"http://localhost:8000/v1\"\n",
    "\n",
    "llm = ChatOpenAI(\n",
    "    model=\"/mnt/home/juan/models/Meta-Llama-3.1-8B-Instruct-GGUF/Meta-Llama-3.1-8B-Instruct-Q4_K_M.gguf\",\n",
    "    openai_api_key=\"EMPTY\",\n",
    "    openai_api_base=inference_server_url,\n",
    "    max_tokens=500,\n",
    "    temperature=0,\n",
    ")"
   ]
  },
  {
   "cell_type": "code",
   "execution_count": null,
   "id": "9dacd0f8-ce2d-4e91-be82-544c3268c44e",
   "metadata": {},
   "outputs": [],
   "source": [
    "messages = [\n",
    "    SystemMessage(\n",
    "        content=\"You are a helpful assistant that translates English to spanish.\"\n",
    "    ),\n",
    "    HumanMessage(\n",
    "        content=\"Translate the following sentence from English to Spanish: I love programming.\"\n",
    "    ),\n",
    "]\n",
    "msg = llm.invoke(messages)"
   ]
  },
  {
   "cell_type": "code",
   "execution_count": null,
   "id": "1c7fab91-c1ef-4405-b09e-60f18384b825",
   "metadata": {},
   "outputs": [],
   "source": [
    "print(msg.content)"
   ]
  }
 ],
 "metadata": {
  "kernelspec": {
   "display_name": "vllm",
   "language": "python",
   "name": "python3"
  },
  "language_info": {
   "codemirror_mode": {
    "name": "ipython",
    "version": 3
   },
   "file_extension": ".py",
   "mimetype": "text/x-python",
   "name": "python",
   "nbconvert_exporter": "python",
   "pygments_lexer": "ipython3",
   "version": "3.11.10"
  }
 },
 "nbformat": 4,
 "nbformat_minor": 5
}
