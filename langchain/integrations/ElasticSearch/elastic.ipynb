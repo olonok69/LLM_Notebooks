{
 "cells": [
  {
   "cell_type": "markdown",
   "id": "f41b39ba-c5a2-43f7-a6bf-30d8179c45f8",
   "metadata": {},
   "source": [
    "# Langchain <--> Elastic Search\n",
    "\n",
    "Elasticsearch is an open source distributed, RESTful search and analytics engine, scalable data store, and vector database capable of addressing a growing number of use cases. As the heart of the Elastic Stack, it centrally stores your data for lightning-fast search, fine‑tuned relevancy, and powerful analytics that scale with ease.\n",
    "Elasticsearch can store and index a variety of data, including structured and unstructured text, numerical data, and geospatial data. It's known for its ability to find queries in large-scale unstructured data\n",
    "Elasticsearch uses a search index, which is similar to an index in the back of a book, to map content to its location in a document. This allows users to quickly find information without scanning through an entire document\n",
    "\n",
    "- https://www.elastic.co/search-labs/blog/langchain-collaboration\n",
    "- https://www.elastic.co/guide/en/elasticsearch/reference/current/docker.html\n",
    "- https://python.langchain.com/docs/integrations/vectorstores/elasticsearch/\n",
    "- https://www.elastic.co/blog/elasticsearch-is-open-source-again\n"
   ]
  },
  {
   "cell_type": "code",
   "execution_count": null,
   "id": "54202443-41a9-4d26-9345-3dae7d117266",
   "metadata": {},
   "outputs": [],
   "source": [
    "! pip install -r requirements.txt -q"
   ]
  },
  {
   "cell_type": "markdown",
   "id": "b5341825-1534-4d50-9a2d-c3e28bbb444e",
   "metadata": {},
   "source": [
    "# Install ELastic Search Docker\n",
    "\n",
    "- docker network create elastic\n",
    "- docker pull docker.elastic.co/elasticsearch/elasticsearch:8.15.3\n",
    "- docker run --name es01 --net elastic -p 9200:9200 -it -m 1GB docker.elastic.co/elasticsearch/elasticsearch:8.15.3"
   ]
  },
  {
   "cell_type": "code",
   "execution_count": null,
   "id": "5ce3ca41-6a91-4b55-961b-26e3d1eaa2e6",
   "metadata": {},
   "outputs": [],
   "source": [
    "import os\n",
    "from dotenv import dotenv_values"
   ]
  },
  {
   "cell_type": "code",
   "execution_count": null,
   "id": "c1086070-63a7-41a8-80ab-b54a398764a4",
   "metadata": {},
   "outputs": [],
   "source": [
    "config = dotenv_values(\"./keys/.env\")"
   ]
  },
  {
   "cell_type": "code",
   "execution_count": null,
   "id": "0f338483-7888-4520-8b59-c77d5d033043",
   "metadata": {},
   "outputs": [],
   "source": [
    "import os, tempfile\n",
    "from langchain.prompts import PromptTemplate\n",
    "\n",
    "\n",
    "from langchain_community.document_loaders import TextLoader\n",
    "\n",
    "from langchain.chains import ConversationalRetrievalChain, RetrievalQA\n",
    "\n",
    "from langchain_text_splitters import CharacterTextSplitter\n",
    "from langchain_google_genai import ChatGoogleGenerativeAI, GoogleGenerativeAIEmbeddings\n",
    "from langchain_community.document_loaders import PyPDFLoader\n",
    "from google.oauth2 import service_account\n",
    "from dotenv import dotenv_values\n",
    "import json\n",
    "import vertexai\n",
    " \n",
    "import itertools\n",
    "import time\n"
   ]
  },
  {
   "cell_type": "code",
   "execution_count": null,
   "id": "7433e972-08db-4a8b-9037-b66eac9ffc2c",
   "metadata": {},
   "outputs": [],
   "source": [
    "config = dotenv_values(\"./keys/.env\")\n",
    "with open(\"./keys/complete-tube-421007-208a4862c992.json\") as source:\n",
    "    info = json.load(source)\n",
    "\n",
    "vertex_credentials = service_account.Credentials.from_service_account_info(info)\n",
    "vertexai.init(\n",
    "    project=config[\"PROJECT\"],\n",
    "    location=config[\"REGION\"],\n",
    "    credentials=vertex_credentials,\n",
    ")\n",
    "google_api_key = config[\"GEMINI-API-KEY\"]\n",
    "os.environ[\"GEMINI_API_KEY\"] = google_api_key"
   ]
  },
  {
   "cell_type": "code",
   "execution_count": null,
   "id": "8aedd986-e586-4539-86d0-0d62509caccd",
   "metadata": {},
   "outputs": [],
   "source": [
    "ROOT= os.getcwd()\n",
    "ROOT"
   ]
  },
  {
   "cell_type": "code",
   "execution_count": null,
   "id": "cbd95317-ac09-457f-bc1c-ebdddd189918",
   "metadata": {},
   "outputs": [],
   "source": [
    "embeddings = GoogleGenerativeAIEmbeddings(\n",
    "                        model=\"models/embedding-001\",\n",
    "                        credentials=vertex_credentials,\n",
    "                        google_api_key=google_api_key,\n",
    "                    )"
   ]
  },
  {
   "cell_type": "code",
   "execution_count": null,
   "id": "a35cdd2a-3742-4778-ad93-9d042c7c4640",
   "metadata": {},
   "outputs": [],
   "source": [
    "from langchain_elasticsearch import ElasticsearchStore\n",
    "\n",
    "elastic_vector_search = ElasticsearchStore(\n",
    "    es_url=\"http://localhost:9200\",\n",
    "    index_name=\"langchain_index\",\n",
    "    embedding=embeddings,\n",
    "    es_user=\"elastic\",\n",
    "    es_password=\"changeme\",\n",
    ")"
   ]
  },
  {
   "cell_type": "code",
   "execution_count": null,
   "id": "6cc8e0c6-569b-43d9-8e06-65fb5c97b631",
   "metadata": {},
   "outputs": [],
   "source": [
    "from langchain_elasticsearch import ElasticsearchStore\n",
    "\n",
    "vector_store = ElasticsearchStore(\n",
    "    \"langchain-demo\", embedding=embeddings, es_url=\"http://localhost:9200\"\n",
    ")"
   ]
  },
  {
   "cell_type": "code",
   "execution_count": null,
   "id": "d3028c05-1544-4744-815b-052c40dea794",
   "metadata": {},
   "outputs": [],
   "source": [
    "mypath = \"./docs\"\n",
    "onlyfiles = [f for f in os.listdir(mypath) if os.path.isfile(os.path.join(mypath, f))]\n",
    "onlyfiles"
   ]
  },
  {
   "cell_type": "code",
   "execution_count": null,
   "id": "87be801b-04dc-4baf-bdaf-51ef944d96ae",
   "metadata": {},
   "outputs": [],
   "source": [
    "def load_file(path):\n",
    "    # load pdf file and transform into Langchain Documents\n",
    "    loader = PyPDFLoader(path)\n",
    "    pages = loader.load_and_split()\n",
    "    return pages\n",
    "\n",
    "path = os.path.join(\"docs\", onlyfiles[0])\n",
    "pages = load_file(path)"
   ]
  },
  {
   "cell_type": "code",
   "execution_count": null,
   "id": "fec18609-8c73-4da0-8151-0c8b00d67649",
   "metadata": {},
   "outputs": [],
   "source": [
    "pages[0]"
   ]
  },
  {
   "cell_type": "code",
   "execution_count": null,
   "id": "3d2adb7c-8538-493b-87d5-54e0df6f9eda",
   "metadata": {},
   "outputs": [],
   "source": [
    "len(pages)"
   ]
  },
  {
   "cell_type": "code",
   "execution_count": null,
   "id": "ec5added-9e5b-495b-b4d4-b400d7d12192",
   "metadata": {},
   "outputs": [],
   "source": [
    "from uuid import uuid4\n",
    "\n",
    "from langchain_core.documents import Document"
   ]
  },
  {
   "cell_type": "code",
   "execution_count": null,
   "id": "1192ce56-c938-4a3d-b897-ce85b7d40181",
   "metadata": {},
   "outputs": [],
   "source": [
    "uuids = [str(uuid4()) for _ in range(len(pages))]\n",
    "\n",
    "vector_store.add_documents(documents=pages, ids=uuids)"
   ]
  },
  {
   "cell_type": "code",
   "execution_count": null,
   "id": "940f021b-dcad-4379-a81d-b626d3576c4e",
   "metadata": {},
   "outputs": [],
   "source": [
    "retriever = vector_store.as_retriever(\n",
    "                        search_kwargs={\"k\": 5})"
   ]
  },
  {
   "cell_type": "code",
   "execution_count": null,
   "id": "6b597b09-012b-4f71-8d62-2486400a3a84",
   "metadata": {},
   "outputs": [],
   "source": [
    "llm = ChatGoogleGenerativeAI(\n",
    "                    model=\"gemini-1.5-pro-001\", credentials=vertex_credentials\n",
    "                )"
   ]
  },
  {
   "cell_type": "code",
   "execution_count": null,
   "id": "e00da3c9-6990-407a-862a-2c4c0e7d0101",
   "metadata": {},
   "outputs": [],
   "source": [
    "from langchain.chains import ConversationalRetrievalChain, RetrievalQA\n",
    "# filter={\"source\" :\"docs\\\\Baremo 2015.pdf\"}\n",
    "chain = ConversationalRetrievalChain.from_llm(llm, retriever=retriever, return_source_documents=True)"
   ]
  },
  {
   "cell_type": "code",
   "execution_count": null,
   "id": "33037d57-62d7-4863-bc3f-5eb2c5bc7fdc",
   "metadata": {},
   "outputs": [],
   "source": [
    "chat_history = []\n",
    "\n",
    "query = \"\"\"Provide Main Details of the company Aardvark Constructions Limited. Including following details:\n",
    "Name:\n",
    "Country:\n",
    "Company Number:\n",
    "Incorporated:\n",
    "Company Type:\n",
    "Company Status:\n",
    "Primary Addresses Registered Office:\n",
    "Accounting Dates:\n",
    "Confirmation Statement:\n",
    "\"\"\"\n",
    "result = chain.invoke({\"question\": query, \"chat_history\": chat_history})\n",
    "\n",
    "print(result['answer'])"
   ]
  },
  {
   "cell_type": "code",
   "execution_count": null,
   "id": "ef380307-61d1-4c5d-81b1-0cd4d27a5a59",
   "metadata": {},
   "outputs": [],
   "source": [
    "result.keys()"
   ]
  },
  {
   "cell_type": "code",
   "execution_count": null,
   "id": "13fc9766-67c8-4f5b-9347-63a5b035a7c2",
   "metadata": {},
   "outputs": [],
   "source": [
    "len(result[\"source_documents\"])"
   ]
  },
  {
   "cell_type": "code",
   "execution_count": null,
   "id": "04634aca-a99a-478e-a773-e7c3e21d3196",
   "metadata": {},
   "outputs": [],
   "source": [
    "chat_history = [(query, result[\"answer\"])]"
   ]
  },
  {
   "cell_type": "code",
   "execution_count": null,
   "id": "95929096-52d1-4038-80ed-e557ad29a174",
   "metadata": {},
   "outputs": [],
   "source": [
    "query2 = \"\"\"From Management Details extract:\n",
    "Managed By:\n",
    "Managed By Email:\n",
    "\"\"\"\n",
    "result = chain.invoke({\"question\": query2, \"chat_history\": chat_history})\n",
    "print(result['answer'])"
   ]
  },
  {
   "cell_type": "code",
   "execution_count": null,
   "id": "a32632ef-ae00-465d-b584-f193110953a8",
   "metadata": {},
   "outputs": [],
   "source": [
    "chat_history.append((query2, result[\"answer\"]))\n",
    "chat_history"
   ]
  },
  {
   "cell_type": "code",
   "execution_count": null,
   "id": "d6343330-18f4-40cc-a7b9-12360c210ada",
   "metadata": {},
   "outputs": [],
   "source": [
    "query3 = \"\"\"Past Names of the Company with their period \"\"\"\n",
    "result = chain.invoke({\"question\": query3 ,\"chat_history\": chat_history})\n",
    "print(result['answer'])"
   ]
  },
  {
   "cell_type": "code",
   "execution_count": null,
   "id": "bd571421-57cd-426c-bd9a-af96f5f4169d",
   "metadata": {},
   "outputs": [],
   "source": [
    "chat_history.append((query3, result[\"answer\"]))\n",
    "chat_history"
   ]
  },
  {
   "cell_type": "code",
   "execution_count": null,
   "id": "1863d091-b13f-4dad-9498-47a0d0394c11",
   "metadata": {},
   "outputs": [],
   "source": [
    "query4 = \"\"\"Appointments Board Positions\"\"\"\n",
    "result = chain.invoke({\"question\": query4 ,\"chat_history\": chat_history})\n",
    "print(result['answer'])"
   ]
  },
  {
   "cell_type": "code",
   "execution_count": null,
   "id": "f65ccc08-8f17-4391-afa7-3c81a6b1d83e",
   "metadata": {},
   "outputs": [],
   "source": []
  }
 ],
 "metadata": {
  "kernelspec": {
   "display_name": "Python 3 (ipykernel)",
   "language": "python",
   "name": "python3"
  },
  "language_info": {
   "codemirror_mode": {
    "name": "ipython",
    "version": 3
   },
   "file_extension": ".py",
   "mimetype": "text/x-python",
   "name": "python",
   "nbconvert_exporter": "python",
   "pygments_lexer": "ipython3",
   "version": "3.10.15"
  }
 },
 "nbformat": 4,
 "nbformat_minor": 5
}
