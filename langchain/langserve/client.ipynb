{
 "cells": [
  {
   "cell_type": "markdown",
   "id": "ff0fd7a4-9324-49a6-bce3-4c2e34520443",
   "metadata": {},
   "source": [
    "### Langserve  Introduction\n",
    "LangServe helps developers deploy LangChain runnables and chains as a REST API.\n",
    "<br>\n",
    "\n",
    "This library is integrated with FastAPI and uses pydantic for data validation<br>\n",
    "\n",
    "\n",
    "https://github.com/langchain-ai/langserve/tree/mai<br>\n",
    "packages.txt review for necessary libraries\n",
    "<br>\n",
    "### Install\n",
    "\n",
    "pip install \"langserve[all]\"\n",
    "\n",
    "### FastAPI\n",
    "https://fastapi.tiangolo.com/\n",
    "\n",
    "FastAPI is a modern, fast (high-performance), web framework for building APIs with Python 3.8+ based on standard Python type hints.\n",
    "\n",
    "### Pydantic\n",
    "https://docs.pydantic.dev/latest/\n",
    "\n",
    "Pydantic is the most widely used data validation library for Python.\n",
    "\n",
    "### Anthropic\n",
    "https://www.anthropic.com/api\n",
    "\n"
   ]
  },
  {
   "cell_type": "code",
   "execution_count": null,
   "id": "f41ba5fe-d70b-40c1-bf13-a202fb301c7e",
   "metadata": {},
   "outputs": [],
   "source": [
    "import uuid\n",
    "from langserve import RemoteRunnable\n",
    "\n",
    "conversation_id = str(uuid.uuid4())\n",
    "chat = RemoteRunnable(\"http://localhost:8000/\", cookies={\"user_id\": \"olonok\"})"
   ]
  },
  {
   "cell_type": "code",
   "execution_count": null,
   "id": "e34ea68b-0fd5-4c2a-b3e1-c08f9255d603",
   "metadata": {},
   "outputs": [],
   "source": [
    "conversation_id"
   ]
  },
  {
   "cell_type": "code",
   "execution_count": null,
   "id": "19cdd4c2-448a-4846-a0f5-965c7e44621d",
   "metadata": {},
   "outputs": [],
   "source": [
    "chat.invoke({\"human_input\": \"my name is olonok. what is your name?\"}, {'configurable': { 'conversation_id': conversation_id } })\n"
   ]
  },
  {
   "cell_type": "code",
   "execution_count": null,
   "id": "13bf2e64-f302-4ca1-a926-b8e025a5c740",
   "metadata": {},
   "outputs": [],
   "source": [
    "chat.invoke({\"human_input\": \"what was my name?\"}, {'configurable': { 'conversation_id': conversation_id } })"
   ]
  },
  {
   "cell_type": "code",
   "execution_count": null,
   "id": "7b357ab6-625d-4b82-87e3-f3e182b21963",
   "metadata": {},
   "outputs": [],
   "source": [
    "# USe another userId"
   ]
  },
  {
   "cell_type": "code",
   "execution_count": null,
   "id": "209d60c0-96b2-4e33-bb7e-7c299bec4c56",
   "metadata": {},
   "outputs": [],
   "source": [
    "chat = RemoteRunnable(\"http://localhost:8000/\", cookies={\"user_id\": \"pajaro\"})"
   ]
  },
  {
   "cell_type": "code",
   "execution_count": null,
   "id": "706340e3-6527-473e-9a55-f51f0ab78e01",
   "metadata": {},
   "outputs": [],
   "source": [
    "\n",
    "chat.invoke({\"human_input\": \"Como me llamo?\"}, {'configurable': { 'conversation_id': conversation_id }})"
   ]
  },
  {
   "cell_type": "code",
   "execution_count": null,
   "id": "135dce0d-a42f-4f8b-9e60-5a614fb4b02a",
   "metadata": {},
   "outputs": [],
   "source": [
    "for chunk in chat.stream({'human_input': \"Can you tell me the days of the week in German?\"},  {'configurable': { 'conversation_id': conversation_id } }):\n",
    "    print()\n",
    "    print(chunk.content, end='', flush=True)"
   ]
  },
  {
   "cell_type": "code",
   "execution_count": null,
   "id": "07386e69-e501-4cb0-b59c-cef677bb641a",
   "metadata": {},
   "outputs": [],
   "source": [
    "conversation_id"
   ]
  },
  {
   "cell_type": "code",
   "execution_count": null,
   "id": "1b113ad4-cbc1-470f-a7f7-3240a4832c03",
   "metadata": {},
   "outputs": [],
   "source": [
    "!tree chat_histories/"
   ]
  },
  {
   "cell_type": "code",
   "execution_count": null,
   "id": "f51615a3-b9f4-43a3-b675-71d0570265a9",
   "metadata": {},
   "outputs": [],
   "source": [
    "import json"
   ]
  },
  {
   "cell_type": "code",
   "execution_count": null,
   "id": "9d388051-6e1c-4255-b3fe-a4405070d47e",
   "metadata": {},
   "outputs": [],
   "source": [
    "with open(\"chat_histories/olonok/4ed45ab3-a34b-40cc-bebe-7226389668c9.json\", \"r\") as f:\n",
    "    c = json.load(f)"
   ]
  },
  {
   "cell_type": "code",
   "execution_count": null,
   "id": "00c74739-88ed-4d64-ae38-ed16f73c7548",
   "metadata": {},
   "outputs": [],
   "source": [
    "c"
   ]
  },
  {
   "cell_type": "code",
   "execution_count": null,
   "id": "3768f643-ee63-49ac-8d08-f00be91db336",
   "metadata": {},
   "outputs": [],
   "source": [
    "with open(\"chat_histories/pajaro/4ed45ab3-a34b-40cc-bebe-7226389668c9.json\", \"r\") as f:\n",
    "    d = json.load(f)"
   ]
  },
  {
   "cell_type": "code",
   "execution_count": null,
   "id": "0b5a1c86-cee0-434c-97cc-cb595caba0f8",
   "metadata": {},
   "outputs": [],
   "source": [
    "d"
   ]
  },
  {
   "cell_type": "code",
   "execution_count": null,
   "id": "53399d77-522d-4667-a98a-fa37347ef953",
   "metadata": {},
   "outputs": [],
   "source": [
    "from langchain.schema import SystemMessage, HumanMessage\n",
    "from langchain.prompts import ChatPromptTemplate\n",
    "from langchain.schema.runnable import RunnableMap\n",
    "from langserve import RemoteRunnable\n",
    "\n",
    "openai = RemoteRunnable(\"http://localhost:8000/openai/\")\n",
    "anthropic = RemoteRunnable(\"http://localhost:8000/anthropic/\")\n",
    "joke_chain = RemoteRunnable(\"http://localhost:8000/joke/\")\n",
    "\n",
    "#joke_chain.invoke({\"topic\": \"parrots\"})\n",
    "\n",
    "# or async\n",
    "await joke_chain.ainvoke({\"topic\": \"parrots\"})\n",
    "\n"
   ]
  },
  {
   "cell_type": "code",
   "execution_count": null,
   "id": "da388fed-73d3-4499-a4e1-4fcdc3fd7b57",
   "metadata": {},
   "outputs": [],
   "source": [
    "prompt = [\n",
    "    SystemMessage(content='Act like either a cat or a parrot.'),\n",
    "    HumanMessage(content='Hello!')\n",
    "]\n",
    "\n",
    "# Supports astream\n",
    "async for msg in anthropic.astream(prompt):\n",
    "    print(msg, end=\"\", flush=True)\n",
    "\n"
   ]
  },
  {
   "cell_type": "code",
   "execution_count": null,
   "id": "e777dade-40a7-4833-ae32-8db9711fda76",
   "metadata": {},
   "outputs": [],
   "source": [
    "prompt = ChatPromptTemplate.from_messages(\n",
    "    [(\"human\", \"Tell me a long story about {topic}\")]\n",
    ")\n",
    "\n",
    "# Can define custom chains\n",
    "chain = prompt | RunnableMap({\n",
    "    \"openai\": openai,\n",
    "     \"anthropic\": anthropic,\n",
    "})\n",
    "\n",
    "chain.batch([{\"topic\": \"parrots\"}, {\"topic\": \"cats\"}])"
   ]
  },
  {
   "cell_type": "code",
   "execution_count": null,
   "id": "c22239a1-66d3-4746-80ef-956f5c80b30a",
   "metadata": {},
   "outputs": [],
   "source": [
    "import requests\n",
    "\n",
    "response = requests.post(\n",
    "    \"http://localhost:8000/joke/invoke\",\n",
    "    json={'input': {'topic': 'taxi-drivers'}}\n",
    ")\n",
    "response.json()"
   ]
  },
  {
   "cell_type": "code",
   "execution_count": null,
   "id": "87f5f7c6-04b7-4ed5-aa5d-7515b55c7c11",
   "metadata": {},
   "outputs": [],
   "source": []
  }
 ],
 "metadata": {
  "kernelspec": {
   "display_name": "Python (azure_ml)",
   "language": "python",
   "name": "azure_ml"
  },
  "language_info": {
   "codemirror_mode": {
    "name": "ipython",
    "version": 3
   },
   "file_extension": ".py",
   "mimetype": "text/x-python",
   "name": "python",
   "nbconvert_exporter": "python",
   "pygments_lexer": "ipython3",
   "version": "3.11.8"
  }
 },
 "nbformat": 4,
 "nbformat_minor": 5
}
