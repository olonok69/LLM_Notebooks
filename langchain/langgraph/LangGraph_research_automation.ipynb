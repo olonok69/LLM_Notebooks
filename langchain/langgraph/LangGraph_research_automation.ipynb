{
  "cells": [
    {
      "cell_type": "markdown",
      "metadata": {
        "colab_type": "text",
        "id": "view-in-github"
      },
      "source": [
        "<a href=\"https://colab.research.google.com/github/olonok69/LLM_Notebooks/blob/main/langchain/langgraph/LangGraph_research_automation.ipynb\" target=\"_parent\"><img src=\"https://colab.research.google.com/assets/colab-badge.svg\" alt=\"Open In Colab\"/></a>"
      ]
    },
    {
      "cell_type": "markdown",
      "id": "e0a5763f-5f45-4b8f-b3e2-480f46c5721b",
      "metadata": {
        "id": "e0a5763f-5f45-4b8f-b3e2-480f46c5721b"
      },
      "source": [
        "# Research Assistant\n",
        "\n",
        "## Topics\n",
        "\n",
        "* Memory\n",
        "* Human-in-the-loop\n",
        "* Controllability\n",
        "\n",
        "### research automation.\n",
        "\n",
        "Research is often laborious work offloaded to analysts. AI has considerable potential to assist with this.\n",
        "\n",
        "However, research demands customization: raw LLM outputs are often poorly suited for real-world decision-making workflows.\n",
        "\n",
        "Customized, AI-based [research and report generation](https://jxnl.co/writing/2024/06/05/predictions-for-the-future-of-rag/#reports-over-rag) workflows are a promising way to address this.\n",
        "\n",
        "## Goal\n",
        "\n",
        "Our goal is to build a lightweight, multi-agent system around chat models that customizes the research process.\n",
        "\n",
        "`Source Selection`\n",
        "* Users can choose any set of input sources for their research.\n",
        "  \n",
        "`Planning`\n",
        "* Users provide a topic, and the system generates a team of AI analysts, each focusing on one sub-topic.\n",
        "* `Human-in-the-loop` will be used to refine these sub-topics before research begins.\n",
        "  \n",
        "`LLM Utilization`\n",
        "* Each analyst will conduct in-depth interviews with an expert AI using the selected sources.\n",
        "* The interview will be a multi-turn conversation to extract detailed insights as shown in the [STORM](https://github.com/langchain-ai/langgraph/blob/main/docs/docs/tutorials/storm/storm.ipynb) paper.\n",
        "* These interviews will be captured in a using `sub-graphs` with their internal state.\n",
        "   \n",
        "`Research Process`\n",
        "* Experts will gather information to answer analyst questions in `parallel`.\n",
        "* And all interviews will be conducted simultaneously through `map-reduce`.\n",
        "\n",
        "`Output Format`\n",
        "* The gathered insights from each interview will be synthesized into a final report.\n",
        "* We'll use customizable prompts for the report, allowing for a flexible output format.\n",
        "\n",
        "![Screenshot 2024-08-26 at 7.26.33 PM.png](https://cdn.prod.website-files.com/65b8cd72835ceeacd4449a53/66dbb164d61c93d48e604091_research-assistant1.png)"
      ]
    },
    {
      "cell_type": "code",
      "execution_count": null,
      "id": "f23991e9-51b3-4e9f-86a0-dec16aa7d1e6",
      "metadata": {
        "id": "f23991e9-51b3-4e9f-86a0-dec16aa7d1e6",
        "scrolled": true
      },
      "outputs": [],
      "source": [
        "%%capture --no-stderr\n",
        "%pip install --quiet -U langgraph langchain_openai langchain_community langchain_core tavily-python wikipedia langchain-google-genai google-cloud-aiplatform"
      ]
    },
    {
      "cell_type": "code",
      "execution_count": null,
      "id": "Gd4eUKg6POo_",
      "metadata": {
        "id": "Gd4eUKg6POo_"
      },
      "outputs": [],
      "source": [
        "!pip install semanticscholar  xmltodict -q"
      ]
    },
    {
      "cell_type": "markdown",
      "id": "99a1c01d-87e1-4723-b83e-ebcf937fe914",
      "metadata": {
        "id": "99a1c01d-87e1-4723-b83e-ebcf937fe914"
      },
      "source": [
        "## Setup"
      ]
    },
    {
      "cell_type": "code",
      "execution_count": null,
      "id": "ba917800-10e4-4e2a-8e9e-30893b731e97",
      "metadata": {
        "id": "ba917800-10e4-4e2a-8e9e-30893b731e97"
      },
      "outputs": [],
      "source": [
        "import os, getpass\n",
        "from google.colab import userdata\n",
        "def _set_env(var: str):\n",
        "    if not os.environ.get(var):\n",
        "        os.environ[var] = getpass.getpass(f\"{var}: \")\n",
        "\n",
        "#_set_env(\"OPENAI_API_KEY\")"
      ]
    },
    {
      "cell_type": "code",
      "execution_count": null,
      "id": "SeTMeE0j1Yl1",
      "metadata": {
        "id": "SeTMeE0j1Yl1"
      },
      "outputs": [],
      "source": [
        "if \"GEMINI_API_KEY\" not in os.environ:\n",
        "    os.environ[\"GEMINI_API_KEY\"] = userdata.get('GEMINI_API_KEY')\n",
        "if \"OPENAI_API_KEY\" not in os.environ:\n",
        "    os.environ[\"OPENAI_API_KEY\"] = userdata.get('KEY_OPENAI')"
      ]
    },
    {
      "cell_type": "code",
      "execution_count": null,
      "id": "afe9ff57-0826-4669-b88b-4d0501a509f5",
      "metadata": {
        "id": "afe9ff57-0826-4669-b88b-4d0501a509f5"
      },
      "outputs": [],
      "source": [
        "from langchain_openai import ChatOpenAI\n",
        "llm = ChatOpenAI(model=\"gpt-4o\", temperature=0, max_completion_tokens=8092)"
      ]
    },
    {
      "cell_type": "code",
      "execution_count": null,
      "id": "Ck2Hm9sc17vK",
      "metadata": {
        "id": "Ck2Hm9sc17vK"
      },
      "outputs": [],
      "source": [
        "from langchain_google_genai import ChatGoogleGenerativeAI, GoogleGenerativeAIEmbeddings"
      ]
    },
    {
      "cell_type": "code",
      "execution_count": null,
      "id": "dfDropQx2EzB",
      "metadata": {
        "id": "dfDropQx2EzB"
      },
      "outputs": [],
      "source": [
        "#llm = ChatGoogleGenerativeAI(model=\"gemini-1.5-flash-002\")"
      ]
    },
    {
      "cell_type": "markdown",
      "id": "3419257b-2c6b-4d68-ae38-4a266cc02982",
      "metadata": {
        "id": "3419257b-2c6b-4d68-ae38-4a266cc02982"
      },
      "source": [
        "We'll use [LangSmith](https://docs.smith.langchain.com/) for [tracing](https://docs.smith.langchain.com/concepts/tracing)."
      ]
    },
    {
      "cell_type": "code",
      "execution_count": null,
      "id": "5102cf2e-0ca9-465b-9499-67abb8132e5d",
      "metadata": {
        "id": "5102cf2e-0ca9-465b-9499-67abb8132e5d"
      },
      "outputs": [],
      "source": [
        "#_set_env(\"LANGCHAIN_API_KEY\")\n",
        "if \"LANGCHAIN_API_KEY\" not in os.environ:\n",
        "    os.environ[\"LANGCHAIN_API_KEY\"] = userdata.get('LANGCHAIN_API_KEY')\n",
        "os.environ[\"LANGCHAIN_TRACING_V2\"] = \"true\"\n",
        "os.environ[\"LANGCHAIN_PROJECT\"] = \"langchain-research\""
      ]
    },
    {
      "cell_type": "markdown",
      "id": "f8fe5d93-e353-44bb-be3e-434654bcb7ea",
      "metadata": {
        "id": "f8fe5d93-e353-44bb-be3e-434654bcb7ea"
      },
      "source": [
        "## Generate Analysts: Human-In-The-Loop\n",
        "\n",
        "A single shared state makes the process easier to observe, interrupt and modify. Which is very important for complex LLM applications, where some amount of human supervision/approval/editing can be the difference between a toy and a deployment useful in the real world\n",
        "\n",
        "Create analysts and review them using human-in-the-loop.\n",
        "\n",
        "https://blog.langchain.dev/human-in-the-loop-with-opengpts-and-langgraph/\n",
        "\n"
      ]
    },
    {
      "cell_type": "code",
      "execution_count": null,
      "id": "1eee8e60-e548-49b1-88ec-a4f3aef2174e",
      "metadata": {
        "id": "1eee8e60-e548-49b1-88ec-a4f3aef2174e"
      },
      "outputs": [],
      "source": [
        "from typing import List\n",
        "from typing_extensions import TypedDict\n",
        "from pydantic import BaseModel, Field\n",
        "\n",
        "class Analyst(BaseModel):\n",
        "    affiliation: str = Field(\n",
        "        description=\"Primary affiliation of the analyst.\",\n",
        "    )\n",
        "    name: str = Field(\n",
        "        description=\"Name of the analyst.\"\n",
        "    )\n",
        "    role: str = Field(\n",
        "        description=\"Role of the analyst in the context of the topic.\",\n",
        "    )\n",
        "    description: str = Field(\n",
        "        description=\"Description of the analyst focus, concerns, and motives.\",\n",
        "    )\n",
        "    @property\n",
        "    def persona(self) -> str:\n",
        "        return f\"Name: {self.name}\\nRole: {self.role}\\nAffiliation: {self.affiliation}\\nDescription: {self.description}\\n\"\n",
        "\n",
        "class Perspectives(BaseModel):\n",
        "    analysts: List[Analyst] = Field(\n",
        "        description=\"Comprehensive list of analysts with their roles and affiliations.\",\n",
        "    )\n",
        "\n",
        "class GenerateAnalystsState(TypedDict):\n",
        "    topic: str # Research topic\n",
        "    max_analysts: int # Number of analysts\n",
        "    human_analyst_feedback: str # Human feedback\n",
        "    analysts: List[Analyst] # Analyst asking questions"
      ]
    },
    {
      "cell_type": "code",
      "execution_count": null,
      "id": "fd088ff5-4c75-412c-85f0-04afd0900bfc",
      "metadata": {
        "colab": {
          "base_uri": "https://localhost:8080/",
          "height": 392
        },
        "id": "fd088ff5-4c75-412c-85f0-04afd0900bfc",
        "outputId": "7e02ca53-40ee-425c-b0c4-4ed2885d2e7d"
      },
      "outputs": [],
      "source": [
        "from IPython.display import Image, display\n",
        "from langgraph.graph import START, END, StateGraph\n",
        "from langgraph.checkpoint.memory import MemorySaver\n",
        "from langchain_core.messages import AIMessage, HumanMessage, SystemMessage\n",
        "\n",
        "analyst_instructions=\"\"\"You are tasked with creating a set of AI analyst personas. Follow these instructions carefully:\n",
        "\n",
        "1. First, review the research topic:\n",
        "{topic}\n",
        "\n",
        "2. Examine any editorial feedback that has been optionally provided to guide creation of the analysts:\n",
        "\n",
        "{human_analyst_feedback}\n",
        "\n",
        "3. Determine the most interesting themes based upon documents and / or feedback above.\n",
        "\n",
        "4. Pick the top {max_analysts} themes.\n",
        "\n",
        "5. Assign one analyst to each theme.\"\"\"\n",
        "\n",
        "def create_analysts(state: GenerateAnalystsState):\n",
        "\n",
        "    \"\"\" Create analysts \"\"\"\n",
        "\n",
        "    topic=state['topic']\n",
        "    max_analysts=state['max_analysts']\n",
        "    human_analyst_feedback=state.get('human_analyst_feedback', '')\n",
        "\n",
        "    # Enforce structured output\n",
        "    structured_llm = llm.with_structured_output(Perspectives)\n",
        "\n",
        "    # System message\n",
        "    system_message = analyst_instructions.format(topic=topic,\n",
        "                                                            human_analyst_feedback=human_analyst_feedback,\n",
        "                                                            max_analysts=max_analysts)\n",
        "\n",
        "    # Generate question\n",
        "    analysts = structured_llm.invoke([SystemMessage(content=system_message)]+[HumanMessage(content=\"Generate the set of analysts.\")])\n",
        "\n",
        "    # Write the list of analysis to state\n",
        "    return {\"analysts\": analysts.analysts}\n",
        "\n",
        "def human_feedback(state: GenerateAnalystsState):\n",
        "    \"\"\" No-op node that should be interrupted on \"\"\"\n",
        "    pass\n",
        "\n",
        "def should_continue(state: GenerateAnalystsState):\n",
        "    \"\"\" Return the next node to execute \"\"\"\n",
        "\n",
        "    # Check if human feedback\n",
        "    human_analyst_feedback=state.get('human_analyst_feedback', None)\n",
        "    if human_analyst_feedback:\n",
        "        return \"create_analysts\"\n",
        "\n",
        "    # Otherwise end\n",
        "    return END\n",
        "\n",
        "# Add nodes and edges\n",
        "builder = StateGraph(GenerateAnalystsState)\n",
        "builder.add_node(\"create_analysts\", create_analysts)\n",
        "builder.add_node(\"human_feedback\", human_feedback)\n",
        "builder.add_edge(START, \"create_analysts\")\n",
        "builder.add_edge(\"create_analysts\", \"human_feedback\")\n",
        "builder.add_conditional_edges(\"human_feedback\", should_continue, [\"create_analysts\", END])\n",
        "\n",
        "# Compile\n",
        "memory = MemorySaver()\n",
        "graph = builder.compile(interrupt_before=['human_feedback'], checkpointer=memory)\n",
        "\n",
        "# View\n",
        "display(Image(graph.get_graph(xray=1).draw_mermaid_png()))"
      ]
    },
    {
      "cell_type": "code",
      "execution_count": null,
      "id": "6c22cb05-c436-4358-8f7a-72d722f9b5cc",
      "metadata": {
        "colab": {
          "base_uri": "https://localhost:8080/"
        },
        "id": "6c22cb05-c436-4358-8f7a-72d722f9b5cc",
        "outputId": "3cbb5f30-7ae6-41ea-df6d-d7a423c01530"
      },
      "outputs": [],
      "source": [
        "# Input\n",
        "max_analysts = 3\n",
        "topic = \"Rare diseases in children\"#\"Prevention of cardiovascular conditions\"\n",
        "thread = {\"configurable\": {\"thread_id\": \"1\"}}\n",
        "\n",
        "# Run the graph until the first interruption\n",
        "for event in graph.stream({\"topic\":topic,\"max_analysts\":max_analysts,}, thread, stream_mode=\"values\"):\n",
        "    # Review\n",
        "    analysts = event.get('analysts', '')\n",
        "    if analysts:\n",
        "        for analyst in analysts:\n",
        "            print(f\"Name: {analyst.name}\")\n",
        "            print(f\"Affiliation: {analyst.affiliation}\")\n",
        "            print(f\"Role: {analyst.role}\")\n",
        "            print(f\"Description: {analyst.description}\")\n",
        "            print(\"-\" * 50)"
      ]
    },
    {
      "cell_type": "code",
      "execution_count": null,
      "id": "2f81ad23-5656-43e6-b50a-0d7a4f69a60a",
      "metadata": {
        "colab": {
          "base_uri": "https://localhost:8080/"
        },
        "id": "2f81ad23-5656-43e6-b50a-0d7a4f69a60a",
        "outputId": "5235f40a-f8b8-4e6c-af0e-04d91e4aaa8f"
      },
      "outputs": [],
      "source": [
        "# Get state and look at next node\n",
        "state = graph.get_state(thread)\n",
        "state.next"
      ]
    },
    {
      "cell_type": "code",
      "execution_count": null,
      "id": "72b2a402-fd10-4f26-9a32-3e3c0d4aaf76",
      "metadata": {
        "colab": {
          "base_uri": "https://localhost:8080/"
        },
        "id": "72b2a402-fd10-4f26-9a32-3e3c0d4aaf76",
        "outputId": "205ee5b0-fdac-4684-d30f-4c2c9bde7d12"
      },
      "outputs": [],
      "source": [
        "# We now update the state as if we are the human_feedback node\n",
        "graph.update_state(thread, {\"human_analyst_feedback\":\n",
        "                            \"Add in someone with a Pharmaceutical Research background\"}, as_node=\"human_feedback\")"
      ]
    },
    {
      "cell_type": "code",
      "execution_count": null,
      "id": "b8816eb9-9906-441b-b552-be71107db14f",
      "metadata": {
        "colab": {
          "base_uri": "https://localhost:8080/"
        },
        "id": "b8816eb9-9906-441b-b552-be71107db14f",
        "outputId": "521633cf-469f-400b-f7c9-b604219979f6"
      },
      "outputs": [],
      "source": [
        "# Continue the graph execution\n",
        "for event in graph.stream(None, thread, stream_mode=\"values\"):\n",
        "    # Review\n",
        "    analysts = event.get('analysts', '')\n",
        "    if analysts:\n",
        "        for analyst in analysts:\n",
        "            print(f\"Name: {analyst.name}\")\n",
        "            print(f\"Affiliation: {analyst.affiliation}\")\n",
        "            print(f\"Role: {analyst.role}\")\n",
        "            print(f\"Description: {analyst.description}\")\n",
        "            print(\"-\" * 50)"
      ]
    },
    {
      "cell_type": "code",
      "execution_count": null,
      "id": "a43ac322-5926-4932-8653-68206fec0d2c",
      "metadata": {
        "colab": {
          "base_uri": "https://localhost:8080/"
        },
        "id": "a43ac322-5926-4932-8653-68206fec0d2c",
        "outputId": "845135bf-c4a8-4c9e-af01-92f8c16ac0d4"
      },
      "outputs": [],
      "source": [
        "# If we are satisfied, then we simply supply no feedback\n",
        "further_feedack = None\n",
        "graph.update_state(thread, {\"human_analyst_feedback\":\n",
        "                            further_feedack}, as_node=\"human_feedback\")"
      ]
    },
    {
      "cell_type": "code",
      "execution_count": null,
      "id": "ab034e65-aeee-4723-8d6d-74541b548425",
      "metadata": {
        "id": "ab034e65-aeee-4723-8d6d-74541b548425"
      },
      "outputs": [],
      "source": [
        "# Continue the graph execution to end\n",
        "for event in graph.stream(None, thread, stream_mode=\"updates\"):\n",
        "    print(\"--Node--\")\n",
        "    node_name = next(iter(event.keys()))\n",
        "    print(node_name)"
      ]
    },
    {
      "cell_type": "code",
      "execution_count": null,
      "id": "2f204e8a-285c-4e46-8223-a695caec7764",
      "metadata": {
        "id": "2f204e8a-285c-4e46-8223-a695caec7764"
      },
      "outputs": [],
      "source": [
        "final_state = graph.get_state(thread)\n",
        "analysts = final_state.values.get('analysts')"
      ]
    },
    {
      "cell_type": "code",
      "execution_count": null,
      "id": "59704086-cb3b-42e9-8395-37be6f0d44e9",
      "metadata": {
        "colab": {
          "base_uri": "https://localhost:8080/"
        },
        "id": "59704086-cb3b-42e9-8395-37be6f0d44e9",
        "outputId": "f2a99bc3-bd74-43be-8859-1f187e4c1aa6"
      },
      "outputs": [],
      "source": [
        "final_state.next"
      ]
    },
    {
      "cell_type": "code",
      "execution_count": null,
      "id": "SUYnXG-GlBzh",
      "metadata": {
        "colab": {
          "base_uri": "https://localhost:8080/"
        },
        "id": "SUYnXG-GlBzh",
        "outputId": "b0a1fcd4-25b9-4798-e310-f91bd511dcb1"
      },
      "outputs": [],
      "source": [
        "final_state.values"
      ]
    },
    {
      "cell_type": "code",
      "execution_count": null,
      "id": "95717ba3-aa00-48d6-bbb7-5fe4db5919bf",
      "metadata": {
        "colab": {
          "base_uri": "https://localhost:8080/"
        },
        "id": "95717ba3-aa00-48d6-bbb7-5fe4db5919bf",
        "outputId": "83118381-2884-44c5-b9bf-82c65efe773c"
      },
      "outputs": [],
      "source": [
        "for analyst in analysts:\n",
        "    print(f\"Name: {analyst.name}\")\n",
        "    print(f\"Affiliation: {analyst.affiliation}\")\n",
        "    print(f\"Role: {analyst.role}\")\n",
        "    print(f\"Description: {analyst.description}\")\n",
        "    print(\"-\" * 50)"
      ]
    },
    {
      "cell_type": "markdown",
      "id": "7d2498e4-20ae-4503-9dd0-a4165132b7a7",
      "metadata": {
        "id": "7d2498e4-20ae-4503-9dd0-a4165132b7a7"
      },
      "source": [
        "## Conduct Interview\n",
        "\n",
        "### Generate Question\n",
        "\n",
        "The analyst will ask questions to the expert."
      ]
    },
    {
      "cell_type": "code",
      "execution_count": null,
      "id": "e5d5f559-f42e-442b-87cd-dbf0a91abf9c",
      "metadata": {
        "id": "e5d5f559-f42e-442b-87cd-dbf0a91abf9c"
      },
      "outputs": [],
      "source": [
        "import operator\n",
        "from typing import  Annotated\n",
        "from langgraph.graph import MessagesState\n",
        "\n",
        "class InterviewState(MessagesState):\n",
        "    max_num_turns: int # Number turns of conversation\n",
        "    context: Annotated[list, operator.add] # Source docs\n",
        "    analyst: Analyst # Analyst asking questions\n",
        "    interview: str # Interview transcript\n",
        "    sections: list # Final key we duplicate in outer state for Send() API\n",
        "\n",
        "class SearchQuery(BaseModel):\n",
        "    search_query: str = Field(None, description=\"Search query for retrieval.\")"
      ]
    },
    {
      "cell_type": "code",
      "execution_count": null,
      "id": "1c2e71eb-07ad-4bea-aabc-dbaf551408c0",
      "metadata": {
        "id": "1c2e71eb-07ad-4bea-aabc-dbaf551408c0"
      },
      "outputs": [],
      "source": [
        "question_instructions = \"\"\"You are an analyst tasked with interviewing an expert to learn about a specific topic.\n",
        "\n",
        "Your goal is boil down to interesting and specific insights related to your topic.\n",
        "\n",
        "1. Interesting: Insights that people will find surprising or non-obvious.\n",
        "\n",
        "2. Specific: Insights that avoid generalities and include specific examples from the expert.\n",
        "\n",
        "Here is your topic of focus and set of goals: {goals}\n",
        "\n",
        "Begin by introducing yourself using a name that fits your persona, and then ask your question.\n",
        "\n",
        "Continue to ask questions to drill down and refine your understanding of the topic.\n",
        "\n",
        "When you are satisfied with your understanding, complete the interview with: \"Thank you so much for your help!\"\n",
        "\n",
        "Remember to stay in character throughout your response, reflecting the persona and goals provided to you.\"\"\"\n",
        "\n",
        "def generate_question(state: InterviewState):\n",
        "    \"\"\" Node to generate a question \"\"\"\n",
        "\n",
        "    # Get state\n",
        "    analyst = state[\"analyst\"]\n",
        "    messages = state[\"messages\"]\n",
        "    print(\"### Generate Question ####\")\n",
        "    # Generate question\n",
        "    system_message = question_instructions.format(goals=analyst.persona)\n",
        "    question = llm.invoke([SystemMessage(content=system_message)]+messages)\n",
        "\n",
        "    print(f\"QUESTION: {question.content}\")\n",
        "\n",
        "    # Write messages to state\n",
        "    return {\"messages\": [question]}"
      ]
    },
    {
      "cell_type": "markdown",
      "id": "be2ff33a-6232-4a79-8a82-882a645394f5",
      "metadata": {
        "id": "be2ff33a-6232-4a79-8a82-882a645394f5"
      },
      "source": [
        "### Generate Answer: Parallelization\n",
        "\n",
        "The expert will gather information from multiple sources in parallel to answer questions.\n",
        "\n",
        "For example, we can use:\n",
        "\n",
        "* Specific web sites e.g., via [`WebBaseLoader`](https://python.langchain.com/v0.2/docs/integrations/document_loaders/web_base/)\n",
        "* Indexed documents e.g., via [RAG](https://python.langchain.com/v0.2/docs/tutorials/rag/)\n",
        "* Web search\n",
        "* Wikipedia search\n",
        "\n",
        "You can try different web search tools, like [Tavily](https://tavily.com/)."
      ]
    },
    {
      "cell_type": "code",
      "execution_count": null,
      "id": "606ea95b-e811-4299-8b66-835d4016c338",
      "metadata": {
        "id": "606ea95b-e811-4299-8b66-835d4016c338"
      },
      "outputs": [],
      "source": [
        "def _set_env(var: str):\n",
        "    if not os.environ.get(var):\n",
        "        os.environ[var] = userdata.get(f\"{var}\")\n",
        "\n",
        "os.environ[\"TAVILY_API_KEY\"]=  userdata.get(\"TAVILY_API_KEY\")"
      ]
    },
    {
      "cell_type": "code",
      "execution_count": null,
      "id": "c61ae74a-f838-4e97-8bd5-48ccd15b7789",
      "metadata": {
        "id": "c61ae74a-f838-4e97-8bd5-48ccd15b7789"
      },
      "outputs": [],
      "source": [
        "# Web search tool\n",
        "from langchain_community.tools.tavily_search import TavilySearchResults\n",
        "tavily_search = TavilySearchResults(max_results=3)"
      ]
    },
    {
      "cell_type": "code",
      "execution_count": null,
      "id": "2d8f760b-5a1a-4fa9-a014-d3fb02bec51c",
      "metadata": {
        "id": "2d8f760b-5a1a-4fa9-a014-d3fb02bec51c"
      },
      "outputs": [],
      "source": [
        "# Wikipedia search tool\n",
        "from langchain_community.document_loaders import WikipediaLoader"
      ]
    },
    {
      "cell_type": "markdown",
      "id": "n-1GvULNEJjA",
      "metadata": {
        "id": "n-1GvULNEJjA"
      },
      "source": [
        "# Semantic Scholar search tool\n",
        "\n",
        "The Semantic Scholar REST API allows you to find and explore scientific publication data about authors, papers, citations, venues, and more.\n",
        "\n",
        "\n",
        "- https://python.langchain.com/api_reference/community/utilities/langchain_community.utilities.semanticscholar.SemanticScholarAPIWrapper.html#langchain_community.utilities.semanticscholar.SemanticScholarAPIWrapper\n",
        "\n",
        "- https://api.semanticscholar.org/api-docs/graph#tag/Paper-Data/operation/get_graph_paper_relevance_search"
      ]
    },
    {
      "cell_type": "code",
      "execution_count": null,
      "id": "MknoGYkAOdJI",
      "metadata": {
        "id": "MknoGYkAOdJI"
      },
      "outputs": [],
      "source": [
        "# Semantic Scholar search tool\n",
        "from langchain_community.utilities.semanticscholar import SemanticScholarAPIWrapper\n",
        "from langchain.output_parsers import PydanticOutputParser\n",
        "from langchain_core.prompts import PromptTemplate\n",
        "from langchain import hub\n",
        "from langchain.agents import AgentExecutor, create_openai_functions_agent\n",
        "from langchain_openai import ChatOpenAI\n",
        "from langchain_community.tools.semanticscholar.tool import SemanticScholarQueryRun\n",
        "\n",
        "os.environ[\"GOOGLE_API_KEY\"] = userdata.get(\"GOOGLE_API_KEY\")\n",
        "os.environ[\"GOOGLE_CSE_ID\"] = userdata.get(\"GOOGLE_CSE_ID\")\n",
        "os.environ[\"USER_AGENT\"] = 'Mozilla/5.0 (Windows NT 10.0; Win64; x64) AppleWebKit/537.36 (KHTML, like Gecko) Chrome/111.0.0.0 Safari/537.36'\n",
        "google_scholar = SemanticScholarAPIWrapper(\n",
        "                    doc_content_chars_max=10000, top_k_results=10\n",
        "                ) # top_k_results = 3, load_max_docs = 3"
      ]
    },
    {
      "cell_type": "code",
      "execution_count": null,
      "id": "1Er4Z-u2rTZH",
      "metadata": {
        "id": "1Er4Z-u2rTZH"
      },
      "outputs": [],
      "source": [
        "google_scholar = SemanticScholarAPIWrapper(\n",
        "                    top_k_results = 5, load_max_docs = 10\n",
        "                )"
      ]
    },
    {
      "cell_type": "code",
      "execution_count": null,
      "id": "hOim9tNVEAXp",
      "metadata": {
        "id": "hOim9tNVEAXp"
      },
      "outputs": [],
      "source": [
        "publications = google_scholar.run(topic)"
      ]
    },
    {
      "cell_type": "code",
      "execution_count": null,
      "id": "5EUoS1c845xq",
      "metadata": {
        "colab": {
          "base_uri": "https://localhost:8080/",
          "height": 330
        },
        "id": "5EUoS1c845xq",
        "outputId": "126ad66b-0442-45cc-bfbf-bd1acdd99097"
      },
      "outputs": [],
      "source": [
        "publications"
      ]
    },
    {
      "cell_type": "code",
      "execution_count": null,
      "id": "d7bgc0178wx0",
      "metadata": {
        "id": "d7bgc0178wx0"
      },
      "outputs": [],
      "source": [
        "from typing import List, Optional\n",
        "from pydantic import BaseModel, Field\n",
        "class Output(BaseModel):\n",
        "    autors: str = Field(description=\"List of authors of this paper\")\n",
        "    title: str = Field(description=\"title of this paper\")\n",
        "    abstract: str = Field(description=\"abstract of this paper\")\n",
        "    url: Optional[str] = Field(description=\"url of this paper\")\n",
        "\n",
        "class Documents(BaseModel):\n",
        "    documents: List[Output] = Field(description=\"List of documents\")\n",
        "\n",
        "query = \"rare diseases in children\"\n",
        "\n",
        "# Set up a parser + inject instructions into the prompt template.\n",
        "parser = PydanticOutputParser(pydantic_object=Documents)\n",
        "\n",
        "prompt = PromptTemplate(\n",
        "    template=\"Format this text {publications} according to the model.\\n{format_instructions}\\n\",\n",
        "\n",
        "    partial_variables={\"format_instructions\": parser.get_format_instructions()},\n",
        ")\n",
        "\n",
        "chain2 = prompt | llm | parser\n",
        "\n",
        "docs = chain2.invoke({\"publications\":publications})"
      ]
    },
    {
      "cell_type": "code",
      "execution_count": null,
      "id": "uGZKcCas2lo5",
      "metadata": {
        "colab": {
          "base_uri": "https://localhost:8080/"
        },
        "id": "uGZKcCas2lo5",
        "outputId": "23902efd-f2b1-4dfb-ccc0-fed5aa335e28"
      },
      "outputs": [],
      "source": [
        "docs\n"
      ]
    },
    {
      "cell_type": "code",
      "execution_count": null,
      "id": "5V91QzIq-YZf",
      "metadata": {
        "colab": {
          "base_uri": "https://localhost:8080/"
        },
        "id": "5V91QzIq-YZf",
        "outputId": "4e213d84-fc42-47ce-8480-867b4af2453b"
      },
      "outputs": [],
      "source": [
        "for doc in docs.documents:\n",
        "  print(f\"Author: {doc.autors}\")\n",
        "  print(f\"Title: {doc.title}\")\n",
        "  print(f\"Abstract: {doc.abstract}\")\n",
        "  print(f\"URL: {doc.url}\")\n",
        "  print(\"-\"*50)"
      ]
    },
    {
      "cell_type": "code",
      "execution_count": null,
      "id": "gSJkGPCkA-nV",
      "metadata": {
        "colab": {
          "base_uri": "https://localhost:8080/"
        },
        "id": "gSJkGPCkA-nV",
        "outputId": "77a42993-f7e4-405c-f581-21b97793e8d5"
      },
      "outputs": [],
      "source": [
        "i = 0\n",
        "docums= []\n",
        "for item in docs.documents:\n",
        "\n",
        "\n",
        "  doc = f'<Document source=\"{item.title}\"\\n Abstract=\"{item.abstract}\",\\n authors: {item.autors}\\n</Document>'\n",
        "  docums.append(doc)\n",
        "\n",
        "text = \"\\n\\n---\\n\\n\".join(\n",
        "        [\n",
        "\n",
        "           str(doc) for doc in docums\n",
        "        ]\n",
        " )\n",
        "print(text)"
      ]
    },
    {
      "cell_type": "markdown",
      "id": "JfAdnmCTAsvR",
      "metadata": {
        "id": "JfAdnmCTAsvR"
      },
      "source": [
        "# SemanticScholarQueryRun\n",
        "\n",
        "https://python.langchain.com/docs/integrations/tools/semanticscholar/"
      ]
    },
    {
      "cell_type": "code",
      "execution_count": null,
      "id": "qkbNBkwD2vT2",
      "metadata": {
        "id": "qkbNBkwD2vT2"
      },
      "outputs": [],
      "source": [
        "instructions = \"\"\"You are an expert researcher. provide title , abstract and authors of the documents you use to provide an answer\"\"\"\n",
        "base_prompt = hub.pull(\"langchain-ai/openai-functions-template\")\n",
        "prompt = base_prompt.partial(instructions=instructions)"
      ]
    },
    {
      "cell_type": "code",
      "execution_count": null,
      "id": "fHP2IRPq7VFU",
      "metadata": {
        "id": "fHP2IRPq7VFU"
      },
      "outputs": [],
      "source": [
        "from langchain_community.tools.semanticscholar.tool import SemanticScholarQueryRun\n",
        "\n",
        "tools = [SemanticScholarQueryRun()]\n",
        "agent = create_openai_functions_agent(llm, tools, prompt)\n",
        "agent_executor = AgentExecutor(\n",
        "    agent=agent,\n",
        "    tools=tools,\n",
        "    verbose=True,\n",
        "    return_intermediate_steps=True,\n",
        ")"
      ]
    },
    {
      "cell_type": "code",
      "execution_count": null,
      "id": "Vg50wSyL8CHV",
      "metadata": {
        "colab": {
          "base_uri": "https://localhost:8080/"
        },
        "id": "Vg50wSyL8CHV",
        "outputId": "6035e147-f8f9-473a-fc77-3c0da72950d6"
      },
      "outputs": [],
      "source": [
        "documents = agent_executor.invoke(\n",
        "    {\n",
        "        \"input\": topic\n",
        "    }\n",
        ")"
      ]
    },
    {
      "cell_type": "code",
      "execution_count": null,
      "id": "ONwEqK4treTB",
      "metadata": {
        "colab": {
          "base_uri": "https://localhost:8080/"
        },
        "id": "ONwEqK4treTB",
        "outputId": "8a05ffdf-c3e5-4efc-9d20-e18d115223f5"
      },
      "outputs": [],
      "source": [
        "documents.keys()"
      ]
    },
    {
      "cell_type": "code",
      "execution_count": null,
      "id": "FnLvvUEM5LmV",
      "metadata": {
        "colab": {
          "base_uri": "https://localhost:8080/"
        },
        "id": "FnLvvUEM5LmV",
        "outputId": "5c186325-8489-4c94-ba83-ab3aaf94a607"
      },
      "outputs": [],
      "source": [
        "print(documents['output'])"
      ]
    },
    {
      "cell_type": "code",
      "execution_count": null,
      "id": "T45rHy2h3Ljj",
      "metadata": {
        "colab": {
          "base_uri": "https://localhost:8080/"
        },
        "id": "T45rHy2h3Ljj",
        "outputId": "17b169f6-e0b6-4df9-be7c-081d010c4411"
      },
      "outputs": [],
      "source": [
        "print(documents['intermediate_steps'])"
      ]
    },
    {
      "cell_type": "markdown",
      "id": "OGYO1OOr8qML",
      "metadata": {
        "id": "OGYO1OOr8qML"
      },
      "source": [
        "# Using Semantic Sholar Library\n",
        "\n",
        "\n",
        "https://api.semanticscholar.org/api-docs/graph#tag/Paper-Data/operation/get_graph_paper_relevance_search\n",
        "\n",
        "\n",
        "https://github.com/danielnsilva/semanticscholar\n"
      ]
    },
    {
      "cell_type": "code",
      "execution_count": null,
      "id": "vnlFc7nm7EYO",
      "metadata": {
        "id": "vnlFc7nm7EYO"
      },
      "outputs": [],
      "source": [
        "from semanticscholar import SemanticScholar\n",
        "sch = SemanticScholar()\n",
        "results = sch.search_paper('Rare diseases in children', fields_of_study=['Medicine'], limit=10) #, fields=['title','year'])\n",
        "\n"
      ]
    },
    {
      "cell_type": "code",
      "execution_count": null,
      "id": "L5qmV3IM8xD9",
      "metadata": {
        "id": "L5qmV3IM8xD9"
      },
      "outputs": [],
      "source": [
        "i = 0\n",
        "docs= []\n",
        "for item in results:\n",
        "\n",
        "  autor_names = \"\".join(f\"{autor.name}, \" for autor in item.authors )\n",
        "  doc = f'<Document source=\"{item.url}\" page=\"{item.title}\"/>\\n{item.abstract}, authors: {autor_names}\\n</Document>'\n",
        "  docs.append(doc)\n",
        "  i=i+1\n",
        "  if i > 10:\n",
        "    break\n"
      ]
    },
    {
      "cell_type": "code",
      "execution_count": null,
      "id": "RFoyBQWa1IrY",
      "metadata": {
        "colab": {
          "base_uri": "https://localhost:8080/",
          "height": 1000
        },
        "id": "RFoyBQWa1IrY",
        "outputId": "e59010a2-c4c4-4c23-8214-7c34e6f25133"
      },
      "outputs": [],
      "source": [
        "\"\\n\\n---\\n\\n\".join(\n",
        "        [\n",
        "\n",
        "           str(doc) for doc in docs\n",
        "        ]\n",
        " )"
      ]
    },
    {
      "cell_type": "markdown",
      "id": "3zOfpjCTQnQV",
      "metadata": {
        "id": "3zOfpjCTQnQV"
      },
      "source": [
        "# Pubmed\n",
        "PubMed® comprises more than 37 million citations for biomedical literature from MEDLINE, life science journals, and online books. Citations may include links to full text content from PubMed Central and publisher web sites.\n",
        "\n",
        "- https://python.langchain.com/api_reference/community/retrievers/langchain_community.retrievers.pubmed.PubMedRetriever.html\n",
        "\n",
        "- https://www.ncbi.nlm.nih.gov/"
      ]
    },
    {
      "cell_type": "code",
      "execution_count": null,
      "id": "hzaczdOCOlez",
      "metadata": {
        "id": "hzaczdOCOlez"
      },
      "outputs": [],
      "source": [
        "from langchain_community.retrievers import PubMedRetriever"
      ]
    },
    {
      "cell_type": "code",
      "execution_count": null,
      "id": "gYpzdbgWlqKe",
      "metadata": {
        "id": "gYpzdbgWlqKe"
      },
      "outputs": [],
      "source": [
        "from google.colab import userdata\n",
        "pubmed_key =userdata.get('PUBMED_KEY')"
      ]
    },
    {
      "cell_type": "code",
      "execution_count": null,
      "id": "grMc_aR0Onl-",
      "metadata": {
        "id": "grMc_aR0Onl-"
      },
      "outputs": [],
      "source": [
        "retriever = PubMedRetriever(api_key=pubmed_key, top_k_results=5 )"
      ]
    },
    {
      "cell_type": "code",
      "execution_count": null,
      "id": "nHdyBzQ2O0Nc",
      "metadata": {
        "id": "nHdyBzQ2O0Nc"
      },
      "outputs": [],
      "source": [
        "pubmed_docs = retriever.invoke(topic)"
      ]
    },
    {
      "cell_type": "code",
      "execution_count": null,
      "id": "2cQMkKrYO9Qj",
      "metadata": {
        "colab": {
          "base_uri": "https://localhost:8080/"
        },
        "id": "2cQMkKrYO9Qj",
        "outputId": "cc3752a7-2011-40c4-e883-87f8a99886c4"
      },
      "outputs": [],
      "source": [
        "len(pubmed_docs)"
      ]
    },
    {
      "cell_type": "code",
      "execution_count": null,
      "id": "HLKIOM4wPBpZ",
      "metadata": {
        "colab": {
          "base_uri": "https://localhost:8080/"
        },
        "id": "HLKIOM4wPBpZ",
        "outputId": "ae65b268-cfc9-4dd1-ea76-91951e6d92b3"
      },
      "outputs": [],
      "source": [
        "for doc in pubmed_docs:\n",
        "  print(doc.page_content)\n",
        "  print(doc.metadata)\n",
        "  print(\"-\"*50)"
      ]
    },
    {
      "cell_type": "code",
      "execution_count": null,
      "id": "oKkkv0tePNGy",
      "metadata": {
        "colab": {
          "base_uri": "https://localhost:8080/"
        },
        "id": "oKkkv0tePNGy",
        "outputId": "a8d0ed9f-13ed-4038-c5c6-b0a6e1193635"
      },
      "outputs": [],
      "source": [
        "doc.metadata"
      ]
    },
    {
      "cell_type": "code",
      "execution_count": null,
      "id": "G-EwOMJ6PdnE",
      "metadata": {
        "id": "G-EwOMJ6PdnE"
      },
      "outputs": [],
      "source": [
        "docs_pubmed= []\n",
        "for item in pubmed_docs:\n",
        "\n",
        "\n",
        "  doc = f'<Document source Pubmed=\"{item.metadata.get(\"uid\")}\" \\n Title :\"{item.metadata.get(\"Title\")}\"/>\\n, Abstract: {item.page_content}\\n</Document>'\n",
        "  docs_pubmed.append(doc)\n",
        "\n"
      ]
    },
    {
      "cell_type": "code",
      "execution_count": null,
      "id": "hdo2BWz5QcXL",
      "metadata": {
        "colab": {
          "base_uri": "https://localhost:8080/"
        },
        "id": "hdo2BWz5QcXL",
        "outputId": "93299384-cb69-4767-9736-edad17786f7f"
      },
      "outputs": [],
      "source": [
        "texto = \"\\n\\n---\\n\\n\".join(\n",
        "        [\n",
        "\n",
        "           str(doc) for doc in docs_pubmed\n",
        "        ]\n",
        " )\n",
        "\n",
        "print(texto)"
      ]
    },
    {
      "cell_type": "markdown",
      "id": "06cb1603",
      "metadata": {
        "id": "06cb1603"
      },
      "source": [
        "Now, we create nodes to search the web and wikipedia and Semantic Scholar\n",
        "\n",
        "We'll also create a node to answer analyst questions.\n",
        "\n",
        "Finally, we'll create nodes to save the full interview and to write a summary (\"section\") of the interview."
      ]
    },
    {
      "cell_type": "code",
      "execution_count": null,
      "id": "9c863768-2278-415b-aef1-96fd18c1b1cb",
      "metadata": {
        "colab": {
          "base_uri": "https://localhost:8080/",
          "height": 647
        },
        "id": "9c863768-2278-415b-aef1-96fd18c1b1cb",
        "outputId": "0afd1671-c175-4f03-c9a8-fc179796bf70"
      },
      "outputs": [],
      "source": [
        "from langchain_core.messages import get_buffer_string\n",
        "\n",
        "# Search query writing\n",
        "search_instructions = SystemMessage(content=f\"\"\"You will be given a conversation between an analyst and an expert.\n",
        "\n",
        "Your goal is to generate a well-structured query for use in retrieval and / or web-search related to the conversation.\n",
        "\n",
        "First, analyze the full conversation.\n",
        "\n",
        "Pay particular attention to the final question posed by the analyst.\n",
        "\n",
        "Convert this final question into a well-structured web search query\"\"\")\n",
        "\n",
        "def search_web(state: InterviewState):\n",
        "\n",
        "    \"\"\" Retrieve docs from web search \"\"\"\n",
        "\n",
        "    # Search query\n",
        "    structured_llm = llm.with_structured_output(SearchQuery)\n",
        "    search_query = structured_llm.invoke([search_instructions]+state['messages'])\n",
        "    print(\"### Search Tavili ####\")\n",
        "    # Search\n",
        "    search_docs = tavily_search.invoke(search_query.search_query)\n",
        "\n",
        "     # Format\n",
        "    formatted_search_docs = \"\\n\\n---\\n\\n\".join(\n",
        "        [\n",
        "            f'<Document href=\"{doc[\"url\"]}\"/>\\n{doc[\"content\"]}\\n</Document>'\n",
        "            for doc in search_docs\n",
        "        ]\n",
        "    )\n",
        "\n",
        "    return {\"context\": [formatted_search_docs]}\n",
        "\n",
        "def search_wikipedia(state: InterviewState):\n",
        "\n",
        "    \"\"\" Retrieve docs from wikipedia \"\"\"\n",
        "\n",
        "    # Search query\n",
        "    structured_llm = llm.with_structured_output(SearchQuery)\n",
        "    search_query = structured_llm.invoke([search_instructions]+state['messages'])\n",
        "    print(\"### Search Wikipedia ####\")\n",
        "    # Search\n",
        "    search_docs = WikipediaLoader(query=search_query.search_query,\n",
        "                                  load_max_docs=2).load()\n",
        "\n",
        "     # Format\n",
        "    formatted_search_docs = \"\\n\\n---\\n\\n\".join(\n",
        "        [\n",
        "            f'<Document source=\"{doc.metadata[\"source\"]}\" page=\"{doc.metadata.get(\"page\", \"\")}\"/>\\n{doc.page_content}\\n</Document>'\n",
        "            for doc in search_docs\n",
        "        ]\n",
        "    )\n",
        "\n",
        "    return {\"context\": [formatted_search_docs]}\n",
        "\n",
        "\n",
        "def search_scholar(state: InterviewState):\n",
        "\n",
        "    \"\"\" Retrieve docs from scholar \"\"\"\n",
        "    # Search query\n",
        "    structured_llm = llm.with_structured_output(SearchQuery)\n",
        "    search_query = structured_llm.invoke([search_instructions]+state['messages'])\n",
        "    results = google_scholar.run(search_query.search_query)\n",
        "\n",
        "    print(\"### Search Semantic Scholar ####\")\n",
        "    docs = chain2.invoke({\"publications\":results})\n",
        "\n",
        "    docums= []\n",
        "    for item in docs.documents:\n",
        "\n",
        "\n",
        "      doc = f'<Document source=\"{item.title}\"\\n Abstract=\"{item.abstract}\",\\n authors: {item.autors}\\n</Document>'\n",
        "      docums.append(doc)\n",
        "\n",
        "    text = \"\\n\\n---\\n\\n\".join(\n",
        "            [\n",
        "\n",
        "              str(doc) for doc in docums\n",
        "            ]\n",
        "    )\n",
        "\n",
        "    return {\"context\": [text]}\n",
        "\n",
        "def search_pubmed(state: InterviewState):\n",
        "\n",
        "    \"\"\" Retrieve docs from pubmed \"\"\"\n",
        "    structured_llm = llm.with_structured_output(SearchQuery)\n",
        "    search_query = structured_llm.invoke([search_instructions]+state['messages'])\n",
        "    print(\"### Search Pubmed ####\")\n",
        "    pubmed_docs = retriever.invoke(search_query.search_query)\n",
        "    docs_pubmed= []\n",
        "    for item in pubmed_docs:\n",
        "      doc = f'<Document source Pubmed=\"{item.metadata.get(\"uid\")}\" \\n Title :\"{item.metadata.get(\"Title\")}\"/>\\n, Abstract: {item.page_content}\\n</Document>'\n",
        "      docs_pubmed.append(doc)\n",
        "\n",
        "    texto = \"\\n\\n---\\n\\n\".join(\n",
        "      [\n",
        "\n",
        "          str(doc) for doc in docs_pubmed\n",
        "      ]\n",
        "    )\n",
        "    return {\"context\": [texto]}\n",
        "\n",
        "answer_instructions = \"\"\"You are an expert being interviewed by an analyst.\n",
        "\n",
        "Here is analyst area of focus: {goals}.\n",
        "\n",
        "You goal is to answer a question posed by the interviewer.\n",
        "\n",
        "To answer question, use this context:\n",
        "\n",
        "{context}\n",
        "\n",
        "When answering questions, follow these guidelines:\n",
        "\n",
        "1. Use only the information provided in the context.\n",
        "\n",
        "2. Do not introduce external information or make assumptions beyond what is explicitly stated in the context.\n",
        "\n",
        "3. The context contain sources at the topic of each individual document.\n",
        "\n",
        "4. Include these sources your answer next to any relevant statements. For example, for source # 1 use [1].\n",
        "\n",
        "5. List your sources in order at the bottom of your answer. [1] Source 1, [2] Source 2, etc\n",
        "\n",
        "6. If the source is: <Document source=\"assistant/docs/llama3_1.pdf\" page=\"7\"/>' then just list:\n",
        "\n",
        "[1] assistant/docs/llama3_1.pdf, page 7\n",
        "\n",
        "skip the addition of the brackets as well as the Document source preamble in your citation.\n",
        "\n",
        "add authors of the documents if possible\"\"\"\n",
        "\n",
        "def generate_answer(state: InterviewState):\n",
        "\n",
        "    \"\"\" Node to answer a question \"\"\"\n",
        "\n",
        "    # Get state\n",
        "    analyst = state[\"analyst\"]\n",
        "    messages = state[\"messages\"]\n",
        "    context = state[\"context\"]\n",
        "    print(\"### Generate Answer ####\")\n",
        "    # Answer question\n",
        "    system_message = answer_instructions.format(goals=analyst.persona, context=context)\n",
        "    answer = llm.invoke([SystemMessage(content=system_message)]+messages)\n",
        "\n",
        "    # Name the message as coming from the expert\n",
        "    answer.name = \"expert\"\n",
        "\n",
        "    # Append it to state\n",
        "    return {\"messages\": [answer]}\n",
        "\n",
        "def save_interview(state: InterviewState):\n",
        "\n",
        "    \"\"\" Save interviews \"\"\"\n",
        "\n",
        "    # Get messages\n",
        "    messages = state[\"messages\"]\n",
        "\n",
        "    # Convert interview to a string\n",
        "    interview = get_buffer_string(messages)\n",
        "\n",
        "    # Save to interviews key\n",
        "    return {\"interview\": interview}\n",
        "\n",
        "def route_messages(state: InterviewState,\n",
        "                   name: str = \"expert\"):\n",
        "\n",
        "    \"\"\" Route between question and answer \"\"\"\n",
        "\n",
        "    # Get messages\n",
        "    messages = state[\"messages\"]\n",
        "    max_num_turns = state.get('max_num_turns',2)\n",
        "    print(\"### Routing Messages ####\")\n",
        "    # Check the number of expert answers\n",
        "    num_responses = len(\n",
        "        [m for m in messages if isinstance(m, AIMessage) and m.name == name]\n",
        "    )\n",
        "\n",
        "    # End if expert has answered more than the max turns\n",
        "    if num_responses >= max_num_turns:\n",
        "        return 'save_interview'\n",
        "\n",
        "    # This router is run after each question - answer pair\n",
        "    # Get the last question asked to check if it signals the end of discussion\n",
        "    last_question = messages[-2]\n",
        "\n",
        "    if \"Thank you so much for your help\" in last_question.content:\n",
        "        return 'save_interview'\n",
        "    return \"ask_question\"\n",
        "\n",
        "section_writer_instructions = \"\"\"You are an expert technical writer.\n",
        "\n",
        "Your task is to create a short, easily digestible section of a report based on a set of source documents.\n",
        "\n",
        "1. Analyze the content of the source documents:\n",
        "- The name of each source document is at the start of the document, with the <Document tag.\n",
        "\n",
        "2. Create a report structure using markdown formatting:\n",
        "- Use ## for the section title\n",
        "- Use ### for sub-section headers\n",
        "\n",
        "3. Write the report following this structure:\n",
        "a. Title (## header)\n",
        "b. Summary (### header)\n",
        "c. Sources (### header)\n",
        "\n",
        "\n",
        "\n",
        "4. Make your title engaging based upon the focus area of the analyst:\n",
        "{focus}\n",
        "\n",
        "5. For the summary section:\n",
        "- Set up summary with general background / context related to the focus area of the analyst\n",
        "- Emphasize what is novel, interesting, or surprising about insights gathered from the interview\n",
        "- Create a numbered list of source documents, as you use them\n",
        "- Do not mention the names of interviewers or experts\n",
        "- Aim for approximately 400 words maximum\n",
        "- Use numbered sources in your report (e.g., [1], [2]) based on information from source documents\n",
        "\n",
        "6. In the Sources section:\n",
        "- Include all sources used in your report\n",
        "- Provide full links to relevant websites or specific document paths\n",
        "- Separate each source by a newline. Use two spaces at the end of each line to create a newline in Markdown.\n",
        "- link the Sources to the authors and titles of the documents.\n",
        "- It will look like:\n",
        "\n",
        "### Sources\n",
        "[1] Link or Document name, Authors\n",
        "[2] Link or Document name, Authors\n",
        "\n",
        "7. Be sure to combine sources. For example this is not correct:\n",
        "\n",
        "[3] https://ai.meta.com/blog/meta-llama-3-1/\n",
        "[4] https://ai.meta.com/blog/meta-llama-3-1/\n",
        "\n",
        "There should be no redundant sources. It should simply be:\n",
        "\n",
        "[3] https://ai.meta.com/blog/meta-llama-3-1/\n",
        "\n",
        "8. Final review:\n",
        "- Ensure the report follows the required structure\n",
        "- Include no preamble before the title of the report\n",
        "- Check that all guidelines have been followed\"\"\"\n",
        "\n",
        "def write_section(state: InterviewState):\n",
        "\n",
        "    \"\"\" Node to answer a question \"\"\"\n",
        "\n",
        "    # Get state\n",
        "    interview = state[\"interview\"]\n",
        "    context = state[\"context\"]\n",
        "    analyst = state[\"analyst\"]\n",
        "    print(\"### Writting Section ####\")\n",
        "    # Write section using either the gathered source docs from interview (context) or the interview itself (interview)\n",
        "    system_message = section_writer_instructions.format(focus=analyst.description)\n",
        "    section = llm.invoke([SystemMessage(content=system_message)]+[HumanMessage(content=f\"Use this source to write your section: {context}\")])\n",
        "\n",
        "    # Append it to state\n",
        "    return {\"sections\": [section.content]}\n",
        "\n",
        "# Add nodes and edges\n",
        "interview_builder = StateGraph(InterviewState)\n",
        "interview_builder.add_node(\"ask_question\", generate_question)\n",
        "interview_builder.add_node(\"search_web\", search_web)\n",
        "interview_builder.add_node(\"search_wikipedia\", search_wikipedia)\n",
        "interview_builder.add_node(\"search_scholar\", search_scholar)\n",
        "interview_builder.add_node(\"search_pubmed\", search_pubmed)\n",
        "interview_builder.add_node(\"answer_question\", generate_answer)\n",
        "interview_builder.add_node(\"save_interview\", save_interview)\n",
        "interview_builder.add_node(\"write_section\", write_section)\n",
        "\n",
        "# Flow\n",
        "interview_builder.add_edge(START, \"ask_question\")\n",
        "interview_builder.add_edge(\"ask_question\", \"search_web\")\n",
        "interview_builder.add_edge(\"ask_question\", \"search_wikipedia\")\n",
        "interview_builder.add_edge(\"ask_question\", \"search_scholar\")\n",
        "interview_builder.add_edge(\"ask_question\", \"search_pubmed\")\n",
        "interview_builder.add_edge(\"search_web\", \"answer_question\")\n",
        "interview_builder.add_edge(\"search_wikipedia\", \"answer_question\")\n",
        "interview_builder.add_edge(\"search_scholar\", \"answer_question\")\n",
        "interview_builder.add_edge(\"search_pubmed\", \"answer_question\")\n",
        "interview_builder.add_conditional_edges(\"answer_question\", route_messages,['ask_question','save_interview'])\n",
        "interview_builder.add_edge(\"save_interview\", \"write_section\")\n",
        "interview_builder.add_edge(\"write_section\", END)\n",
        "\n",
        "# Interview\n",
        "memory = MemorySaver()\n",
        "interview_graph = interview_builder.compile(checkpointer=memory).with_config(run_name=\"Conduct Interviews\")\n",
        "\n",
        "# View\n",
        "display(Image(interview_graph.get_graph().draw_mermaid_png()))"
      ]
    },
    {
      "cell_type": "code",
      "execution_count": null,
      "id": "50f382f1-6e93-48d0-a44a-1094d26ccb1e",
      "metadata": {
        "colab": {
          "base_uri": "https://localhost:8080/"
        },
        "id": "50f382f1-6e93-48d0-a44a-1094d26ccb1e",
        "outputId": "e91157b7-b064-4e77-86f8-03f05a24fc49"
      },
      "outputs": [],
      "source": [
        "# Pick one analyst\n",
        "analysts[2]"
      ]
    },
    {
      "cell_type": "markdown",
      "id": "3750ac4f-f458-4b2d-8bad-32ce34895758",
      "metadata": {
        "id": "3750ac4f-f458-4b2d-8bad-32ce34895758"
      },
      "source": [
        "Here, we run the interview passing an index of the llama3.1 paper, which is related to our topic."
      ]
    },
    {
      "cell_type": "code",
      "execution_count": null,
      "id": "nqcD_yvuafvP",
      "metadata": {
        "colab": {
          "base_uri": "https://localhost:8080/",
          "height": 35
        },
        "id": "nqcD_yvuafvP",
        "outputId": "d197deb9-e079-4d13-b57a-2c19fb64761e"
      },
      "outputs": [],
      "source": [
        "topic"
      ]
    },
    {
      "cell_type": "code",
      "execution_count": null,
      "id": "b2242d4e-8430-4de9-8cf7-3ad2f9a22b28",
      "metadata": {
        "colab": {
          "base_uri": "https://localhost:8080/",
          "height": 1000
        },
        "id": "b2242d4e-8430-4de9-8cf7-3ad2f9a22b28",
        "outputId": "e9865683-cad8-43ad-fe23-765dbedba2f8"
      },
      "outputs": [],
      "source": [
        "from IPython.display import Markdown\n",
        "messages = [HumanMessage(f\"So you said you were writing an article on {topic}?\")]\n",
        "thread = {\"configurable\": {\"thread_id\": \"1\"}}\n",
        "interview = interview_graph.invoke({\"analyst\": analysts[2], \"messages\": messages, \"max_num_turns\": 3}, thread)\n",
        "Markdown(interview['sections'][0])"
      ]
    },
    {
      "cell_type": "markdown",
      "id": "3b739e87-68bb-4e96-a86a-704e84240a6c",
      "metadata": {
        "id": "3b739e87-68bb-4e96-a86a-704e84240a6c"
      },
      "source": [
        "### Parallelze interviews: Map-Reduce\n",
        "Map-reduce operations are essential for efficient task decomposition and parallel processing. This approach involves breaking a task into smaller sub-tasks, processing each sub-task in parallel, and aggregating the results across all of the completed sub-tasks.\n",
        "\n",
        "\n",
        "https://langchain-ai.github.io/langgraph/how-tos/map-reduce/\n",
        "\n",
        "\n",
        "\n",
        "We parallelize the interviews via the `Send()` API, a map step.\n",
        "\n",
        "We combine them into the report body in a reduce step.\n",
        "![image.png](data:image/png;base64,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)\n",
        "### Finalize\n",
        "\n",
        "We add a final step to write an intro and conclusion to the final report."
      ]
    },
    {
      "cell_type": "code",
      "execution_count": null,
      "id": "6a0042f9-5b9f-441a-9e8d-7d8189f44140",
      "metadata": {
        "id": "6a0042f9-5b9f-441a-9e8d-7d8189f44140"
      },
      "outputs": [],
      "source": [
        "import operator\n",
        "from typing import List, Annotated\n",
        "from typing_extensions import TypedDict\n",
        "\n",
        "class ResearchGraphState(TypedDict):\n",
        "    topic: str # Research topic\n",
        "    max_analysts: int # Number of analysts\n",
        "    human_analyst_feedback: str # Human feedback\n",
        "    analysts: List[Analyst] # Analyst asking questions\n",
        "    sections: Annotated[list, operator.add] # Send() API key\n",
        "    introduction: str # Introduction for the final report\n",
        "    content: str # Content for the final report\n",
        "    conclusion: str # Conclusion for the final report\n",
        "    final_report: str # Final report"
      ]
    },
    {
      "cell_type": "code",
      "execution_count": null,
      "id": "c2224592-d2ff-469d-97bd-928809f896d7",
      "metadata": {
        "colab": {
          "base_uri": "https://localhost:8080/",
          "height": 1000
        },
        "id": "c2224592-d2ff-469d-97bd-928809f896d7",
        "outputId": "9148c307-7084-400e-b77e-e144b31f570b"
      },
      "outputs": [],
      "source": [
        "from langgraph.constants import Send\n",
        "\n",
        "def initiate_all_interviews(state: ResearchGraphState):\n",
        "    \"\"\" This is the \"map\" step where we run each interview sub-graph using Send API \"\"\"\n",
        "\n",
        "    # Check if human feedback\n",
        "    human_analyst_feedback=state.get('human_analyst_feedback')\n",
        "    print(\"### INITIATE ALL INTERVIEWS ####\")\n",
        "    if human_analyst_feedback:\n",
        "        # Return to create_analysts\n",
        "        return \"create_analysts\"\n",
        "\n",
        "    # Otherwise kick off interviews in parallel via Send() API\n",
        "    else:\n",
        "        topic = state[\"topic\"]\n",
        "        return [Send(\"conduct_interview\", {\"analyst\": analyst,\n",
        "                                           \"messages\": [HumanMessage(\n",
        "                                               content=f\"So you said you were writing an article on {topic}?\"\n",
        "                                           )\n",
        "                                                       ]}) for analyst in state[\"analysts\"]]\n",
        "\n",
        "report_writer_instructions = \"\"\"You are a technical writer creating a report on this overall topic:\n",
        "\n",
        "{topic}\n",
        "\n",
        "You have a team of analysts. Each analyst has done two things:\n",
        "\n",
        "1. They conducted an interview with an expert on a specific sub-topic.\n",
        "2. They write up their finding into a memo.\n",
        "\n",
        "Your task:\n",
        "\n",
        "1. You will be given a collection of memos from your analysts.\n",
        "2. Think carefully about the insights from each memo.\n",
        "3. Consolidate these into a crisp overall summary that ties together the central ideas from all of the memos.\n",
        "4. Summarize the central points in each memo into a cohesive single narrative.\n",
        "\n",
        "To format your report:\n",
        "\n",
        "1. Use markdown formatting.\n",
        "2. Include no pre-amble for the report.\n",
        "3. Use no sub-heading.\n",
        "4. Start your report with a single title header: ## Insights\n",
        "5. Do not mention any analyst names in your report.\n",
        "6. Preserve any citations in the memos, which will be annotated in brackets, for example [1] or [2].\n",
        "7. Create a final, consolidated list of sources and add to a Sources section with the `## Sources` header.\n",
        "8. List your sources and authors in order and do not repeat.\n",
        "\n",
        "[1] Source 1\n",
        "[2] Source 2\n",
        "\n",
        "Here are the memos from your analysts to build your report from:\n",
        "\n",
        "{context}\"\"\"\n",
        "\n",
        "def write_report(state: ResearchGraphState):\n",
        "    # Full set of sections\n",
        "    sections = state[\"sections\"]\n",
        "    topic = state[\"topic\"]\n",
        "    print(\"### WRITE REPORT ####\")\n",
        "    # Concat all sections together\n",
        "    formatted_str_sections = \"\\n\\n\".join([f\"{section}\" for section in sections])\n",
        "\n",
        "    # Summarize the sections into a final report\n",
        "    system_message = report_writer_instructions.format(topic=topic, context=formatted_str_sections)\n",
        "    report = llm.invoke([SystemMessage(content=system_message)]+[HumanMessage(content=f\"Write a report based upon these memos.\")])\n",
        "    return {\"content\": report.content}\n",
        "\n",
        "intro_conclusion_instructions = \"\"\"You are a technical writer finishing a report on {topic}\n",
        "\n",
        "You will be given all of the sections of the report.\n",
        "\n",
        "You job is to write a crisp and compelling introduction or conclusion section.\n",
        "\n",
        "The user will instruct you whether to write the introduction or conclusion.\n",
        "\n",
        "Include no pre-amble for either section.\n",
        "\n",
        "Target around 100 words, crisply previewing (for introduction) or recapping (for conclusion) all of the sections of the report.\n",
        "\n",
        "Use markdown formatting.\n",
        "\n",
        "For your introduction, create a compelling title and use the # header for the title.\n",
        "\n",
        "For your introduction, use ## Introduction as the section header.\n",
        "\n",
        "For your conclusion, use ## Conclusion as the section header.\n",
        "\n",
        "Here are the sections to reflect on for writing: {formatted_str_sections}\"\"\"\n",
        "\n",
        "def write_introduction(state: ResearchGraphState):\n",
        "    # Full set of sections\n",
        "    sections = state[\"sections\"]\n",
        "    topic = state[\"topic\"]\n",
        "    print(\"### WRITE INTRODUCTION ####\")\n",
        "    # Concat all sections together\n",
        "    formatted_str_sections = \"\\n\\n\".join([f\"{section}\" for section in sections])\n",
        "\n",
        "    # Summarize the sections into a final report\n",
        "\n",
        "    instructions = intro_conclusion_instructions.format(topic=topic, formatted_str_sections=formatted_str_sections)\n",
        "    intro = llm.invoke([instructions]+[HumanMessage(content=f\"Write the report introduction\")])\n",
        "    return {\"introduction\": intro.content}\n",
        "\n",
        "def write_conclusion(state: ResearchGraphState):\n",
        "    # Full set of sections\n",
        "    sections = state[\"sections\"]\n",
        "    topic = state[\"topic\"]\n",
        "    print(\"### WRITE CONCLUSION ####\")\n",
        "    # Concat all sections together\n",
        "    formatted_str_sections = \"\\n\\n\".join([f\"{section}\" for section in sections])\n",
        "\n",
        "    # Summarize the sections into a final report\n",
        "\n",
        "    instructions = intro_conclusion_instructions.format(topic=topic, formatted_str_sections=formatted_str_sections)\n",
        "    conclusion = llm.invoke([instructions]+[HumanMessage(content=f\"Write the report conclusion\")])\n",
        "    return {\"conclusion\": conclusion.content}\n",
        "\n",
        "def finalize_report(state: ResearchGraphState):\n",
        "    \"\"\" The is the \"reduce\" step where we gather all the sections, combine them, and reflect on them to write the intro/conclusion \"\"\"\n",
        "    # Save full final report\n",
        "    content = state[\"content\"]\n",
        "    print(\"### FINALIZE REPORT ####\")\n",
        "    if content.startswith(\"## Insights\"):\n",
        "        content = content.strip(\"## Insights\")\n",
        "    if \"## Sources\" in content:\n",
        "        try:\n",
        "            content, sources = content.split(\"\\n## Sources\\n\")\n",
        "        except:\n",
        "            sources = None\n",
        "    else:\n",
        "        sources = None\n",
        "\n",
        "    final_report = state[\"introduction\"] + \"\\n\\n---\\n\\n\" + content + \"\\n\\n---\\n\\n\" + state[\"conclusion\"]\n",
        "    if sources is not None:\n",
        "        final_report += \"\\n\\n## Sources\\n\" + sources\n",
        "    return {\"final_report\": final_report}\n",
        "\n",
        "# Add nodes and edges\n",
        "builder = StateGraph(ResearchGraphState)\n",
        "builder.add_node(\"create_analysts\", create_analysts)\n",
        "builder.add_node(\"human_feedback\", human_feedback)\n",
        "builder.add_node(\"conduct_interview\", interview_builder.compile())\n",
        "builder.add_node(\"write_report\",write_report)\n",
        "builder.add_node(\"write_introduction\",write_introduction)\n",
        "builder.add_node(\"write_conclusion\",write_conclusion)\n",
        "builder.add_node(\"finalize_report\",finalize_report)\n",
        "\n",
        "# Logic\n",
        "builder.add_edge(START, \"create_analysts\")\n",
        "builder.add_edge(\"create_analysts\", \"human_feedback\")\n",
        "builder.add_conditional_edges(\"human_feedback\", initiate_all_interviews, [\"create_analysts\", \"conduct_interview\"])\n",
        "builder.add_edge(\"conduct_interview\", \"write_report\")\n",
        "builder.add_edge(\"conduct_interview\", \"write_introduction\")\n",
        "builder.add_edge(\"conduct_interview\", \"write_conclusion\")\n",
        "builder.add_edge([\"write_conclusion\", \"write_report\", \"write_introduction\"], \"finalize_report\")\n",
        "builder.add_edge(\"finalize_report\", END)\n",
        "\n",
        "# Compile\n",
        "memory = MemorySaver()\n",
        "graph = builder.compile(interrupt_before=['human_feedback'], checkpointer=memory)\n",
        "display(Image(graph.get_graph(xray=1).draw_mermaid_png()))"
      ]
    },
    {
      "cell_type": "markdown",
      "id": "1b64ba9a-2b5e-40e1-a778-0f635aa3f6d0",
      "metadata": {
        "id": "1b64ba9a-2b5e-40e1-a778-0f635aa3f6d0"
      },
      "source": [
        "Let's ask an open-ended question about LangGraph."
      ]
    },
    {
      "cell_type": "code",
      "execution_count": null,
      "id": "362932ee-4106-4a2d-a32d-b812eafcf9df",
      "metadata": {
        "colab": {
          "base_uri": "https://localhost:8080/"
        },
        "id": "362932ee-4106-4a2d-a32d-b812eafcf9df",
        "outputId": "1af6b41d-1904-48e3-a017-816000f09f23"
      },
      "outputs": [],
      "source": [
        "# Inputs\n",
        "max_analysts = 4\n",
        "#topic = \"The benefits of adopting a healthy life style to prevent cardiovascular conditions\"\n",
        "thread = {\"configurable\": {\"thread_id\": \"1\"}}\n",
        "\n",
        "# Run the graph until the first interruption\n",
        "for event in graph.stream({\"topic\":topic,\n",
        "                           \"max_analysts\":max_analysts},\n",
        "                          thread,\n",
        "                          stream_mode=\"values\"):\n",
        "\n",
        "    analysts = event.get('analysts', '')\n",
        "    if analysts:\n",
        "        for analyst in analysts:\n",
        "            print(f\"Name: {analyst.name}\")\n",
        "            print(f\"Affiliation: {analyst.affiliation}\")\n",
        "            print(f\"Role: {analyst.role}\")\n",
        "            print(f\"Description: {analyst.description}\")\n",
        "            print(\"-\" * 50)"
      ]
    },
    {
      "cell_type": "code",
      "execution_count": null,
      "id": "ac521a5f-5a4f-44f9-8af9-d05228e20882",
      "metadata": {
        "colab": {
          "base_uri": "https://localhost:8080/"
        },
        "id": "ac521a5f-5a4f-44f9-8af9-d05228e20882",
        "outputId": "d06099c7-dd0c-4652-bda8-15558c891a27"
      },
      "outputs": [],
      "source": [
        "# We now update the state as if we are the human_feedback node\n",
        "graph.update_state(thread, {\"human_analyst_feedback\":\n",
        "                                \"Add somebody with Pharmaceutical reasearch Background   \"}, as_node=\"human_feedback\")"
      ]
    },
    {
      "cell_type": "code",
      "execution_count": null,
      "id": "a3be311f-62ee-49e7-b037-75c53d8960a8",
      "metadata": {
        "colab": {
          "base_uri": "https://localhost:8080/"
        },
        "id": "a3be311f-62ee-49e7-b037-75c53d8960a8",
        "outputId": "dd9c3484-c4de-4460-ab98-98780739c351"
      },
      "outputs": [],
      "source": [
        "# Check\n",
        "for event in graph.stream(None, thread, stream_mode=\"values\"):\n",
        "    analysts = event.get('analysts', '')\n",
        "    if analysts:\n",
        "        for analyst in analysts:\n",
        "            print(f\"Name: {analyst.name}\")\n",
        "            print(f\"Affiliation: {analyst.affiliation}\")\n",
        "            print(f\"Role: {analyst.role}\")\n",
        "            print(f\"Description: {analyst.description}\")\n",
        "            print(\"-\" * 50)"
      ]
    },
    {
      "cell_type": "code",
      "execution_count": null,
      "id": "0af41f54-88d9-4597-98b0-444c08322095",
      "metadata": {
        "colab": {
          "base_uri": "https://localhost:8080/"
        },
        "id": "0af41f54-88d9-4597-98b0-444c08322095",
        "outputId": "082711a4-3543-4e57-e56d-b6c487d87e77"
      },
      "outputs": [],
      "source": [
        "# Confirm we are happy\n",
        "graph.update_state(thread, {\"human_analyst_feedback\":\n",
        "                            None}, as_node=\"human_feedback\")"
      ]
    },
    {
      "cell_type": "code",
      "execution_count": null,
      "id": "37123ca7-c20b-43c1-9a71-39ba344e7ca6",
      "metadata": {
        "colab": {
          "base_uri": "https://localhost:8080/"
        },
        "id": "37123ca7-c20b-43c1-9a71-39ba344e7ca6",
        "outputId": "dd70c3af-6326-4af5-da7d-c5a87d8f8669"
      },
      "outputs": [],
      "source": [
        "# Continue\n",
        "for event in graph.stream(None, thread, stream_mode=\"updates\"):\n",
        "    print(\"--Node--\")\n",
        "    node_name = next(iter(event.keys()))\n",
        "    print(node_name)"
      ]
    },
    {
      "cell_type": "code",
      "execution_count": null,
      "id": "f8f66ad8-80fd-4eb2-96b6-6ae9dffd060c",
      "metadata": {
        "colab": {
          "base_uri": "https://localhost:8080/",
          "height": 1000
        },
        "id": "f8f66ad8-80fd-4eb2-96b6-6ae9dffd060c",
        "outputId": "a3e9d946-f673-4cd1-d824-c2ea5d9bd1f7"
      },
      "outputs": [],
      "source": [
        "from IPython.display import Markdown\n",
        "final_state = graph.get_state(thread)\n",
        "report = final_state.values.get('final_report')\n",
        "Markdown(report)"
      ]
    },
    {
      "cell_type": "code",
      "execution_count": null,
      "id": "808bd094",
      "metadata": {
        "id": "808bd094"
      },
      "outputs": [],
      "source": []
    }
  ],
  "metadata": {
    "colab": {
      "include_colab_link": true,
      "provenance": []
    },
    "kernelspec": {
      "display_name": "Python 3 (ipykernel)",
      "language": "python",
      "name": "python3"
    },
    "language_info": {
      "codemirror_mode": {
        "name": "ipython",
        "version": 3
      },
      "file_extension": ".py",
      "mimetype": "text/x-python",
      "name": "python",
      "nbconvert_exporter": "python",
      "pygments_lexer": "ipython3",
      "version": "3.12.1"
    }
  },
  "nbformat": 4,
  "nbformat_minor": 5
}
