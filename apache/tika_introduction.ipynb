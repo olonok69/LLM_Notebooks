{
 "cells": [
  {
   "cell_type": "markdown",
   "id": "20362b13-b9d1-44b2-8b7e-2d3245643ebf",
   "metadata": {},
   "source": [
    "# Apache Tika a content analysis toolkit\n",
    "\n",
    "The Apache Tika™ toolkit detects and extracts metadata and text from over a thousand different file types (such as PPT, XLS, and PDF). All of these file types can be parsed through a single interface, making Tika useful for search engine indexing, content analysis, translation, and much more. \n",
    "\n",
    "# Install\n",
    "- https://cwiki.apache.org/confluence/display/TIKA/TikaServer#TikaServer-InstallationofTikaServer\n",
    "- https://github.com/apache/tika-docker  (docker pull apache/tika:latest-full)\n",
    "- https://pypi.org/project/tika/\n",
    "- https://tika.apache.org/1.10/formats.html\n",
    "  \n",
    "# Documentation \n",
    "https://cwiki.apache.org/confluence/display/tika\n",
    "\n"
   ]
  },
  {
   "cell_type": "code",
   "execution_count": null,
   "id": "0fca5194-e553-4698-a72d-a7d98c974c6a",
   "metadata": {},
   "outputs": [],
   "source": [
    "#! pip install langdetect"
   ]
  },
  {
   "cell_type": "code",
   "execution_count": null,
   "id": "97f6ff13-1552-4cb9-b658-de663aba9038",
   "metadata": {},
   "outputs": [],
   "source": [
    "import tika\n",
    "from tika import parser\n",
    "from tika import language "
   ]
  },
  {
   "cell_type": "code",
   "execution_count": null,
   "id": "365f59b0-b538-448e-aa87-8041d14f4d58",
   "metadata": {},
   "outputs": [],
   "source": [
    "string_parsed = parser.from_buffer('hola como estas', 'http://localhost:9998/tika')"
   ]
  },
  {
   "cell_type": "code",
   "execution_count": null,
   "id": "f290c72a-4786-4949-8edc-64c32bb22c31",
   "metadata": {},
   "outputs": [],
   "source": [
    "string_parsed"
   ]
  },
  {
   "cell_type": "code",
   "execution_count": null,
   "id": "d887b616-f919-49ca-ace0-523a16137496",
   "metadata": {},
   "outputs": [],
   "source": [
    "text = string_parsed[\"content\"]\n",
    "detected_lang = language.from_buffer(text)\n",
    "detected_lang"
   ]
  },
  {
   "cell_type": "code",
   "execution_count": null,
   "id": "e4546d56-838a-4fe1-8761-0331b8a64e78",
   "metadata": {},
   "outputs": [],
   "source": [
    "from __future__ import annotations\n",
    "from enum import Enum"
   ]
  },
  {
   "cell_type": "code",
   "execution_count": null,
   "id": "9e039e32-daea-404d-b0ba-2dcc8c131397",
   "metadata": {},
   "outputs": [],
   "source": [
    "class Langs(Enum):\n",
    "    Language_English : str = \"The quick brown fox jumps over the lazy dog.\"\n",
    "    Language_Arabic : str = \"صِف خَلقَ خَودِ كَمِثلِ الشَمسِ إِذ بَزَغَت — يَحظى الضَجيعُ بِها نَجلاءَ مِعطارِ\"\n",
    "    Language_Bulgarian : str = \"Ах чудна българска земьо полюшвай цъфтящи жита.\"\n",
    "    Language_Catalan : str = \"Jove xef porti whisky amb quinze glaçons d’hidrogen coi!\"\n",
    "    Language_Croatian : str = \"Gojazni đačić s biciklom drži hmelj i finu vatu u džepu nošnje.\"\n",
    "    Language_Czech : str = \"Nechť již hříšné saxofony ďáblů rozezvučí síň úděsnými tóny waltzu tanga a quickstepu.\"\n",
    "    Language_Danish : str = \"Quizdeltagerne spiste jordbær med fløde mens cirkusklovnen Walther spillede på xylofon.\"\n",
    "    Language_Esperanto : str = \"Laŭ Ludoviko Zamenhof bongustas freŝa ĉeĥa manĝaĵo kun spicoj.\"\n",
    "    Language_Estonian : str = \"Põdur Zagrebi tšellomängija-följetonist Ciqo külmetas kehvas garaažis\"\n",
    "    Language_Finnish : str = \"Hyvän lorun sangen pieneksi hyödyksi jäi suomen kirjaimet.\"\n",
    "    Language_French : str = \"Portez ce vieux whisky au juge blond qui fume\"\n",
    "    Language_German : str = \"Franz jagt im komplett verwahrlosten Taxi quer durch Bayern\"\n",
    "    Language_Greek_Modern : str = \"Ταχίστη αλώπηξ βαφής ψημένη γη δρασκελίζει υπέρ νωθρού κυνός\"\n",
    "    Language_Hebrew : str = \"דג סקרן שט בים מאוכזב ולפתע מצא חברה dg sqrn šṭ bjM mʾwkzb wlptʿ mṣʾ ḥbrh\"\n",
    "    Language_Hindi : str = \"ऋषियों को सताने वाले दुष्ट राक्षसों के राजा रावण का सर्वनाश करने वाले विष्णुवतार भगवान श्रीराम अयोध्या के महाराज दशरथ के बड़े सपुत्र थे।\"\n",
    "    Language_Hungarian : str = \"Jó foxim és don Quijote húszwattos lámpánál ülve egy pár bűvös cipőt készít\"\n",
    "    Language_Icelandic : str = \"Kæmi ný öxi hér ykist þjófum nú bæði víl og ádrepa.\"\n",
    "    Language_Indonesian : str = \"Muharjo seorang xenofobia universal yang takut pada warga jazirah contohnya Qatar.\"\n",
    "    Language_Irish : str = \"D’fhuascail Íosa Úrmhac na hÓighe Beannaithe pór Éava agus Ádhaimh\"\n",
    "    Language_Italian : str = \"Quel vituperabile xenofobo zelante assaggia il whisky ed esclama: alleluja!\"\n",
    "    Language_Japanese : str = \"いろはにほへと ちりぬるを わかよたれそ つねならむ うゐのおくやま けふこえて あさきゆめみし ゑひもせす（ん）\"\n",
    "    Language_Javanese : str = \"꧋ ꦲꦤꦕꦫꦏ꧈ ꦢꦠꦱꦮꦭ꧈ ꦥꦝꦗꦪꦚ꧈ ꦩꦒꦧꦛꦔ꧉ Hanacaraka datasawala padhajayanya magabathanga.\"\n",
    "    Language_Korean : str = \"키스의 고유조건은 입술끼리 만나야 하고 특별한 기술은 필요치 않다.\"\n",
    "    Language_Latvian : str = \"Muļķa hipiji mēģina brīvi nogaršot celofāna žņaudzējčūsku.\"\n",
    "    Language_Lithuanian : str = \"Įlinkdama fechtuotojo špaga sublykčiojusi pragręžė apvalų arbūzą\"\n",
    "    Language_Macedonian : str = \"Ѕидарски пејзаж: шугав билмез со чудење џвака ќофте и кељ на туѓ цех.\"\n",
    "    Language_Malay : str = \"അജവും ആനയും ഐരാവതവും ഗരുഡനും കഠോര സ്വരം പൊഴിക്കെ ഹാരവും ഒഢ്യാണവും ഫാലത്തില്‍ മഞ്ഞളും ഈറന്‍ കേശത്തില്‍ ഔഷധ എണ്ണയുമായി ഋതുമതിയും അനഘയും ഭൂനാഥയുമായ ഉമ ദുഃഖഛവിയോടെ ഇടതു പാദം ഏന്തി ങ്യേയാദൃശം നിര്‍ഝരിയിലെ ചിറ്റലകളെ ഓമനിക്കുമ്പോള്‍ ബാ‍ലയുടെ കണ്‍കളില്‍ നീര്‍ ഊര്‍ന്നു വിങ്ങി.\"\n",
    "    Language_Mongolian : str = \"Щётканы фермд пийшин цувъя. Бөгж зогсч хэльюү.\"\n",
    "    Language_Norwegian : str = \"Vår sære Zulu fra badeøya spilte jo whist og quickstep i min taxi.\"\n",
    "    Language_Polish : str = \"Jeżu klątw spłódź Finom część gry hańb!\"\n",
    "    Language_Portuguese : str = \"Um pequeno jabuti xereta viu dez cegonhas felizes.\"\n",
    "    Language_Romanian : str = \"Muzicologă în bej vând whisky și tequila preț fix.\"\n",
    "    Language_Russian : str = \"Эх чужак общий съём цен шляп (юфть) – вдрызг!\"\n",
    "    Language_Serbian : str = \"Gojazni đačić s biciklom drži hmelj i finu vatu u džepu nošnje.\"\n",
    "    Language_Slovak : str = \"Kŕdeľ šťastných ďatľov učí pri ústí Váhu mĺkveho koňa obhrýzať kôru a žrať čerstvé mäso.\"\n",
    "    Language_Slovenian : str = \"Besni dirkač iz formule žuga cehu poštarjev.\"\n",
    "    Language_Spanish : str = \"José compró una vieja zampoña en Perú. Excusándose Sofía tiró su whisky al desagüe de la banqueta. esto no va a quedar asi, le dijo el bombero\"\n",
    "    Language_Swedish : str = \"Flygande bäckasiner söka hwila på mjuka tuvor.\"\n",
    "    Language_Thai : str = \"เป็นมนุษย์สุดประเสริฐเลิศคุณค่า กว่าบรรดาฝูงสัตว์เดรัจฉาน จงฝ่าฟันพัฒนาวิชาการ อย่าล้างผลาญฤๅเข่นฆ่าบีฑาใคร ไม่ถือโทษโกรธแช่งซัดฮึดฮัดด่า หัดอภัยเหมือนกีฬาอัชฌาสัย ปฏิบัติประพฤติกฎกำหนดใจ พูดจาให้จ๊ะๆ จ๋าๆ น่าฟังเอยฯ\"\n",
    "    Language_Turkish : str = \"Pijamalı hasta yağız şoföre çabucak güvendi.\"\n",
    "    Language_Ukrainian : str = \"Жебракують філософи при ґанку церкви в Гадячі ще й шатро їхнє п’яне знаємо.\"\n",
    "    Language_Urdu : str = \"ٹھنڈ میں، ایک قحط زدہ گاؤں سے گذرتے وقت ایک چڑچڑے، باأثر و فارغ شخص کو بعض جل پری نما اژدہے نظر آئے۔\"\n",
    "    Language_Yoruba : str = \"Ìwò̩fà ń yò̩ séji tó gbojúmó̩ ó hàn pákànpò̩ gan-an nis̩é̩ rè̩ bó dò̩la.\"\n",
    "    Language_Welsh : str = \"Parciais fy jac codi baw hud llawn dŵr ger tŷ Mabon.\"\n",
    "    "
   ]
  },
  {
   "cell_type": "code",
   "execution_count": null,
   "id": "c384ec47-8958-45dd-8389-241d1cab33f2",
   "metadata": {},
   "outputs": [],
   "source": [
    "from langdetect import detect"
   ]
  },
  {
   "cell_type": "code",
   "execution_count": null,
   "id": "56c6b152-4c60-48e6-b916-f45bc7458485",
   "metadata": {},
   "outputs": [],
   "source": [
    "for lang in Langs:\n",
    "    string_parsed = parser.from_buffer(lang.value, 'http://localhost:9998/tika')\n",
    "    text = string_parsed[\"content\"]\n",
    "    detected_lang = language.from_buffer(text)\n",
    "    detection = detect(lang.value)\n",
    "    print(f\"Language Original: {lang}, Language detected detect: {detection}, tika language detection {detected_lang}\")"
   ]
  },
  {
   "cell_type": "code",
   "execution_count": null,
   "id": "bc6de4da-ff55-473d-9741-93df2571cb28",
   "metadata": {},
   "outputs": [],
   "source": [
    "pdf = parser.from_file(\"Parser Source 2.pdf\", 'http://localhost:9998/tika')\n",
    "text = pdf[\"content\"]\n",
    "detected_lang = language.from_buffer(text)\n",
    "detected_lang"
   ]
  },
  {
   "cell_type": "code",
   "execution_count": null,
   "id": "000c5ad1-664f-42a3-87ce-85042f77d32e",
   "metadata": {},
   "outputs": [],
   "source": [
    "pdf = parser.from_file(\"Parser Source 1.csv\", 'http://localhost:9998/tika')\n",
    "text = pdf[\"content\"]\n",
    "detected_lang = language.from_buffer(text)\n",
    "detected_lang"
   ]
  },
  {
   "cell_type": "code",
   "execution_count": null,
   "id": "b98c3771-c69e-4ee8-869a-6c0f72a55887",
   "metadata": {},
   "outputs": [],
   "source": [
    "path= \"contribution_form_Juan_23082023.pdf\""
   ]
  },
  {
   "cell_type": "code",
   "execution_count": null,
   "id": "9fa7f035-36d0-4570-ba5f-2839918c4543",
   "metadata": {},
   "outputs": [],
   "source": [
    "headers = {\n",
    "    \"X-Tika-OCRLanguage\": \"eng+nor\"\n",
    "}\n",
    "parsed = parser.from_file(path, headers=headers)"
   ]
  },
  {
   "cell_type": "code",
   "execution_count": null,
   "id": "bbb8960c-f215-4eca-ba4a-a791b538f78f",
   "metadata": {},
   "outputs": [],
   "source": [
    "parsed.keys()"
   ]
  },
  {
   "cell_type": "code",
   "execution_count": null,
   "id": "6a01704c-8fbb-4367-ac45-49ebd003a7bd",
   "metadata": {},
   "outputs": [],
   "source": [
    "print(parsed['metadata'])"
   ]
  },
  {
   "cell_type": "code",
   "execution_count": null,
   "id": "222c4d4a-3bb3-457d-a5b4-763563d39e13",
   "metadata": {
    "scrolled": true
   },
   "outputs": [],
   "source": [
    "#print(parsed['content'])"
   ]
  },
  {
   "cell_type": "code",
   "execution_count": null,
   "id": "ff75d2fe-894f-444c-bd1b-e93b56986daf",
   "metadata": {},
   "outputs": [],
   "source": [
    "path= \"data/1a697bdT.tif\""
   ]
  },
  {
   "cell_type": "code",
   "execution_count": null,
   "id": "84f494ac-caed-4d97-9066-c86501cf5105",
   "metadata": {},
   "outputs": [],
   "source": [
    "headers = {\n",
    "    \"X-Tika-OCRLanguage\": \"eng+nor\"\n",
    "}\n",
    "parsed = parser.from_file(path, headers=headers)"
   ]
  },
  {
   "cell_type": "code",
   "execution_count": null,
   "id": "093d8687-dabb-4a98-aaea-7c48c03b4d7f",
   "metadata": {},
   "outputs": [],
   "source": [
    "print(parsed['metadata'])"
   ]
  },
  {
   "cell_type": "code",
   "execution_count": null,
   "id": "ea3fa877-bb3b-48ab-8897-1f1b8d5e862c",
   "metadata": {
    "scrolled": true
   },
   "outputs": [],
   "source": [
    "print(parsed['content'])"
   ]
  },
  {
   "cell_type": "code",
   "execution_count": null,
   "id": "ca14323d-e272-427d-94e1-17cacc9f4292",
   "metadata": {},
   "outputs": [],
   "source": [
    "from tika import detector"
   ]
  },
  {
   "cell_type": "code",
   "execution_count": null,
   "id": "563d01e8-f7a1-4a93-ad8e-e6e016ba47e6",
   "metadata": {},
   "outputs": [],
   "source": [
    "path= \"contribution_form_Juan_23082023.pdf\"\n",
    "detector.from_file(path)"
   ]
  },
  {
   "cell_type": "code",
   "execution_count": null,
   "id": "16e595ef-00ce-4f42-b774-9a6acc46360c",
   "metadata": {},
   "outputs": [],
   "source": [
    "path= \"data/1a697bdT.tif\"\n",
    "detector.from_file(path)"
   ]
  },
  {
   "cell_type": "code",
   "execution_count": null,
   "id": "fa74c94e-d69e-4e75-a7c5-3d260082eddf",
   "metadata": {
    "scrolled": true
   },
   "outputs": [],
   "source": [
    "from tika import config\n",
    "print(config.getParsers())\n"
   ]
  },
  {
   "cell_type": "code",
   "execution_count": null,
   "id": "34f1c6df-9411-4f0c-8248-4ad8e1874542",
   "metadata": {
    "scrolled": true
   },
   "outputs": [],
   "source": [
    "print(config.getMimeTypes())\n"
   ]
  },
  {
   "cell_type": "code",
   "execution_count": null,
   "id": "4b7b51be-cdb4-4128-a7c2-756f294a634a",
   "metadata": {},
   "outputs": [],
   "source": [
    "print(config.getDetectors())"
   ]
  },
  {
   "cell_type": "code",
   "execution_count": null,
   "id": "0e67eeb5-7501-47f4-b307-35693439f717",
   "metadata": {},
   "outputs": [],
   "source": [
    "# #!/usr/bin/env python\n",
    "# from tika import translate\n",
    "# print(translate.from_buffer('Hola Buenos dias, estoy en Londres y hoy es Domingo', 'es', 'en'))"
   ]
  },
  {
   "cell_type": "code",
   "execution_count": null,
   "id": "473e15b1-c98b-4b7f-809e-f6aa61c5152d",
   "metadata": {},
   "outputs": [],
   "source": [
    "path = \"data/HERMANAS (Certificado Nacionalidad).jpg\"\n",
    "headers = {\n",
    "    \"X-Tika-OCRLanguage\": \"eng+esp+nor\"\n",
    "}\n",
    "parsed = parser.from_file(path, headers=headers)"
   ]
  },
  {
   "cell_type": "code",
   "execution_count": null,
   "id": "e54f3453-4c28-4e13-90bd-e80c51987eb2",
   "metadata": {
    "scrolled": true
   },
   "outputs": [],
   "source": [
    "print(parsed['content'])"
   ]
  },
  {
   "cell_type": "code",
   "execution_count": null,
   "id": "9d833f8f-25e2-4f01-89d0-64ba8e5fc1e1",
   "metadata": {
    "scrolled": true
   },
   "outputs": [],
   "source": [
    "path = \"data/invitation.gif\"\n",
    "headers = {\n",
    "    \"X-Tika-OCRLanguage\": \"eng+esp+nor\"\n",
    "}\n",
    "parsed = parser.from_file(path, headers=headers)\n",
    "print(parsed['content'])"
   ]
  },
  {
   "cell_type": "code",
   "execution_count": null,
   "id": "7b1c24e6-5c1c-486f-b0df-5d48ba3c2471",
   "metadata": {
    "scrolled": true
   },
   "outputs": [],
   "source": [
    "path = \"data/Parser Source 1.xlsx\"\n",
    "headers = {\n",
    "    \"X-Tika-OCRLanguage\": \"eng+esp+nor\"\n",
    "}\n",
    "parsed = parser.from_file(path, headers=headers)\n",
    "print(parsed['content'])"
   ]
  },
  {
   "cell_type": "code",
   "execution_count": null,
   "id": "59ba395a-a684-4b4b-8e3b-611cda2786b7",
   "metadata": {},
   "outputs": [],
   "source": [
    "path = \"data/male.wav\"\n",
    "headers = {\n",
    "    \"X-Tika-OCRLanguage\": \"eng+esp+nor\"\n",
    "}\n",
    "parsed = parser.from_file(path, headers=headers)\n",
    "print(parsed['content'])"
   ]
  },
  {
   "cell_type": "code",
   "execution_count": null,
   "id": "ad135c97-f172-4f3c-9bce-2fa1b50de8d0",
   "metadata": {},
   "outputs": [],
   "source": [
    "print(parsed['metadata'])"
   ]
  },
  {
   "cell_type": "code",
   "execution_count": null,
   "id": "64796839-2846-4b14-b899-8daa2233369a",
   "metadata": {},
   "outputs": [],
   "source": [
    "path = \"data/Welcome back to Planet Earth.mp4\"\n",
    "headers = {\n",
    "    \"X-Tika-OCRLanguage\": \"eng+esp+nor\"\n",
    "}\n",
    "parsed = parser.from_file(path, headers=headers)\n",
    "print(parsed['content'])"
   ]
  },
  {
   "cell_type": "code",
   "execution_count": null,
   "id": "69297fde-dca6-44c8-b3b2-9f1e46170179",
   "metadata": {},
   "outputs": [],
   "source": [
    "print(parsed['metadata'])"
   ]
  },
  {
   "cell_type": "code",
   "execution_count": null,
   "id": "83890ff4-6cf1-4339-a0ba-b1580aeab529",
   "metadata": {},
   "outputs": [],
   "source": [
    "path = \"data/cj.pdf\"\n",
    "headers = {\n",
    "    \"X-Tika-OCRLanguage\": \"eng+esp+nor\"\n",
    "}\n",
    "parsed = parser.from_file(path, headers=headers)\n",
    "print(parsed['content'])"
   ]
  },
  {
   "cell_type": "code",
   "execution_count": null,
   "id": "91a1620a-9223-4c27-8d49-44e3e6de5338",
   "metadata": {},
   "outputs": [],
   "source": []
  }
 ],
 "metadata": {
  "kernelspec": {
   "display_name": "Python (tika)",
   "language": "python",
   "name": "tika"
  },
  "language_info": {
   "codemirror_mode": {
    "name": "ipython",
    "version": 3
   },
   "file_extension": ".py",
   "mimetype": "text/x-python",
   "name": "python",
   "nbconvert_exporter": "python",
   "pygments_lexer": "ipython3",
   "version": "3.11.10"
  }
 },
 "nbformat": 4,
 "nbformat_minor": 5
}
