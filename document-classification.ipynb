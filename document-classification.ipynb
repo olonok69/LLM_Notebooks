{
 "cells": [
  {
   "cell_type": "code",
   "execution_count": null,
   "id": "9dea0b21",
   "metadata": {
    "_cell_guid": "b1076dfc-b9ad-4769-8c92-a6c4dae69d19",
    "_uuid": "8f2839f25d086af736a60e9eeb907d3b93b6e0e5",
    "execution": {
     "iopub.execute_input": "2024-01-03T22:56:12.351090Z",
     "iopub.status.busy": "2024-01-03T22:56:12.350459Z",
     "iopub.status.idle": "2024-01-03T22:56:13.124098Z",
     "shell.execute_reply": "2024-01-03T22:56:13.123193Z"
    },
    "papermill": {
     "duration": 0.791878,
     "end_time": "2024-01-03T22:56:13.130474",
     "exception": false,
     "start_time": "2024-01-03T22:56:12.338596",
     "status": "completed"
    },
    "tags": []
   },
   "outputs": [],
   "source": [
    "# This Python 3 environment comes with many helpful analytics libraries installed\n",
    "# It is defined by the kaggle/python Docker image: https://github.com/kaggle/docker-python\n",
    "# For example, here's several helpful packages to load\n",
    "\n",
    "import numpy as np # linear algebra\n",
    "import pandas as pd # data processing, CSV file I/O (e.g. pd.read_csv)\n",
    "\n",
    "# Input data files are available in the read-only \"../input/\" directory\n",
    "# For example, running this (by clicking run or pressing Shift+Enter) will list all files under the input directory\n",
    "\n",
    "import os\n",
    "for dirname, _, filenames in os.walk('/kaggle/input'):\n",
    "    for filename in filenames:\n",
    "        print(os.path.join(dirname, filename))\n",
    "\n",
    "# You can write up to 20GB to the current directory (/kaggle/working/) that gets preserved as output when you create a version using \"Save & Run All\" \n",
    "# You can also write temporary files to /kaggle/temp/, but they won't be saved outside of the current session"
   ]
  },
  {
   "cell_type": "code",
   "execution_count": null,
   "id": "a6eab90f",
   "metadata": {
    "execution": {
     "iopub.execute_input": "2024-01-03T22:56:13.156813Z",
     "iopub.status.busy": "2024-01-03T22:56:13.155998Z",
     "iopub.status.idle": "2024-01-03T22:56:14.093075Z",
     "shell.execute_reply": "2024-01-03T22:56:14.091997Z"
    },
    "papermill": {
     "duration": 0.951418,
     "end_time": "2024-01-03T22:56:14.095235",
     "exception": false,
     "start_time": "2024-01-03T22:56:13.143817",
     "status": "completed"
    },
    "tags": []
   },
   "outputs": [],
   "source": [
    "! head /kaggle/input/10dataset-text-document-classification/business/business_80.txt\n"
   ]
  },
  {
   "cell_type": "code",
   "execution_count": null,
   "id": "16177a11",
   "metadata": {
    "execution": {
     "iopub.execute_input": "2024-01-03T22:56:14.120123Z",
     "iopub.status.busy": "2024-01-03T22:56:14.119779Z",
     "iopub.status.idle": "2024-01-03T22:56:29.703581Z",
     "shell.execute_reply": "2024-01-03T22:56:29.702632Z"
    },
    "papermill": {
     "duration": 15.598948,
     "end_time": "2024-01-03T22:56:29.705964",
     "exception": false,
     "start_time": "2024-01-03T22:56:14.107016",
     "status": "completed"
    },
    "tags": []
   },
   "outputs": [],
   "source": [
    "import pandas as pd\n",
    "import numpy as np\n",
    "import matplotlib.pyplot as plt\n",
    "from tqdm.auto import tqdm\n",
    "import tensorflow as tf\n",
    "from transformers import BertTokenizer\n",
    "from sklearn.model_selection import train_test_split"
   ]
  },
  {
   "cell_type": "code",
   "execution_count": null,
   "id": "48b37505",
   "metadata": {
    "execution": {
     "iopub.execute_input": "2024-01-03T22:56:29.731277Z",
     "iopub.status.busy": "2024-01-03T22:56:29.730719Z",
     "iopub.status.idle": "2024-01-03T22:56:33.197927Z",
     "shell.execute_reply": "2024-01-03T22:56:33.197062Z"
    },
    "papermill": {
     "duration": 3.482073,
     "end_time": "2024-01-03T22:56:33.200304",
     "exception": false,
     "start_time": "2024-01-03T22:56:29.718231",
     "status": "completed"
    },
    "tags": []
   },
   "outputs": [],
   "source": [
    "## we will be removing all the stopwords from all the text file and stemming the text.\n",
    "\n",
    "from nltk.corpus import stopwords\n",
    "import nltk\n",
    "\n",
    "stop_words = stopwords.words('english')\n",
    "prt = nltk.stem.PorterStemmer()\n",
    "\n",
    "def preprocess(document_path):\n",
    "    \n",
    "    with open(document_path, 'r') as file:\n",
    "        document = file.read()\n",
    "        tokens = document.split(\" \")\n",
    "#     tokens = nltk.word_tokenize(document)\n",
    "\n",
    "        tokens_pun_lower = [i.lower() for i in tokens if i.isalnum()]\n",
    "\n",
    "        tokens_stop = [i for i in tokens_pun_lower if i not in stop_words]\n",
    "\n",
    "    #terms = [prt.stem(i) for i in tokens_stop]\n",
    "    \n",
    "    return \" \".join(tokens_stop)\n",
    "import os\n",
    "Data = []\n",
    "for dirname, _, filenames in os.walk('/kaggle/input'):\n",
    "    for filename in filenames:\n",
    "        #print(os.path.join(dirname, filename))\n",
    "        \n",
    "        doc_class = filename.split('_')[0].lower()\n",
    "        doc_titles = filename\n",
    "        documents = preprocess(os.path.join(dirname, filename))\n",
    "        \n",
    "        Data.append([doc_titles, documents, doc_class])\n",
    "\n",
    "df = pd.DataFrame (Data, columns = ['Title', 'Document', 'Class'])"
   ]
  },
  {
   "cell_type": "code",
   "execution_count": null,
   "id": "aaf46a43",
   "metadata": {
    "execution": {
     "iopub.execute_input": "2024-01-03T22:56:33.225807Z",
     "iopub.status.busy": "2024-01-03T22:56:33.225524Z",
     "iopub.status.idle": "2024-01-03T22:56:33.241874Z",
     "shell.execute_reply": "2024-01-03T22:56:33.241030Z"
    },
    "papermill": {
     "duration": 0.031356,
     "end_time": "2024-01-03T22:56:33.243707",
     "exception": false,
     "start_time": "2024-01-03T22:56:33.212351",
     "status": "completed"
    },
    "tags": []
   },
   "outputs": [],
   "source": [
    "df.head()\n"
   ]
  },
  {
   "cell_type": "code",
   "execution_count": null,
   "id": "3c80883f",
   "metadata": {
    "execution": {
     "iopub.execute_input": "2024-01-03T22:56:33.268087Z",
     "iopub.status.busy": "2024-01-03T22:56:33.267812Z",
     "iopub.status.idle": "2024-01-03T22:56:33.328475Z",
     "shell.execute_reply": "2024-01-03T22:56:33.327813Z"
    },
    "papermill": {
     "duration": 0.07492,
     "end_time": "2024-01-03T22:56:33.330331",
     "exception": false,
     "start_time": "2024-01-03T22:56:33.255411",
     "status": "completed"
    },
    "tags": []
   },
   "outputs": [],
   "source": [
    "df.to_csv(\"documents_raw.csv\", index=False)"
   ]
  },
  {
   "cell_type": "code",
   "execution_count": null,
   "id": "482c5c4e",
   "metadata": {
    "execution": {
     "iopub.execute_input": "2024-01-03T22:56:33.354958Z",
     "iopub.status.busy": "2024-01-03T22:56:33.354694Z",
     "iopub.status.idle": "2024-01-03T22:56:36.675222Z",
     "shell.execute_reply": "2024-01-03T22:56:36.674435Z"
    },
    "papermill": {
     "duration": 3.335244,
     "end_time": "2024-01-03T22:56:36.677345",
     "exception": false,
     "start_time": "2024-01-03T22:56:33.342101",
     "status": "completed"
    },
    "tags": []
   },
   "outputs": [],
   "source": [
    "tokenizer = BertTokenizer.from_pretrained('bert-base-cased')"
   ]
  },
  {
   "cell_type": "code",
   "execution_count": null,
   "id": "4fdd7db5",
   "metadata": {
    "execution": {
     "iopub.execute_input": "2024-01-03T22:56:36.704646Z",
     "iopub.status.busy": "2024-01-03T22:56:36.704221Z",
     "iopub.status.idle": "2024-01-03T22:56:41.857976Z",
     "shell.execute_reply": "2024-01-03T22:56:41.857010Z"
    },
    "papermill": {
     "duration": 5.170121,
     "end_time": "2024-01-03T22:56:41.860290",
     "exception": false,
     "start_time": "2024-01-03T22:56:36.690169",
     "status": "completed"
    },
    "tags": []
   },
   "outputs": [],
   "source": [
    "token = tokenizer.encode_plus(\n",
    "    df['Document'].iloc[0], \n",
    "    max_length=256, \n",
    "    truncation=True, \n",
    "    padding='max_length', \n",
    "    add_special_tokens=True,\n",
    "    return_tensors='tf'\n",
    ")"
   ]
  },
  {
   "cell_type": "code",
   "execution_count": null,
   "id": "d71d91b2",
   "metadata": {
    "execution": {
     "iopub.execute_input": "2024-01-03T22:56:41.888241Z",
     "iopub.status.busy": "2024-01-03T22:56:41.887599Z",
     "iopub.status.idle": "2024-01-03T22:56:41.892146Z",
     "shell.execute_reply": "2024-01-03T22:56:41.891346Z"
    },
    "papermill": {
     "duration": 0.020509,
     "end_time": "2024-01-03T22:56:41.894002",
     "exception": false,
     "start_time": "2024-01-03T22:56:41.873493",
     "status": "completed"
    },
    "tags": []
   },
   "outputs": [],
   "source": [
    "X_input_ids = np.zeros((len(df), 256))\n",
    "X_attn_masks = np.zeros((len(df), 256))"
   ]
  },
  {
   "cell_type": "code",
   "execution_count": null,
   "id": "0e4ba3db",
   "metadata": {
    "execution": {
     "iopub.execute_input": "2024-01-03T22:56:41.920899Z",
     "iopub.status.busy": "2024-01-03T22:56:41.920078Z",
     "iopub.status.idle": "2024-01-03T22:56:41.925843Z",
     "shell.execute_reply": "2024-01-03T22:56:41.925091Z"
    },
    "papermill": {
     "duration": 0.02086,
     "end_time": "2024-01-03T22:56:41.927731",
     "exception": false,
     "start_time": "2024-01-03T22:56:41.906871",
     "status": "completed"
    },
    "tags": []
   },
   "outputs": [],
   "source": [
    "def generate_training_data(df, ids, masks, tokenizer):\n",
    "    for i, text in tqdm(enumerate(df['Document'])):\n",
    "        tokenized_text = tokenizer.encode_plus(\n",
    "            text,\n",
    "            max_length=256, \n",
    "            truncation=True, \n",
    "            padding='max_length', \n",
    "            add_special_tokens=True,\n",
    "            return_tensors='tf'\n",
    "        )\n",
    "        ids[i, :] = tokenized_text.input_ids\n",
    "        masks[i, :] = tokenized_text.attention_mask\n",
    "    return ids, masks"
   ]
  },
  {
   "cell_type": "code",
   "execution_count": null,
   "id": "7f80daaf",
   "metadata": {
    "execution": {
     "iopub.execute_input": "2024-01-03T22:56:41.954397Z",
     "iopub.status.busy": "2024-01-03T22:56:41.953820Z",
     "iopub.status.idle": "2024-01-03T22:56:48.975000Z",
     "shell.execute_reply": "2024-01-03T22:56:48.974189Z"
    },
    "papermill": {
     "duration": 7.036726,
     "end_time": "2024-01-03T22:56:48.976920",
     "exception": false,
     "start_time": "2024-01-03T22:56:41.940194",
     "status": "completed"
    },
    "tags": []
   },
   "outputs": [],
   "source": [
    "X_input_ids, X_attn_masks = generate_training_data(df, X_input_ids, X_attn_masks, tokenizer)"
   ]
  },
  {
   "cell_type": "code",
   "execution_count": null,
   "id": "d5d5b86a",
   "metadata": {
    "execution": {
     "iopub.execute_input": "2024-01-03T22:56:49.004039Z",
     "iopub.status.busy": "2024-01-03T22:56:49.003746Z",
     "iopub.status.idle": "2024-01-03T22:56:49.009822Z",
     "shell.execute_reply": "2024-01-03T22:56:49.008987Z"
    },
    "papermill": {
     "duration": 0.021617,
     "end_time": "2024-01-03T22:56:49.011782",
     "exception": false,
     "start_time": "2024-01-03T22:56:48.990165",
     "status": "completed"
    },
    "tags": []
   },
   "outputs": [],
   "source": [
    "labels = np.zeros((len(df), 10))\n",
    "labels.shape"
   ]
  },
  {
   "cell_type": "code",
   "execution_count": null,
   "id": "957b200a",
   "metadata": {
    "execution": {
     "iopub.execute_input": "2024-01-03T22:56:49.038926Z",
     "iopub.status.busy": "2024-01-03T22:56:49.038037Z",
     "iopub.status.idle": "2024-01-03T22:56:49.051922Z",
     "shell.execute_reply": "2024-01-03T22:56:49.051135Z"
    },
    "papermill": {
     "duration": 0.028953,
     "end_time": "2024-01-03T22:56:49.053730",
     "exception": false,
     "start_time": "2024-01-03T22:56:49.024777",
     "status": "completed"
    },
    "tags": []
   },
   "outputs": [],
   "source": [
    "df['Class'] = pd.factorize(df['Class'])[0]\n",
    "df.head()"
   ]
  },
  {
   "cell_type": "code",
   "execution_count": null,
   "id": "513684ea",
   "metadata": {
    "execution": {
     "iopub.execute_input": "2024-01-03T22:56:49.080687Z",
     "iopub.status.busy": "2024-01-03T22:56:49.080384Z",
     "iopub.status.idle": "2024-01-03T22:56:49.142065Z",
     "shell.execute_reply": "2024-01-03T22:56:49.141063Z"
    },
    "papermill": {
     "duration": 0.077417,
     "end_time": "2024-01-03T22:56:49.144348",
     "exception": false,
     "start_time": "2024-01-03T22:56:49.066931",
     "status": "completed"
    },
    "tags": []
   },
   "outputs": [],
   "source": [
    "df.to_csv(\"documents.csv\", index=False)"
   ]
  },
  {
   "cell_type": "code",
   "execution_count": null,
   "id": "1913702f",
   "metadata": {
    "execution": {
     "iopub.execute_input": "2024-01-03T22:56:49.174869Z",
     "iopub.status.busy": "2024-01-03T22:56:49.174526Z",
     "iopub.status.idle": "2024-01-03T22:56:49.179728Z",
     "shell.execute_reply": "2024-01-03T22:56:49.178862Z"
    },
    "papermill": {
     "duration": 0.023669,
     "end_time": "2024-01-03T22:56:49.181910",
     "exception": false,
     "start_time": "2024-01-03T22:56:49.158241",
     "status": "completed"
    },
    "tags": []
   },
   "outputs": [],
   "source": [
    "labels[np.arange(len(df)), df['Class'].values.astype(int)] = 1"
   ]
  },
  {
   "cell_type": "code",
   "execution_count": null,
   "id": "c80f7855",
   "metadata": {
    "execution": {
     "iopub.execute_input": "2024-01-03T22:56:49.212090Z",
     "iopub.status.busy": "2024-01-03T22:56:49.211812Z",
     "iopub.status.idle": "2024-01-03T22:56:49.241424Z",
     "shell.execute_reply": "2024-01-03T22:56:49.240454Z"
    },
    "papermill": {
     "duration": 0.046513,
     "end_time": "2024-01-03T22:56:49.243561",
     "exception": false,
     "start_time": "2024-01-03T22:56:49.197048",
     "status": "completed"
    },
    "tags": []
   },
   "outputs": [],
   "source": [
    "# creating a data pipeline using tensorflow dataset utility, creates batches of data for easy loading...\n",
    "dataset = tf.data.Dataset.from_tensor_slices((X_input_ids, X_attn_masks, labels))\n",
    "dataset.take(1) # one sample data\n",
    "     "
   ]
  },
  {
   "cell_type": "code",
   "execution_count": null,
   "id": "db99ef54",
   "metadata": {
    "execution": {
     "iopub.execute_input": "2024-01-03T22:56:49.317915Z",
     "iopub.status.busy": "2024-01-03T22:56:49.317551Z",
     "iopub.status.idle": "2024-01-03T22:56:49.322336Z",
     "shell.execute_reply": "2024-01-03T22:56:49.321435Z"
    },
    "papermill": {
     "duration": 0.020887,
     "end_time": "2024-01-03T22:56:49.324199",
     "exception": false,
     "start_time": "2024-01-03T22:56:49.303312",
     "status": "completed"
    },
    "tags": []
   },
   "outputs": [],
   "source": [
    "def ModelDatasetMapFunction(input_ids, attn_masks, labels):\n",
    "    return {\n",
    "        'input_ids': input_ids,\n",
    "        'attention_mask': attn_masks\n",
    "    }, labels"
   ]
  },
  {
   "cell_type": "code",
   "execution_count": null,
   "id": "44cc3940",
   "metadata": {
    "execution": {
     "iopub.execute_input": "2024-01-03T22:56:49.351277Z",
     "iopub.status.busy": "2024-01-03T22:56:49.350772Z",
     "iopub.status.idle": "2024-01-03T22:56:49.404552Z",
     "shell.execute_reply": "2024-01-03T22:56:49.403786Z"
    },
    "papermill": {
     "duration": 0.069566,
     "end_time": "2024-01-03T22:56:49.406671",
     "exception": false,
     "start_time": "2024-01-03T22:56:49.337105",
     "status": "completed"
    },
    "tags": []
   },
   "outputs": [],
   "source": [
    "dataset = dataset.map(ModelDatasetMapFunction)"
   ]
  },
  {
   "cell_type": "code",
   "execution_count": null,
   "id": "cb4822bc",
   "metadata": {
    "execution": {
     "iopub.execute_input": "2024-01-03T22:56:49.434506Z",
     "iopub.status.busy": "2024-01-03T22:56:49.434206Z",
     "iopub.status.idle": "2024-01-03T22:56:49.440403Z",
     "shell.execute_reply": "2024-01-03T22:56:49.439583Z"
    },
    "papermill": {
     "duration": 0.022063,
     "end_time": "2024-01-03T22:56:49.442359",
     "exception": false,
     "start_time": "2024-01-03T22:56:49.420296",
     "status": "completed"
    },
    "tags": []
   },
   "outputs": [],
   "source": [
    "dataset.take(1)"
   ]
  },
  {
   "cell_type": "code",
   "execution_count": null,
   "id": "8308ea63",
   "metadata": {
    "execution": {
     "iopub.execute_input": "2024-01-03T22:56:49.469529Z",
     "iopub.status.busy": "2024-01-03T22:56:49.469257Z",
     "iopub.status.idle": "2024-01-03T22:56:49.480989Z",
     "shell.execute_reply": "2024-01-03T22:56:49.480311Z"
    },
    "papermill": {
     "duration": 0.027528,
     "end_time": "2024-01-03T22:56:49.482905",
     "exception": false,
     "start_time": "2024-01-03T22:56:49.455377",
     "status": "completed"
    },
    "tags": []
   },
   "outputs": [],
   "source": [
    "dataset = dataset.shuffle(10000).batch(16, drop_remainder=True) # batch size, drop any left out tensor"
   ]
  },
  {
   "cell_type": "code",
   "execution_count": null,
   "id": "f7c79784",
   "metadata": {
    "execution": {
     "iopub.execute_input": "2024-01-03T22:56:49.510595Z",
     "iopub.status.busy": "2024-01-03T22:56:49.510023Z",
     "iopub.status.idle": "2024-01-03T22:56:49.514254Z",
     "shell.execute_reply": "2024-01-03T22:56:49.513392Z"
    },
    "papermill": {
     "duration": 0.020215,
     "end_time": "2024-01-03T22:56:49.516195",
     "exception": false,
     "start_time": "2024-01-03T22:56:49.495980",
     "status": "completed"
    },
    "tags": []
   },
   "outputs": [],
   "source": [
    "p = 0.8\n",
    "train_size = int((len(df)//16)*p) # for each 16 batch of data we will have len(df)//16 samples, take 80% of that for train"
   ]
  },
  {
   "cell_type": "code",
   "execution_count": null,
   "id": "f832702c",
   "metadata": {
    "execution": {
     "iopub.execute_input": "2024-01-03T22:56:49.543654Z",
     "iopub.status.busy": "2024-01-03T22:56:49.543366Z",
     "iopub.status.idle": "2024-01-03T22:56:49.548618Z",
     "shell.execute_reply": "2024-01-03T22:56:49.547760Z"
    },
    "papermill": {
     "duration": 0.021175,
     "end_time": "2024-01-03T22:56:49.550481",
     "exception": false,
     "start_time": "2024-01-03T22:56:49.529306",
     "status": "completed"
    },
    "tags": []
   },
   "outputs": [],
   "source": [
    "train_size"
   ]
  },
  {
   "cell_type": "code",
   "execution_count": null,
   "id": "2eaf4ad4",
   "metadata": {
    "execution": {
     "iopub.execute_input": "2024-01-03T22:56:49.577958Z",
     "iopub.status.busy": "2024-01-03T22:56:49.577684Z",
     "iopub.status.idle": "2024-01-03T22:56:49.585791Z",
     "shell.execute_reply": "2024-01-03T22:56:49.584934Z"
    },
    "papermill": {
     "duration": 0.024015,
     "end_time": "2024-01-03T22:56:49.587677",
     "exception": false,
     "start_time": "2024-01-03T22:56:49.563662",
     "status": "completed"
    },
    "tags": []
   },
   "outputs": [],
   "source": [
    "train_dataset = dataset.take(train_size)\n",
    "val_dataset = dataset.skip(train_size)\n"
   ]
  },
  {
   "cell_type": "code",
   "execution_count": null,
   "id": "07f66c4d",
   "metadata": {
    "execution": {
     "iopub.execute_input": "2024-01-03T22:56:49.615334Z",
     "iopub.status.busy": "2024-01-03T22:56:49.614862Z",
     "iopub.status.idle": "2024-01-03T22:56:49.776285Z",
     "shell.execute_reply": "2024-01-03T22:56:49.775320Z"
    },
    "papermill": {
     "duration": 0.177657,
     "end_time": "2024-01-03T22:56:49.778489",
     "exception": false,
     "start_time": "2024-01-03T22:56:49.600832",
     "status": "completed"
    },
    "tags": []
   },
   "outputs": [],
   "source": [
    "from transformers import TFBertModel"
   ]
  },
  {
   "cell_type": "code",
   "execution_count": null,
   "id": "bb21a48f",
   "metadata": {
    "execution": {
     "iopub.execute_input": "2024-01-03T22:56:49.806832Z",
     "iopub.status.busy": "2024-01-03T22:56:49.806527Z",
     "iopub.status.idle": "2024-01-03T22:56:58.663220Z",
     "shell.execute_reply": "2024-01-03T22:56:58.662349Z"
    },
    "papermill": {
     "duration": 8.872938,
     "end_time": "2024-01-03T22:56:58.665259",
     "exception": false,
     "start_time": "2024-01-03T22:56:49.792321",
     "status": "completed"
    },
    "tags": []
   },
   "outputs": [],
   "source": [
    "model = TFBertModel.from_pretrained('bert-base-cased')"
   ]
  },
  {
   "cell_type": "code",
   "execution_count": null,
   "id": "15d85ee4",
   "metadata": {
    "execution": {
     "iopub.execute_input": "2024-01-03T22:56:58.694482Z",
     "iopub.status.busy": "2024-01-03T22:56:58.694161Z",
     "iopub.status.idle": "2024-01-03T22:57:04.938164Z",
     "shell.execute_reply": "2024-01-03T22:57:04.937198Z"
    },
    "papermill": {
     "duration": 6.260844,
     "end_time": "2024-01-03T22:57:04.940254",
     "exception": false,
     "start_time": "2024-01-03T22:56:58.679410",
     "status": "completed"
    },
    "tags": []
   },
   "outputs": [],
   "source": [
    "from tensorflow.keras import regularizers\n",
    "input_ids = tf.keras.layers.Input(shape=(256,), name='input_ids', dtype='int32')\n",
    "attn_masks = tf.keras.layers.Input(shape=(256,), name='attention_mask', dtype='int32')\n",
    "bert_embds = model.bert(input_ids, attention_mask=attn_masks)[1] # 0 -> activation layer (3D), 1 -> pooled output layer (2D)\n",
    "intermediate_layer = tf.keras.layers.Dense(512, activation='relu', name='intermediate_layer', kernel_regularizer=regularizers.l2(0.01))(bert_embds)\n",
    "drop_out = tf.keras.layers.Dropout(0.2, name=\"dropout\")(intermediate_layer)\n",
    "output_layer = tf.keras.layers.Dense(10, activation='softmax', name='output_layer', kernel_regularizer=regularizers.l2(0.01))(drop_out) # softmax -> calcs probs of classes\n",
    "\n",
    "model = tf.keras.Model(inputs=[input_ids, attn_masks], outputs=output_layer)\n",
    "model.summary()"
   ]
  },
  {
   "cell_type": "code",
   "execution_count": null,
   "id": "df4443a7",
   "metadata": {
    "execution": {
     "iopub.execute_input": "2024-01-03T22:57:04.973927Z",
     "iopub.status.busy": "2024-01-03T22:57:04.973394Z",
     "iopub.status.idle": "2024-01-03T22:57:05.015574Z",
     "shell.execute_reply": "2024-01-03T22:57:05.014825Z"
    },
    "papermill": {
     "duration": 0.061138,
     "end_time": "2024-01-03T22:57:05.017708",
     "exception": false,
     "start_time": "2024-01-03T22:57:04.956570",
     "status": "completed"
    },
    "tags": []
   },
   "outputs": [],
   "source": [
    "learning_rate_schedule = tf.keras.optimizers.schedules.ExponentialDecay(\n",
    "    initial_learning_rate=1e-5, decay_rate=1e-6, decay_steps=10000)\n",
    "\n",
    "optim = tf.keras.optimizers.Adam(learning_rate=learning_rate_schedule)\n",
    "\n",
    "loss_func = tf.keras.losses.CategoricalCrossentropy()\n",
    "\n",
    "acc = tf.keras.metrics.CategoricalAccuracy('accuracy')\n",
    "precision = tf.keras.metrics.Precision(name='precision')\n",
    "recall = tf.keras.metrics.Recall(name='recall')\n",
    "\n",
    "model.compile(optimizer=optim, loss=loss_func, metrics=[acc, precision, recall])"
   ]
  },
  {
   "cell_type": "code",
   "execution_count": null,
   "id": "95099fec",
   "metadata": {
    "execution": {
     "iopub.execute_input": "2024-01-03T22:57:05.051702Z",
     "iopub.status.busy": "2024-01-03T22:57:05.050940Z",
     "iopub.status.idle": "2024-01-03T22:59:54.891194Z",
     "shell.execute_reply": "2024-01-03T22:59:54.890222Z"
    },
    "papermill": {
     "duration": 169.859564,
     "end_time": "2024-01-03T22:59:54.893631",
     "exception": false,
     "start_time": "2024-01-03T22:57:05.034067",
     "status": "completed"
    },
    "tags": []
   },
   "outputs": [],
   "source": [
    "hist =model.fit(\n",
    "    train_dataset,\n",
    "    validation_data=val_dataset,\n",
    "    epochs=5\n",
    ")"
   ]
  },
  {
   "cell_type": "code",
   "execution_count": null,
   "id": "40eeda89",
   "metadata": {
    "execution": {
     "iopub.execute_input": "2024-01-03T22:59:54.969985Z",
     "iopub.status.busy": "2024-01-03T22:59:54.969611Z",
     "iopub.status.idle": "2024-01-03T22:59:57.559743Z",
     "shell.execute_reply": "2024-01-03T22:59:57.558865Z"
    },
    "papermill": {
     "duration": 2.62954,
     "end_time": "2024-01-03T22:59:57.562143",
     "exception": false,
     "start_time": "2024-01-03T22:59:54.932603",
     "status": "completed"
    },
    "tags": []
   },
   "outputs": [],
   "source": [
    "model.save(\"textclassification.h5\")"
   ]
  },
  {
   "cell_type": "code",
   "execution_count": null,
   "id": "700b028a",
   "metadata": {
    "execution": {
     "iopub.execute_input": "2024-01-03T22:59:57.640034Z",
     "iopub.status.busy": "2024-01-03T22:59:57.639671Z",
     "iopub.status.idle": "2024-01-03T22:59:59.760301Z",
     "shell.execute_reply": "2024-01-03T22:59:59.759393Z"
    },
    "papermill": {
     "duration": 2.163253,
     "end_time": "2024-01-03T22:59:59.762272",
     "exception": false,
     "start_time": "2024-01-03T22:59:57.599019",
     "status": "completed"
    },
    "tags": []
   },
   "outputs": [],
   "source": [
    "model.evaluate(val_dataset)"
   ]
  },
  {
   "cell_type": "code",
   "execution_count": null,
   "id": "81dc5643",
   "metadata": {
    "execution": {
     "iopub.execute_input": "2024-01-03T22:59:59.837940Z",
     "iopub.status.busy": "2024-01-03T22:59:59.837591Z",
     "iopub.status.idle": "2024-01-03T23:00:02.233222Z",
     "shell.execute_reply": "2024-01-03T23:00:02.232287Z"
    },
    "papermill": {
     "duration": 2.435382,
     "end_time": "2024-01-03T23:00:02.235083",
     "exception": false,
     "start_time": "2024-01-03T22:59:59.799701",
     "status": "completed"
    },
    "tags": []
   },
   "outputs": [],
   "source": [
    "import matplotlib.pyplot as plt\n",
    "train_acc = hist.history['accuracy']\n",
    "val_acc = hist.history['val_accuracy']\n",
    "\n",
    "# Plot the epoch vs accuracy graph\n",
    "plt.plot(range(1, len(train_acc) + 1), train_acc, label='Training Accuracy')\n",
    "plt.plot(range(1, len(val_acc) + 1), val_acc, label='Validation Accuracy')\n",
    "plt.title('Epoch vs Accuracy')\n",
    "plt.xlabel('Epoch')\n",
    "plt.ylabel('Accuracy')\n",
    "plt.legend()\n",
    "plt.show()\n",
    "loss,accuracy,precision,recall=model.evaluate(val_dataset)\n",
    "print()\n",
    "print()\n",
    "print()\n",
    "print()\n",
    "print(\"loss is : \", loss)\n",
    "\n",
    "print(\"accuracy is: \", str(round(accuracy*100))+ \"%\")\n",
    "print(\"recall is: \", str(round(recall*100)) + \"%\")\n",
    "print(\"Precision is : \", str(round(precision*100)) + \"%\")"
   ]
  },
  {
   "cell_type": "code",
   "execution_count": null,
   "id": "7e2e9967",
   "metadata": {
    "execution": {
     "iopub.execute_input": "2024-01-03T23:00:02.315497Z",
     "iopub.status.busy": "2024-01-03T23:00:02.314749Z",
     "iopub.status.idle": "2024-01-03T23:00:31.129731Z",
     "shell.execute_reply": "2024-01-03T23:00:31.128935Z"
    },
    "papermill": {
     "duration": 28.857788,
     "end_time": "2024-01-03T23:00:31.131986",
     "exception": false,
     "start_time": "2024-01-03T23:00:02.274198",
     "status": "completed"
    },
    "tags": []
   },
   "outputs": [],
   "source": [
    "model.save('model')"
   ]
  },
  {
   "cell_type": "code",
   "execution_count": null,
   "id": "0a3d02de",
   "metadata": {
    "execution": {
     "iopub.execute_input": "2024-01-03T23:00:31.210937Z",
     "iopub.status.busy": "2024-01-03T23:00:31.210639Z",
     "iopub.status.idle": "2024-01-03T23:00:31.484584Z",
     "shell.execute_reply": "2024-01-03T23:00:31.483609Z"
    },
    "papermill": {
     "duration": 0.315569,
     "end_time": "2024-01-03T23:00:31.486816",
     "exception": false,
     "start_time": "2024-01-03T23:00:31.171247",
     "status": "completed"
    },
    "tags": []
   },
   "outputs": [],
   "source": [
    "tokenizer = BertTokenizer.from_pretrained('bert-base-cased')\n",
    "\n",
    "def prepare_data(input_text, tokenizer):\n",
    "    token = tokenizer.encode_plus(\n",
    "        input_text,\n",
    "        max_length=256, \n",
    "        truncation=True, \n",
    "        padding='max_length', \n",
    "        add_special_tokens=True,\n",
    "        return_tensors='tf'\n",
    "    )\n",
    "    return {\n",
    "        'input_ids': tf.cast(token.input_ids, tf.float64),\n",
    "        'attention_mask': tf.cast(token.attention_mask, tf.float64)\n",
    "    }\n",
    "\n",
    "def make_prediction(model, processed_data, classes=['business', 'Entertainment', 'food', 'Graphichs', 'historical','medical','politcis', 'space','sport','technology']):\n",
    "    probs = model.predict(processed_data)[0]\n",
    "    return np.argmax(probs)"
   ]
  },
  {
   "cell_type": "code",
   "execution_count": null,
   "id": "ac7f3884",
   "metadata": {
    "execution": {
     "iopub.execute_input": "2024-01-03T23:00:31.566643Z",
     "iopub.status.busy": "2024-01-03T23:00:31.566332Z",
     "iopub.status.idle": "2024-01-03T23:00:31.570964Z",
     "shell.execute_reply": "2024-01-03T23:00:31.570166Z"
    },
    "papermill": {
     "duration": 0.047307,
     "end_time": "2024-01-03T23:00:31.572976",
     "exception": false,
     "start_time": "2024-01-03T23:00:31.525669",
     "status": "completed"
    },
    "tags": []
   },
   "outputs": [],
   "source": [
    "dict1 = {0:\"Space\", 1:\"Politics\",2:\"Sport\",3:\"technology\",4:\"historical\", 5:\"Medical\", 6:\"Graphics\",7:\"Entertrainment\",8:\"Food\",9:\"business\"}"
   ]
  },
  {
   "cell_type": "code",
   "execution_count": null,
   "id": "e342c46b",
   "metadata": {
    "execution": {
     "iopub.execute_input": "2024-01-03T23:00:31.650929Z",
     "iopub.status.busy": "2024-01-03T23:00:31.650545Z",
     "iopub.status.idle": "2024-01-03T23:00:31.655962Z",
     "shell.execute_reply": "2024-01-03T23:00:31.655176Z"
    },
    "papermill": {
     "duration": 0.046725,
     "end_time": "2024-01-03T23:00:31.657778",
     "exception": false,
     "start_time": "2024-01-03T23:00:31.611053",
     "status": "completed"
    },
    "tags": []
   },
   "outputs": [],
   "source": [
    "text = \"\"\"Bank voted 8-1 for no rate change\n",
    "\n",
    "The decision to keep interest rates on hold at 4.75% earlier this month was passed 8-1 by the Bank of England's rate-setting body, minutes have shown.\n",
    "\n",
    "One member of the Bank's Monetary Policy Committee (MPC) - Paul Tucker - voted to raise rates to 5%. The news surprised some analysts who had expected the latest minutes to show another unanimous decision. Worries over growth rates and consumer spending were behind the decision to freeze rates, the minutes showed. The Bank's latest inflation report, released last week, had noted that the main reason inflation might fall was weaker consumer spending.\n",
    "\n",
    "However, MPC member Paul Tucker voted for a quarter point rise in interest rates to 5%. He argued that economic growth was picking up, and that the equity, credit and housing markets had been stronger than expected.\n",
    "\n",
    "The Bank's minutes said that risks to the inflation forecast were \"sufficiently to the downside\" to keep rates on hold at its latest meeting. However, the minutes added: \"Some members noted that an increase might be warranted in due course if the economy evolved in line with the central projection\". Ross Walker, UK economist at Royal Bank of Scotland, said he was surprised that a dissenting vote had been made so soon. He said the minutes appeared to be \"trying to get the market to focus on the possibility of a rise in rates\". \"If the economy pans out as they expect then they are probably going to have to hike rates.\" However, he added, any rate increase is not likely to happen until later this year, with MPC members likely to look for a more sustainable pick up in consumer spending before acting.\n",
    "\"\"\""
   ]
  },
  {
   "cell_type": "code",
   "execution_count": null,
   "id": "0a7aff0d",
   "metadata": {
    "execution": {
     "iopub.execute_input": "2024-01-03T23:00:31.736162Z",
     "iopub.status.busy": "2024-01-03T23:00:31.735586Z",
     "iopub.status.idle": "2024-01-03T23:00:34.722684Z",
     "shell.execute_reply": "2024-01-03T23:00:34.721607Z"
    },
    "papermill": {
     "duration": 3.027979,
     "end_time": "2024-01-03T23:00:34.724546",
     "exception": false,
     "start_time": "2024-01-03T23:00:31.696567",
     "status": "completed"
    },
    "tags": []
   },
   "outputs": [],
   "source": [
    "input_text = text\n",
    "processed_data = prepare_data(input_text, tokenizer)\n",
    "result = make_prediction(model, processed_data=processed_data)\n",
    "print(f\"Predicted model: {result}\")\n",
    "     "
   ]
  },
  {
   "cell_type": "code",
   "execution_count": null,
   "id": "4ca89238",
   "metadata": {
    "execution": {
     "iopub.execute_input": "2024-01-03T23:00:34.804374Z",
     "iopub.status.busy": "2024-01-03T23:00:34.804033Z",
     "iopub.status.idle": "2024-01-03T23:00:34.808036Z",
     "shell.execute_reply": "2024-01-03T23:00:34.807200Z"
    },
    "papermill": {
     "duration": 0.046089,
     "end_time": "2024-01-03T23:00:34.809887",
     "exception": false,
     "start_time": "2024-01-03T23:00:34.763798",
     "status": "completed"
    },
    "tags": []
   },
   "outputs": [],
   "source": [
    "output = dict1[result]"
   ]
  },
  {
   "cell_type": "code",
   "execution_count": null,
   "id": "c3273812",
   "metadata": {
    "execution": {
     "iopub.execute_input": "2024-01-03T23:00:34.887796Z",
     "iopub.status.busy": "2024-01-03T23:00:34.887514Z",
     "iopub.status.idle": "2024-01-03T23:00:34.892857Z",
     "shell.execute_reply": "2024-01-03T23:00:34.892027Z"
    },
    "papermill": {
     "duration": 0.046304,
     "end_time": "2024-01-03T23:00:34.894737",
     "exception": false,
     "start_time": "2024-01-03T23:00:34.848433",
     "status": "completed"
    },
    "tags": []
   },
   "outputs": [],
   "source": [
    "result"
   ]
  },
  {
   "cell_type": "code",
   "execution_count": null,
   "id": "23c60acd",
   "metadata": {
    "execution": {
     "iopub.execute_input": "2024-01-03T23:00:34.973250Z",
     "iopub.status.busy": "2024-01-03T23:00:34.972919Z",
     "iopub.status.idle": "2024-01-03T23:00:34.977475Z",
     "shell.execute_reply": "2024-01-03T23:00:34.976621Z"
    },
    "papermill": {
     "duration": 0.046024,
     "end_time": "2024-01-03T23:00:34.979327",
     "exception": false,
     "start_time": "2024-01-03T23:00:34.933303",
     "status": "completed"
    },
    "tags": []
   },
   "outputs": [],
   "source": [
    "print(output)"
   ]
  }
 ],
 "metadata": {
  "kaggle": {
   "accelerator": "gpu",
   "dataSources": [
    {
     "datasetId": 701505,
     "sourceId": 1226200,
     "sourceType": "datasetVersion"
    }
   ],
   "dockerImageVersionId": 30627,
   "isGpuEnabled": true,
   "isInternetEnabled": true,
   "language": "python",
   "sourceType": "notebook"
  },
  "kernelspec": {
   "display_name": "Python 3",
   "language": "python",
   "name": "python3"
  },
  "language_info": {
   "codemirror_mode": {
    "name": "ipython",
    "version": 3
   },
   "file_extension": ".py",
   "mimetype": "text/x-python",
   "name": "python",
   "nbconvert_exporter": "python",
   "pygments_lexer": "ipython3",
   "version": "3.10.12"
  },
  "papermill": {
   "default_parameters": {},
   "duration": 269.586623,
   "end_time": "2024-01-03T23:00:38.653344",
   "environment_variables": {},
   "exception": null,
   "input_path": "__notebook__.ipynb",
   "output_path": "__notebook__.ipynb",
   "parameters": {},
   "start_time": "2024-01-03T22:56:09.066721",
   "version": "2.4.0"
  },
  "widgets": {
   "application/vnd.jupyter.widget-state+json": {
    "state": {
     "02e85a8244f240c98880d13b062993c0": {
      "model_module": "@jupyter-widgets/controls",
      "model_module_version": "1.5.0",
      "model_name": "HTMLModel",
      "state": {
       "_dom_classes": [],
       "_model_module": "@jupyter-widgets/controls",
       "_model_module_version": "1.5.0",
       "_model_name": "HTMLModel",
       "_view_count": null,
       "_view_module": "@jupyter-widgets/controls",
       "_view_module_version": "1.5.0",
       "_view_name": "HTMLView",
       "description": "",
       "description_tooltip": null,
       "layout": "IPY_MODEL_a54fc6e1c1e64355ac3c4efecea3f6dd",
       "placeholder": "​",
       "style": "IPY_MODEL_8a0185a85efc46b7b14252790204ba85",
       "value": "tokenizer.json: 100%"
      }
     },
     "0315dc008acc4704af066100c60a9ab4": {
      "model_module": "@jupyter-widgets/controls",
      "model_module_version": "1.5.0",
      "model_name": "FloatProgressModel",
      "state": {
       "_dom_classes": [],
       "_model_module": "@jupyter-widgets/controls",
       "_model_module_version": "1.5.0",
       "_model_name": "FloatProgressModel",
       "_view_count": null,
       "_view_module": "@jupyter-widgets/controls",
       "_view_module_version": "1.5.0",
       "_view_name": "ProgressView",
       "bar_style": "success",
       "description": "",
       "description_tooltip": null,
       "layout": "IPY_MODEL_bc4a50a233b4453cbe3b7b759a6535d5",
       "max": 213450,
       "min": 0,
       "orientation": "horizontal",
       "style": "IPY_MODEL_8fc2f2dddf5e4f25953ffe28c97c2c9d",
       "value": 213450
      }
     },
     "108422ac7b634ff1b59c49d256c0a6f4": {
      "model_module": "@jupyter-widgets/base",
      "model_module_version": "1.2.0",
      "model_name": "LayoutModel",
      "state": {
       "_model_module": "@jupyter-widgets/base",
       "_model_module_version": "1.2.0",
       "_model_name": "LayoutModel",
       "_view_count": null,
       "_view_module": "@jupyter-widgets/base",
       "_view_module_version": "1.2.0",
       "_view_name": "LayoutView",
       "align_content": null,
       "align_items": null,
       "align_self": null,
       "border": null,
       "bottom": null,
       "display": null,
       "flex": null,
       "flex_flow": null,
       "grid_area": null,
       "grid_auto_columns": null,
       "grid_auto_flow": null,
       "grid_auto_rows": null,
       "grid_column": null,
       "grid_gap": null,
       "grid_row": null,
       "grid_template_areas": null,
       "grid_template_columns": null,
       "grid_template_rows": null,
       "height": null,
       "justify_content": null,
       "justify_items": null,
       "left": null,
       "margin": null,
       "max_height": null,
       "max_width": null,
       "min_height": null,
       "min_width": null,
       "object_fit": null,
       "object_position": null,
       "order": null,
       "overflow": null,
       "overflow_x": null,
       "overflow_y": null,
       "padding": null,
       "right": null,
       "top": null,
       "visibility": null,
       "width": null
      }
     },
     "144093d148734e5ea5ccf8a9b2ac921a": {
      "model_module": "@jupyter-widgets/controls",
      "model_module_version": "1.5.0",
      "model_name": "FloatProgressModel",
      "state": {
       "_dom_classes": [],
       "_model_module": "@jupyter-widgets/controls",
       "_model_module_version": "1.5.0",
       "_model_name": "FloatProgressModel",
       "_view_count": null,
       "_view_module": "@jupyter-widgets/controls",
       "_view_module_version": "1.5.0",
       "_view_name": "ProgressView",
       "bar_style": "success",
       "description": "",
       "description_tooltip": null,
       "layout": "IPY_MODEL_1accb1460541404c982bdecdf1c74e43",
       "max": 435755784,
       "min": 0,
       "orientation": "horizontal",
       "style": "IPY_MODEL_e050d8b1d9f5478489c3052bf6dc7922",
       "value": 435755784
      }
     },
     "15d6244b88b143799a1519006e8b374e": {
      "model_module": "@jupyter-widgets/base",
      "model_module_version": "1.2.0",
      "model_name": "LayoutModel",
      "state": {
       "_model_module": "@jupyter-widgets/base",
       "_model_module_version": "1.2.0",
       "_model_name": "LayoutModel",
       "_view_count": null,
       "_view_module": "@jupyter-widgets/base",
       "_view_module_version": "1.2.0",
       "_view_name": "LayoutView",
       "align_content": null,
       "align_items": null,
       "align_self": null,
       "border": null,
       "bottom": null,
       "display": null,
       "flex": null,
       "flex_flow": null,
       "grid_area": null,
       "grid_auto_columns": null,
       "grid_auto_flow": null,
       "grid_auto_rows": null,
       "grid_column": null,
       "grid_gap": null,
       "grid_row": null,
       "grid_template_areas": null,
       "grid_template_columns": null,
       "grid_template_rows": null,
       "height": null,
       "justify_content": null,
       "justify_items": null,
       "left": null,
       "margin": null,
       "max_height": null,
       "max_width": null,
       "min_height": null,
       "min_width": null,
       "object_fit": null,
       "object_position": null,
       "order": null,
       "overflow": null,
       "overflow_x": null,
       "overflow_y": null,
       "padding": null,
       "right": null,
       "top": null,
       "visibility": null,
       "width": null
      }
     },
     "186074c153984bf29e34028aeccee82a": {
      "model_module": "@jupyter-widgets/controls",
      "model_module_version": "1.5.0",
      "model_name": "HTMLModel",
      "state": {
       "_dom_classes": [],
       "_model_module": "@jupyter-widgets/controls",
       "_model_module_version": "1.5.0",
       "_model_name": "HTMLModel",
       "_view_count": null,
       "_view_module": "@jupyter-widgets/controls",
       "_view_module_version": "1.5.0",
       "_view_name": "HTMLView",
       "description": "",
       "description_tooltip": null,
       "layout": "IPY_MODEL_bf7024bb8bf54615b256bf2a00b1802a",
       "placeholder": "​",
       "style": "IPY_MODEL_21660b19056a484fb39f05da6f2da117",
       "value": "vocab.txt: 100%"
      }
     },
     "1accb1460541404c982bdecdf1c74e43": {
      "model_module": "@jupyter-widgets/base",
      "model_module_version": "1.2.0",
      "model_name": "LayoutModel",
      "state": {
       "_model_module": "@jupyter-widgets/base",
       "_model_module_version": "1.2.0",
       "_model_name": "LayoutModel",
       "_view_count": null,
       "_view_module": "@jupyter-widgets/base",
       "_view_module_version": "1.2.0",
       "_view_name": "LayoutView",
       "align_content": null,
       "align_items": null,
       "align_self": null,
       "border": null,
       "bottom": null,
       "display": null,
       "flex": null,
       "flex_flow": null,
       "grid_area": null,
       "grid_auto_columns": null,
       "grid_auto_flow": null,
       "grid_auto_rows": null,
       "grid_column": null,
       "grid_gap": null,
       "grid_row": null,
       "grid_template_areas": null,
       "grid_template_columns": null,
       "grid_template_rows": null,
       "height": null,
       "justify_content": null,
       "justify_items": null,
       "left": null,
       "margin": null,
       "max_height": null,
       "max_width": null,
       "min_height": null,
       "min_width": null,
       "object_fit": null,
       "object_position": null,
       "order": null,
       "overflow": null,
       "overflow_x": null,
       "overflow_y": null,
       "padding": null,
       "right": null,
       "top": null,
       "visibility": null,
       "width": null
      }
     },
     "21660b19056a484fb39f05da6f2da117": {
      "model_module": "@jupyter-widgets/controls",
      "model_module_version": "1.5.0",
      "model_name": "DescriptionStyleModel",
      "state": {
       "_model_module": "@jupyter-widgets/controls",
       "_model_module_version": "1.5.0",
       "_model_name": "DescriptionStyleModel",
       "_view_count": null,
       "_view_module": "@jupyter-widgets/base",
       "_view_module_version": "1.2.0",
       "_view_name": "StyleView",
       "description_width": ""
      }
     },
     "27189906877542d1b7d513a2e43dd10d": {
      "model_module": "@jupyter-widgets/controls",
      "model_module_version": "1.5.0",
      "model_name": "FloatProgressModel",
      "state": {
       "_dom_classes": [],
       "_model_module": "@jupyter-widgets/controls",
       "_model_module_version": "1.5.0",
       "_model_name": "FloatProgressModel",
       "_view_count": null,
       "_view_module": "@jupyter-widgets/controls",
       "_view_module_version": "1.5.0",
       "_view_name": "ProgressView",
       "bar_style": "success",
       "description": "",
       "description_tooltip": null,
       "layout": "IPY_MODEL_a2ef9fba2fd44ed688e3fb7f6f78cdee",
       "max": 435797,
       "min": 0,
       "orientation": "horizontal",
       "style": "IPY_MODEL_9dae88804a114a0b85f60343c47f9f4d",
       "value": 435797
      }
     },
     "310c104ca7104a26b4ea62d6d96900b0": {
      "model_module": "@jupyter-widgets/controls",
      "model_module_version": "1.5.0",
      "model_name": "HTMLModel",
      "state": {
       "_dom_classes": [],
       "_model_module": "@jupyter-widgets/controls",
       "_model_module_version": "1.5.0",
       "_model_name": "HTMLModel",
       "_view_count": null,
       "_view_module": "@jupyter-widgets/controls",
       "_view_module_version": "1.5.0",
       "_view_name": "HTMLView",
       "description": "",
       "description_tooltip": null,
       "layout": "IPY_MODEL_859c2616cf9b4a8386723f62d39e0a0d",
       "placeholder": "​",
       "style": "IPY_MODEL_f16b8f1a4b5546218af1ccd3ab1e5123",
       "value": ""
      }
     },
     "347d61382af64755a881b71ffa336758": {
      "model_module": "@jupyter-widgets/controls",
      "model_module_version": "1.5.0",
      "model_name": "HTMLModel",
      "state": {
       "_dom_classes": [],
       "_model_module": "@jupyter-widgets/controls",
       "_model_module_version": "1.5.0",
       "_model_name": "HTMLModel",
       "_view_count": null,
       "_view_module": "@jupyter-widgets/controls",
       "_view_module_version": "1.5.0",
       "_view_name": "HTMLView",
       "description": "",
       "description_tooltip": null,
       "layout": "IPY_MODEL_90b190ed69b0417b8d8e2705dc86d5f5",
       "placeholder": "​",
       "style": "IPY_MODEL_824e564885f24597a1557c6f06f44520",
       "value": " 1000/? [00:07&lt;00:00, 182.57it/s]"
      }
     },
     "35bdf6d5670f4388af3e1484720d6b2c": {
      "model_module": "@jupyter-widgets/base",
      "model_module_version": "1.2.0",
      "model_name": "LayoutModel",
      "state": {
       "_model_module": "@jupyter-widgets/base",
       "_model_module_version": "1.2.0",
       "_model_name": "LayoutModel",
       "_view_count": null,
       "_view_module": "@jupyter-widgets/base",
       "_view_module_version": "1.2.0",
       "_view_name": "LayoutView",
       "align_content": null,
       "align_items": null,
       "align_self": null,
       "border": null,
       "bottom": null,
       "display": null,
       "flex": null,
       "flex_flow": null,
       "grid_area": null,
       "grid_auto_columns": null,
       "grid_auto_flow": null,
       "grid_auto_rows": null,
       "grid_column": null,
       "grid_gap": null,
       "grid_row": null,
       "grid_template_areas": null,
       "grid_template_columns": null,
       "grid_template_rows": null,
       "height": null,
       "justify_content": null,
       "justify_items": null,
       "left": null,
       "margin": null,
       "max_height": null,
       "max_width": null,
       "min_height": null,
       "min_width": null,
       "object_fit": null,
       "object_position": null,
       "order": null,
       "overflow": null,
       "overflow_x": null,
       "overflow_y": null,
       "padding": null,
       "right": null,
       "top": null,
       "visibility": null,
       "width": null
      }
     },
     "3a132946099f49e3a953af8723a9064b": {
      "model_module": "@jupyter-widgets/base",
      "model_module_version": "1.2.0",
      "model_name": "LayoutModel",
      "state": {
       "_model_module": "@jupyter-widgets/base",
       "_model_module_version": "1.2.0",
       "_model_name": "LayoutModel",
       "_view_count": null,
       "_view_module": "@jupyter-widgets/base",
       "_view_module_version": "1.2.0",
       "_view_name": "LayoutView",
       "align_content": null,
       "align_items": null,
       "align_self": null,
       "border": null,
       "bottom": null,
       "display": null,
       "flex": null,
       "flex_flow": null,
       "grid_area": null,
       "grid_auto_columns": null,
       "grid_auto_flow": null,
       "grid_auto_rows": null,
       "grid_column": null,
       "grid_gap": null,
       "grid_row": null,
       "grid_template_areas": null,
       "grid_template_columns": null,
       "grid_template_rows": null,
       "height": null,
       "justify_content": null,
       "justify_items": null,
       "left": null,
       "margin": null,
       "max_height": null,
       "max_width": null,
       "min_height": null,
       "min_width": null,
       "object_fit": null,
       "object_position": null,
       "order": null,
       "overflow": null,
       "overflow_x": null,
       "overflow_y": null,
       "padding": null,
       "right": null,
       "top": null,
       "visibility": null,
       "width": null
      }
     },
     "3fbe5dfa08c7472a934d61be135da29c": {
      "model_module": "@jupyter-widgets/controls",
      "model_module_version": "1.5.0",
      "model_name": "ProgressStyleModel",
      "state": {
       "_model_module": "@jupyter-widgets/controls",
       "_model_module_version": "1.5.0",
       "_model_name": "ProgressStyleModel",
       "_view_count": null,
       "_view_module": "@jupyter-widgets/base",
       "_view_module_version": "1.2.0",
       "_view_name": "StyleView",
       "bar_color": null,
       "description_width": ""
      }
     },
     "47a5d504bfd94250b0130671f61899cb": {
      "model_module": "@jupyter-widgets/controls",
      "model_module_version": "1.5.0",
      "model_name": "HTMLModel",
      "state": {
       "_dom_classes": [],
       "_model_module": "@jupyter-widgets/controls",
       "_model_module_version": "1.5.0",
       "_model_name": "HTMLModel",
       "_view_count": null,
       "_view_module": "@jupyter-widgets/controls",
       "_view_module_version": "1.5.0",
       "_view_name": "HTMLView",
       "description": "",
       "description_tooltip": null,
       "layout": "IPY_MODEL_ffe70a5053a34ceb8c85c8ee3a7419c8",
       "placeholder": "​",
       "style": "IPY_MODEL_6bc3279bad094e8687b70db167bbfc47",
       "value": " 29.0/29.0 [00:00&lt;00:00, 2.44kB/s]"
      }
     },
     "4980843f004641e9ae7fd9d586584fd3": {
      "model_module": "@jupyter-widgets/controls",
      "model_module_version": "1.5.0",
      "model_name": "HTMLModel",
      "state": {
       "_dom_classes": [],
       "_model_module": "@jupyter-widgets/controls",
       "_model_module_version": "1.5.0",
       "_model_name": "HTMLModel",
       "_view_count": null,
       "_view_module": "@jupyter-widgets/controls",
       "_view_module_version": "1.5.0",
       "_view_name": "HTMLView",
       "description": "",
       "description_tooltip": null,
       "layout": "IPY_MODEL_db212a400bed41a1a59d25edcacf6e5f",
       "placeholder": "​",
       "style": "IPY_MODEL_7e9a66acd3734286a24d33bd711d8ab1",
       "value": " 570/570 [00:00&lt;00:00, 46.8kB/s]"
      }
     },
     "4acd550ff184452b97840ef15e4b7e6e": {
      "model_module": "@jupyter-widgets/controls",
      "model_module_version": "1.5.0",
      "model_name": "DescriptionStyleModel",
      "state": {
       "_model_module": "@jupyter-widgets/controls",
       "_model_module_version": "1.5.0",
       "_model_name": "DescriptionStyleModel",
       "_view_count": null,
       "_view_module": "@jupyter-widgets/base",
       "_view_module_version": "1.2.0",
       "_view_name": "StyleView",
       "description_width": ""
      }
     },
     "56d5e6199c5748c28cdc17afd8c9c797": {
      "model_module": "@jupyter-widgets/controls",
      "model_module_version": "1.5.0",
      "model_name": "DescriptionStyleModel",
      "state": {
       "_model_module": "@jupyter-widgets/controls",
       "_model_module_version": "1.5.0",
       "_model_name": "DescriptionStyleModel",
       "_view_count": null,
       "_view_module": "@jupyter-widgets/base",
       "_view_module_version": "1.2.0",
       "_view_name": "StyleView",
       "description_width": ""
      }
     },
     "5c60baae530b43b8917abf968596ec0c": {
      "model_module": "@jupyter-widgets/controls",
      "model_module_version": "1.5.0",
      "model_name": "HTMLModel",
      "state": {
       "_dom_classes": [],
       "_model_module": "@jupyter-widgets/controls",
       "_model_module_version": "1.5.0",
       "_model_name": "HTMLModel",
       "_view_count": null,
       "_view_module": "@jupyter-widgets/controls",
       "_view_module_version": "1.5.0",
       "_view_name": "HTMLView",
       "description": "",
       "description_tooltip": null,
       "layout": "IPY_MODEL_8c73cb70874f4322a9a9af05e6499633",
       "placeholder": "​",
       "style": "IPY_MODEL_f476b66f4b0343488a61db758a2abcda",
       "value": " 213k/213k [00:00&lt;00:00, 548kB/s]"
      }
     },
     "5cb427f32fb0436a80c2cbe419777c1f": {
      "model_module": "@jupyter-widgets/controls",
      "model_module_version": "1.5.0",
      "model_name": "HBoxModel",
      "state": {
       "_dom_classes": [],
       "_model_module": "@jupyter-widgets/controls",
       "_model_module_version": "1.5.0",
       "_model_name": "HBoxModel",
       "_view_count": null,
       "_view_module": "@jupyter-widgets/controls",
       "_view_module_version": "1.5.0",
       "_view_name": "HBoxView",
       "box_style": "",
       "children": [
        "IPY_MODEL_310c104ca7104a26b4ea62d6d96900b0",
        "IPY_MODEL_81124a71f66c40daafec68938cc68ecd",
        "IPY_MODEL_347d61382af64755a881b71ffa336758"
       ],
       "layout": "IPY_MODEL_15d6244b88b143799a1519006e8b374e"
      }
     },
     "6a3ade0adb5944f99d1eab18bc4eb511": {
      "model_module": "@jupyter-widgets/base",
      "model_module_version": "1.2.0",
      "model_name": "LayoutModel",
      "state": {
       "_model_module": "@jupyter-widgets/base",
       "_model_module_version": "1.2.0",
       "_model_name": "LayoutModel",
       "_view_count": null,
       "_view_module": "@jupyter-widgets/base",
       "_view_module_version": "1.2.0",
       "_view_name": "LayoutView",
       "align_content": null,
       "align_items": null,
       "align_self": null,
       "border": null,
       "bottom": null,
       "display": null,
       "flex": null,
       "flex_flow": null,
       "grid_area": null,
       "grid_auto_columns": null,
       "grid_auto_flow": null,
       "grid_auto_rows": null,
       "grid_column": null,
       "grid_gap": null,
       "grid_row": null,
       "grid_template_areas": null,
       "grid_template_columns": null,
       "grid_template_rows": null,
       "height": null,
       "justify_content": null,
       "justify_items": null,
       "left": null,
       "margin": null,
       "max_height": null,
       "max_width": null,
       "min_height": null,
       "min_width": null,
       "object_fit": null,
       "object_position": null,
       "order": null,
       "overflow": null,
       "overflow_x": null,
       "overflow_y": null,
       "padding": null,
       "right": null,
       "top": null,
       "visibility": null,
       "width": null
      }
     },
     "6b80a131a54f4192b87646b85af43329": {
      "model_module": "@jupyter-widgets/controls",
      "model_module_version": "1.5.0",
      "model_name": "HTMLModel",
      "state": {
       "_dom_classes": [],
       "_model_module": "@jupyter-widgets/controls",
       "_model_module_version": "1.5.0",
       "_model_name": "HTMLModel",
       "_view_count": null,
       "_view_module": "@jupyter-widgets/controls",
       "_view_module_version": "1.5.0",
       "_view_name": "HTMLView",
       "description": "",
       "description_tooltip": null,
       "layout": "IPY_MODEL_f523e0194e614773b08618d186065181",
       "placeholder": "​",
       "style": "IPY_MODEL_8c549ce0f5d94b0d9e3bc2144d7fc25e",
       "value": "model.safetensors: 100%"
      }
     },
     "6bae97ec426942faa67c9e20fb4a04e4": {
      "model_module": "@jupyter-widgets/base",
      "model_module_version": "1.2.0",
      "model_name": "LayoutModel",
      "state": {
       "_model_module": "@jupyter-widgets/base",
       "_model_module_version": "1.2.0",
       "_model_name": "LayoutModel",
       "_view_count": null,
       "_view_module": "@jupyter-widgets/base",
       "_view_module_version": "1.2.0",
       "_view_name": "LayoutView",
       "align_content": null,
       "align_items": null,
       "align_self": null,
       "border": null,
       "bottom": null,
       "display": null,
       "flex": null,
       "flex_flow": null,
       "grid_area": null,
       "grid_auto_columns": null,
       "grid_auto_flow": null,
       "grid_auto_rows": null,
       "grid_column": null,
       "grid_gap": null,
       "grid_row": null,
       "grid_template_areas": null,
       "grid_template_columns": null,
       "grid_template_rows": null,
       "height": null,
       "justify_content": null,
       "justify_items": null,
       "left": null,
       "margin": null,
       "max_height": null,
       "max_width": null,
       "min_height": null,
       "min_width": null,
       "object_fit": null,
       "object_position": null,
       "order": null,
       "overflow": null,
       "overflow_x": null,
       "overflow_y": null,
       "padding": null,
       "right": null,
       "top": null,
       "visibility": null,
       "width": null
      }
     },
     "6bc3279bad094e8687b70db167bbfc47": {
      "model_module": "@jupyter-widgets/controls",
      "model_module_version": "1.5.0",
      "model_name": "DescriptionStyleModel",
      "state": {
       "_model_module": "@jupyter-widgets/controls",
       "_model_module_version": "1.5.0",
       "_model_name": "DescriptionStyleModel",
       "_view_count": null,
       "_view_module": "@jupyter-widgets/base",
       "_view_module_version": "1.2.0",
       "_view_name": "StyleView",
       "description_width": ""
      }
     },
     "6f46d41b1fd64272af8631ee1d4fc5f1": {
      "model_module": "@jupyter-widgets/base",
      "model_module_version": "1.2.0",
      "model_name": "LayoutModel",
      "state": {
       "_model_module": "@jupyter-widgets/base",
       "_model_module_version": "1.2.0",
       "_model_name": "LayoutModel",
       "_view_count": null,
       "_view_module": "@jupyter-widgets/base",
       "_view_module_version": "1.2.0",
       "_view_name": "LayoutView",
       "align_content": null,
       "align_items": null,
       "align_self": null,
       "border": null,
       "bottom": null,
       "display": null,
       "flex": null,
       "flex_flow": null,
       "grid_area": null,
       "grid_auto_columns": null,
       "grid_auto_flow": null,
       "grid_auto_rows": null,
       "grid_column": null,
       "grid_gap": null,
       "grid_row": null,
       "grid_template_areas": null,
       "grid_template_columns": null,
       "grid_template_rows": null,
       "height": null,
       "justify_content": null,
       "justify_items": null,
       "left": null,
       "margin": null,
       "max_height": null,
       "max_width": null,
       "min_height": null,
       "min_width": null,
       "object_fit": null,
       "object_position": null,
       "order": null,
       "overflow": null,
       "overflow_x": null,
       "overflow_y": null,
       "padding": null,
       "right": null,
       "top": null,
       "visibility": null,
       "width": "20px"
      }
     },
     "7abc636a7ee64d51ae48eaa0b2d93b2e": {
      "model_module": "@jupyter-widgets/controls",
      "model_module_version": "1.5.0",
      "model_name": "HBoxModel",
      "state": {
       "_dom_classes": [],
       "_model_module": "@jupyter-widgets/controls",
       "_model_module_version": "1.5.0",
       "_model_name": "HBoxModel",
       "_view_count": null,
       "_view_module": "@jupyter-widgets/controls",
       "_view_module_version": "1.5.0",
       "_view_name": "HBoxView",
       "box_style": "",
       "children": [
        "IPY_MODEL_02e85a8244f240c98880d13b062993c0",
        "IPY_MODEL_27189906877542d1b7d513a2e43dd10d",
        "IPY_MODEL_7ce58291cde243dabf8929ad70b9d183"
       ],
       "layout": "IPY_MODEL_cff6b66ddf6743a08c55f734080c2a0b"
      }
     },
     "7ce58291cde243dabf8929ad70b9d183": {
      "model_module": "@jupyter-widgets/controls",
      "model_module_version": "1.5.0",
      "model_name": "HTMLModel",
      "state": {
       "_dom_classes": [],
       "_model_module": "@jupyter-widgets/controls",
       "_model_module_version": "1.5.0",
       "_model_name": "HTMLModel",
       "_view_count": null,
       "_view_module": "@jupyter-widgets/controls",
       "_view_module_version": "1.5.0",
       "_view_name": "HTMLView",
       "description": "",
       "description_tooltip": null,
       "layout": "IPY_MODEL_c51d626462fc4b60b47021a18a825fd7",
       "placeholder": "​",
       "style": "IPY_MODEL_56d5e6199c5748c28cdc17afd8c9c797",
       "value": " 436k/436k [00:00&lt;00:00, 747kB/s]"
      }
     },
     "7e9a66acd3734286a24d33bd711d8ab1": {
      "model_module": "@jupyter-widgets/controls",
      "model_module_version": "1.5.0",
      "model_name": "DescriptionStyleModel",
      "state": {
       "_model_module": "@jupyter-widgets/controls",
       "_model_module_version": "1.5.0",
       "_model_name": "DescriptionStyleModel",
       "_view_count": null,
       "_view_module": "@jupyter-widgets/base",
       "_view_module_version": "1.2.0",
       "_view_name": "StyleView",
       "description_width": ""
      }
     },
     "81124a71f66c40daafec68938cc68ecd": {
      "model_module": "@jupyter-widgets/controls",
      "model_module_version": "1.5.0",
      "model_name": "FloatProgressModel",
      "state": {
       "_dom_classes": [],
       "_model_module": "@jupyter-widgets/controls",
       "_model_module_version": "1.5.0",
       "_model_name": "FloatProgressModel",
       "_view_count": null,
       "_view_module": "@jupyter-widgets/controls",
       "_view_module_version": "1.5.0",
       "_view_name": "ProgressView",
       "bar_style": "success",
       "description": "",
       "description_tooltip": null,
       "layout": "IPY_MODEL_6f46d41b1fd64272af8631ee1d4fc5f1",
       "max": 1,
       "min": 0,
       "orientation": "horizontal",
       "style": "IPY_MODEL_3fbe5dfa08c7472a934d61be135da29c",
       "value": 1
      }
     },
     "824e564885f24597a1557c6f06f44520": {
      "model_module": "@jupyter-widgets/controls",
      "model_module_version": "1.5.0",
      "model_name": "DescriptionStyleModel",
      "state": {
       "_model_module": "@jupyter-widgets/controls",
       "_model_module_version": "1.5.0",
       "_model_name": "DescriptionStyleModel",
       "_view_count": null,
       "_view_module": "@jupyter-widgets/base",
       "_view_module_version": "1.2.0",
       "_view_name": "StyleView",
       "description_width": ""
      }
     },
     "859c2616cf9b4a8386723f62d39e0a0d": {
      "model_module": "@jupyter-widgets/base",
      "model_module_version": "1.2.0",
      "model_name": "LayoutModel",
      "state": {
       "_model_module": "@jupyter-widgets/base",
       "_model_module_version": "1.2.0",
       "_model_name": "LayoutModel",
       "_view_count": null,
       "_view_module": "@jupyter-widgets/base",
       "_view_module_version": "1.2.0",
       "_view_name": "LayoutView",
       "align_content": null,
       "align_items": null,
       "align_self": null,
       "border": null,
       "bottom": null,
       "display": null,
       "flex": null,
       "flex_flow": null,
       "grid_area": null,
       "grid_auto_columns": null,
       "grid_auto_flow": null,
       "grid_auto_rows": null,
       "grid_column": null,
       "grid_gap": null,
       "grid_row": null,
       "grid_template_areas": null,
       "grid_template_columns": null,
       "grid_template_rows": null,
       "height": null,
       "justify_content": null,
       "justify_items": null,
       "left": null,
       "margin": null,
       "max_height": null,
       "max_width": null,
       "min_height": null,
       "min_width": null,
       "object_fit": null,
       "object_position": null,
       "order": null,
       "overflow": null,
       "overflow_x": null,
       "overflow_y": null,
       "padding": null,
       "right": null,
       "top": null,
       "visibility": null,
       "width": null
      }
     },
     "869aefe11ee04d50a84511374f58230e": {
      "model_module": "@jupyter-widgets/controls",
      "model_module_version": "1.5.0",
      "model_name": "HBoxModel",
      "state": {
       "_dom_classes": [],
       "_model_module": "@jupyter-widgets/controls",
       "_model_module_version": "1.5.0",
       "_model_name": "HBoxModel",
       "_view_count": null,
       "_view_module": "@jupyter-widgets/controls",
       "_view_module_version": "1.5.0",
       "_view_name": "HBoxView",
       "box_style": "",
       "children": [
        "IPY_MODEL_6b80a131a54f4192b87646b85af43329",
        "IPY_MODEL_144093d148734e5ea5ccf8a9b2ac921a",
        "IPY_MODEL_8a40c15fca3e435a8352ec5c32489eaa"
       ],
       "layout": "IPY_MODEL_35bdf6d5670f4388af3e1484720d6b2c"
      }
     },
     "8a0185a85efc46b7b14252790204ba85": {
      "model_module": "@jupyter-widgets/controls",
      "model_module_version": "1.5.0",
      "model_name": "DescriptionStyleModel",
      "state": {
       "_model_module": "@jupyter-widgets/controls",
       "_model_module_version": "1.5.0",
       "_model_name": "DescriptionStyleModel",
       "_view_count": null,
       "_view_module": "@jupyter-widgets/base",
       "_view_module_version": "1.2.0",
       "_view_name": "StyleView",
       "description_width": ""
      }
     },
     "8a40c15fca3e435a8352ec5c32489eaa": {
      "model_module": "@jupyter-widgets/controls",
      "model_module_version": "1.5.0",
      "model_name": "HTMLModel",
      "state": {
       "_dom_classes": [],
       "_model_module": "@jupyter-widgets/controls",
       "_model_module_version": "1.5.0",
       "_model_name": "HTMLModel",
       "_view_count": null,
       "_view_module": "@jupyter-widgets/controls",
       "_view_module_version": "1.5.0",
       "_view_name": "HTMLView",
       "description": "",
       "description_tooltip": null,
       "layout": "IPY_MODEL_c218ae062f61430894ebcfd68a98b9dc",
       "placeholder": "​",
       "style": "IPY_MODEL_4acd550ff184452b97840ef15e4b7e6e",
       "value": " 436M/436M [00:04&lt;00:00, 92.4MB/s]"
      }
     },
     "8ada6b6398f546d58cedbae366638bea": {
      "model_module": "@jupyter-widgets/controls",
      "model_module_version": "1.5.0",
      "model_name": "DescriptionStyleModel",
      "state": {
       "_model_module": "@jupyter-widgets/controls",
       "_model_module_version": "1.5.0",
       "_model_name": "DescriptionStyleModel",
       "_view_count": null,
       "_view_module": "@jupyter-widgets/base",
       "_view_module_version": "1.2.0",
       "_view_name": "StyleView",
       "description_width": ""
      }
     },
     "8bc1760e03e74cfbbf02f76518643909": {
      "model_module": "@jupyter-widgets/controls",
      "model_module_version": "1.5.0",
      "model_name": "HBoxModel",
      "state": {
       "_dom_classes": [],
       "_model_module": "@jupyter-widgets/controls",
       "_model_module_version": "1.5.0",
       "_model_name": "HBoxModel",
       "_view_count": null,
       "_view_module": "@jupyter-widgets/controls",
       "_view_module_version": "1.5.0",
       "_view_name": "HBoxView",
       "box_style": "",
       "children": [
        "IPY_MODEL_186074c153984bf29e34028aeccee82a",
        "IPY_MODEL_0315dc008acc4704af066100c60a9ab4",
        "IPY_MODEL_5c60baae530b43b8917abf968596ec0c"
       ],
       "layout": "IPY_MODEL_c14d4433ad584cb8997e80d7ecd0e889"
      }
     },
     "8c549ce0f5d94b0d9e3bc2144d7fc25e": {
      "model_module": "@jupyter-widgets/controls",
      "model_module_version": "1.5.0",
      "model_name": "DescriptionStyleModel",
      "state": {
       "_model_module": "@jupyter-widgets/controls",
       "_model_module_version": "1.5.0",
       "_model_name": "DescriptionStyleModel",
       "_view_count": null,
       "_view_module": "@jupyter-widgets/base",
       "_view_module_version": "1.2.0",
       "_view_name": "StyleView",
       "description_width": ""
      }
     },
     "8c73cb70874f4322a9a9af05e6499633": {
      "model_module": "@jupyter-widgets/base",
      "model_module_version": "1.2.0",
      "model_name": "LayoutModel",
      "state": {
       "_model_module": "@jupyter-widgets/base",
       "_model_module_version": "1.2.0",
       "_model_name": "LayoutModel",
       "_view_count": null,
       "_view_module": "@jupyter-widgets/base",
       "_view_module_version": "1.2.0",
       "_view_name": "LayoutView",
       "align_content": null,
       "align_items": null,
       "align_self": null,
       "border": null,
       "bottom": null,
       "display": null,
       "flex": null,
       "flex_flow": null,
       "grid_area": null,
       "grid_auto_columns": null,
       "grid_auto_flow": null,
       "grid_auto_rows": null,
       "grid_column": null,
       "grid_gap": null,
       "grid_row": null,
       "grid_template_areas": null,
       "grid_template_columns": null,
       "grid_template_rows": null,
       "height": null,
       "justify_content": null,
       "justify_items": null,
       "left": null,
       "margin": null,
       "max_height": null,
       "max_width": null,
       "min_height": null,
       "min_width": null,
       "object_fit": null,
       "object_position": null,
       "order": null,
       "overflow": null,
       "overflow_x": null,
       "overflow_y": null,
       "padding": null,
       "right": null,
       "top": null,
       "visibility": null,
       "width": null
      }
     },
     "8e6592f1dee34875850c339c3b5b2e6f": {
      "model_module": "@jupyter-widgets/controls",
      "model_module_version": "1.5.0",
      "model_name": "HTMLModel",
      "state": {
       "_dom_classes": [],
       "_model_module": "@jupyter-widgets/controls",
       "_model_module_version": "1.5.0",
       "_model_name": "HTMLModel",
       "_view_count": null,
       "_view_module": "@jupyter-widgets/controls",
       "_view_module_version": "1.5.0",
       "_view_name": "HTMLView",
       "description": "",
       "description_tooltip": null,
       "layout": "IPY_MODEL_108422ac7b634ff1b59c49d256c0a6f4",
       "placeholder": "​",
       "style": "IPY_MODEL_91de9429d55042d3b2fdec466c3992c4",
       "value": "tokenizer_config.json: 100%"
      }
     },
     "8fc2f2dddf5e4f25953ffe28c97c2c9d": {
      "model_module": "@jupyter-widgets/controls",
      "model_module_version": "1.5.0",
      "model_name": "ProgressStyleModel",
      "state": {
       "_model_module": "@jupyter-widgets/controls",
       "_model_module_version": "1.5.0",
       "_model_name": "ProgressStyleModel",
       "_view_count": null,
       "_view_module": "@jupyter-widgets/base",
       "_view_module_version": "1.2.0",
       "_view_name": "StyleView",
       "bar_color": null,
       "description_width": ""
      }
     },
     "90b190ed69b0417b8d8e2705dc86d5f5": {
      "model_module": "@jupyter-widgets/base",
      "model_module_version": "1.2.0",
      "model_name": "LayoutModel",
      "state": {
       "_model_module": "@jupyter-widgets/base",
       "_model_module_version": "1.2.0",
       "_model_name": "LayoutModel",
       "_view_count": null,
       "_view_module": "@jupyter-widgets/base",
       "_view_module_version": "1.2.0",
       "_view_name": "LayoutView",
       "align_content": null,
       "align_items": null,
       "align_self": null,
       "border": null,
       "bottom": null,
       "display": null,
       "flex": null,
       "flex_flow": null,
       "grid_area": null,
       "grid_auto_columns": null,
       "grid_auto_flow": null,
       "grid_auto_rows": null,
       "grid_column": null,
       "grid_gap": null,
       "grid_row": null,
       "grid_template_areas": null,
       "grid_template_columns": null,
       "grid_template_rows": null,
       "height": null,
       "justify_content": null,
       "justify_items": null,
       "left": null,
       "margin": null,
       "max_height": null,
       "max_width": null,
       "min_height": null,
       "min_width": null,
       "object_fit": null,
       "object_position": null,
       "order": null,
       "overflow": null,
       "overflow_x": null,
       "overflow_y": null,
       "padding": null,
       "right": null,
       "top": null,
       "visibility": null,
       "width": null
      }
     },
     "91de9429d55042d3b2fdec466c3992c4": {
      "model_module": "@jupyter-widgets/controls",
      "model_module_version": "1.5.0",
      "model_name": "DescriptionStyleModel",
      "state": {
       "_model_module": "@jupyter-widgets/controls",
       "_model_module_version": "1.5.0",
       "_model_name": "DescriptionStyleModel",
       "_view_count": null,
       "_view_module": "@jupyter-widgets/base",
       "_view_module_version": "1.2.0",
       "_view_name": "StyleView",
       "description_width": ""
      }
     },
     "951aa7e7bab24377a60f243d1bb44b1f": {
      "model_module": "@jupyter-widgets/base",
      "model_module_version": "1.2.0",
      "model_name": "LayoutModel",
      "state": {
       "_model_module": "@jupyter-widgets/base",
       "_model_module_version": "1.2.0",
       "_model_name": "LayoutModel",
       "_view_count": null,
       "_view_module": "@jupyter-widgets/base",
       "_view_module_version": "1.2.0",
       "_view_name": "LayoutView",
       "align_content": null,
       "align_items": null,
       "align_self": null,
       "border": null,
       "bottom": null,
       "display": null,
       "flex": null,
       "flex_flow": null,
       "grid_area": null,
       "grid_auto_columns": null,
       "grid_auto_flow": null,
       "grid_auto_rows": null,
       "grid_column": null,
       "grid_gap": null,
       "grid_row": null,
       "grid_template_areas": null,
       "grid_template_columns": null,
       "grid_template_rows": null,
       "height": null,
       "justify_content": null,
       "justify_items": null,
       "left": null,
       "margin": null,
       "max_height": null,
       "max_width": null,
       "min_height": null,
       "min_width": null,
       "object_fit": null,
       "object_position": null,
       "order": null,
       "overflow": null,
       "overflow_x": null,
       "overflow_y": null,
       "padding": null,
       "right": null,
       "top": null,
       "visibility": null,
       "width": null
      }
     },
     "9dae88804a114a0b85f60343c47f9f4d": {
      "model_module": "@jupyter-widgets/controls",
      "model_module_version": "1.5.0",
      "model_name": "ProgressStyleModel",
      "state": {
       "_model_module": "@jupyter-widgets/controls",
       "_model_module_version": "1.5.0",
       "_model_name": "ProgressStyleModel",
       "_view_count": null,
       "_view_module": "@jupyter-widgets/base",
       "_view_module_version": "1.2.0",
       "_view_name": "StyleView",
       "bar_color": null,
       "description_width": ""
      }
     },
     "a2ef9fba2fd44ed688e3fb7f6f78cdee": {
      "model_module": "@jupyter-widgets/base",
      "model_module_version": "1.2.0",
      "model_name": "LayoutModel",
      "state": {
       "_model_module": "@jupyter-widgets/base",
       "_model_module_version": "1.2.0",
       "_model_name": "LayoutModel",
       "_view_count": null,
       "_view_module": "@jupyter-widgets/base",
       "_view_module_version": "1.2.0",
       "_view_name": "LayoutView",
       "align_content": null,
       "align_items": null,
       "align_self": null,
       "border": null,
       "bottom": null,
       "display": null,
       "flex": null,
       "flex_flow": null,
       "grid_area": null,
       "grid_auto_columns": null,
       "grid_auto_flow": null,
       "grid_auto_rows": null,
       "grid_column": null,
       "grid_gap": null,
       "grid_row": null,
       "grid_template_areas": null,
       "grid_template_columns": null,
       "grid_template_rows": null,
       "height": null,
       "justify_content": null,
       "justify_items": null,
       "left": null,
       "margin": null,
       "max_height": null,
       "max_width": null,
       "min_height": null,
       "min_width": null,
       "object_fit": null,
       "object_position": null,
       "order": null,
       "overflow": null,
       "overflow_x": null,
       "overflow_y": null,
       "padding": null,
       "right": null,
       "top": null,
       "visibility": null,
       "width": null
      }
     },
     "a54fc6e1c1e64355ac3c4efecea3f6dd": {
      "model_module": "@jupyter-widgets/base",
      "model_module_version": "1.2.0",
      "model_name": "LayoutModel",
      "state": {
       "_model_module": "@jupyter-widgets/base",
       "_model_module_version": "1.2.0",
       "_model_name": "LayoutModel",
       "_view_count": null,
       "_view_module": "@jupyter-widgets/base",
       "_view_module_version": "1.2.0",
       "_view_name": "LayoutView",
       "align_content": null,
       "align_items": null,
       "align_self": null,
       "border": null,
       "bottom": null,
       "display": null,
       "flex": null,
       "flex_flow": null,
       "grid_area": null,
       "grid_auto_columns": null,
       "grid_auto_flow": null,
       "grid_auto_rows": null,
       "grid_column": null,
       "grid_gap": null,
       "grid_row": null,
       "grid_template_areas": null,
       "grid_template_columns": null,
       "grid_template_rows": null,
       "height": null,
       "justify_content": null,
       "justify_items": null,
       "left": null,
       "margin": null,
       "max_height": null,
       "max_width": null,
       "min_height": null,
       "min_width": null,
       "object_fit": null,
       "object_position": null,
       "order": null,
       "overflow": null,
       "overflow_x": null,
       "overflow_y": null,
       "padding": null,
       "right": null,
       "top": null,
       "visibility": null,
       "width": null
      }
     },
     "ac08b4a31e9343edb13001ff01eb3bd6": {
      "model_module": "@jupyter-widgets/controls",
      "model_module_version": "1.5.0",
      "model_name": "ProgressStyleModel",
      "state": {
       "_model_module": "@jupyter-widgets/controls",
       "_model_module_version": "1.5.0",
       "_model_name": "ProgressStyleModel",
       "_view_count": null,
       "_view_module": "@jupyter-widgets/base",
       "_view_module_version": "1.2.0",
       "_view_name": "StyleView",
       "bar_color": null,
       "description_width": ""
      }
     },
     "bb3df889b75b48e79eecf9a28b36df17": {
      "model_module": "@jupyter-widgets/controls",
      "model_module_version": "1.5.0",
      "model_name": "FloatProgressModel",
      "state": {
       "_dom_classes": [],
       "_model_module": "@jupyter-widgets/controls",
       "_model_module_version": "1.5.0",
       "_model_name": "FloatProgressModel",
       "_view_count": null,
       "_view_module": "@jupyter-widgets/controls",
       "_view_module_version": "1.5.0",
       "_view_name": "ProgressView",
       "bar_style": "success",
       "description": "",
       "description_tooltip": null,
       "layout": "IPY_MODEL_3a132946099f49e3a953af8723a9064b",
       "max": 570,
       "min": 0,
       "orientation": "horizontal",
       "style": "IPY_MODEL_ac08b4a31e9343edb13001ff01eb3bd6",
       "value": 570
      }
     },
     "bc4a50a233b4453cbe3b7b759a6535d5": {
      "model_module": "@jupyter-widgets/base",
      "model_module_version": "1.2.0",
      "model_name": "LayoutModel",
      "state": {
       "_model_module": "@jupyter-widgets/base",
       "_model_module_version": "1.2.0",
       "_model_name": "LayoutModel",
       "_view_count": null,
       "_view_module": "@jupyter-widgets/base",
       "_view_module_version": "1.2.0",
       "_view_name": "LayoutView",
       "align_content": null,
       "align_items": null,
       "align_self": null,
       "border": null,
       "bottom": null,
       "display": null,
       "flex": null,
       "flex_flow": null,
       "grid_area": null,
       "grid_auto_columns": null,
       "grid_auto_flow": null,
       "grid_auto_rows": null,
       "grid_column": null,
       "grid_gap": null,
       "grid_row": null,
       "grid_template_areas": null,
       "grid_template_columns": null,
       "grid_template_rows": null,
       "height": null,
       "justify_content": null,
       "justify_items": null,
       "left": null,
       "margin": null,
       "max_height": null,
       "max_width": null,
       "min_height": null,
       "min_width": null,
       "object_fit": null,
       "object_position": null,
       "order": null,
       "overflow": null,
       "overflow_x": null,
       "overflow_y": null,
       "padding": null,
       "right": null,
       "top": null,
       "visibility": null,
       "width": null
      }
     },
     "bf7024bb8bf54615b256bf2a00b1802a": {
      "model_module": "@jupyter-widgets/base",
      "model_module_version": "1.2.0",
      "model_name": "LayoutModel",
      "state": {
       "_model_module": "@jupyter-widgets/base",
       "_model_module_version": "1.2.0",
       "_model_name": "LayoutModel",
       "_view_count": null,
       "_view_module": "@jupyter-widgets/base",
       "_view_module_version": "1.2.0",
       "_view_name": "LayoutView",
       "align_content": null,
       "align_items": null,
       "align_self": null,
       "border": null,
       "bottom": null,
       "display": null,
       "flex": null,
       "flex_flow": null,
       "grid_area": null,
       "grid_auto_columns": null,
       "grid_auto_flow": null,
       "grid_auto_rows": null,
       "grid_column": null,
       "grid_gap": null,
       "grid_row": null,
       "grid_template_areas": null,
       "grid_template_columns": null,
       "grid_template_rows": null,
       "height": null,
       "justify_content": null,
       "justify_items": null,
       "left": null,
       "margin": null,
       "max_height": null,
       "max_width": null,
       "min_height": null,
       "min_width": null,
       "object_fit": null,
       "object_position": null,
       "order": null,
       "overflow": null,
       "overflow_x": null,
       "overflow_y": null,
       "padding": null,
       "right": null,
       "top": null,
       "visibility": null,
       "width": null
      }
     },
     "c14d4433ad584cb8997e80d7ecd0e889": {
      "model_module": "@jupyter-widgets/base",
      "model_module_version": "1.2.0",
      "model_name": "LayoutModel",
      "state": {
       "_model_module": "@jupyter-widgets/base",
       "_model_module_version": "1.2.0",
       "_model_name": "LayoutModel",
       "_view_count": null,
       "_view_module": "@jupyter-widgets/base",
       "_view_module_version": "1.2.0",
       "_view_name": "LayoutView",
       "align_content": null,
       "align_items": null,
       "align_self": null,
       "border": null,
       "bottom": null,
       "display": null,
       "flex": null,
       "flex_flow": null,
       "grid_area": null,
       "grid_auto_columns": null,
       "grid_auto_flow": null,
       "grid_auto_rows": null,
       "grid_column": null,
       "grid_gap": null,
       "grid_row": null,
       "grid_template_areas": null,
       "grid_template_columns": null,
       "grid_template_rows": null,
       "height": null,
       "justify_content": null,
       "justify_items": null,
       "left": null,
       "margin": null,
       "max_height": null,
       "max_width": null,
       "min_height": null,
       "min_width": null,
       "object_fit": null,
       "object_position": null,
       "order": null,
       "overflow": null,
       "overflow_x": null,
       "overflow_y": null,
       "padding": null,
       "right": null,
       "top": null,
       "visibility": null,
       "width": null
      }
     },
     "c218ae062f61430894ebcfd68a98b9dc": {
      "model_module": "@jupyter-widgets/base",
      "model_module_version": "1.2.0",
      "model_name": "LayoutModel",
      "state": {
       "_model_module": "@jupyter-widgets/base",
       "_model_module_version": "1.2.0",
       "_model_name": "LayoutModel",
       "_view_count": null,
       "_view_module": "@jupyter-widgets/base",
       "_view_module_version": "1.2.0",
       "_view_name": "LayoutView",
       "align_content": null,
       "align_items": null,
       "align_self": null,
       "border": null,
       "bottom": null,
       "display": null,
       "flex": null,
       "flex_flow": null,
       "grid_area": null,
       "grid_auto_columns": null,
       "grid_auto_flow": null,
       "grid_auto_rows": null,
       "grid_column": null,
       "grid_gap": null,
       "grid_row": null,
       "grid_template_areas": null,
       "grid_template_columns": null,
       "grid_template_rows": null,
       "height": null,
       "justify_content": null,
       "justify_items": null,
       "left": null,
       "margin": null,
       "max_height": null,
       "max_width": null,
       "min_height": null,
       "min_width": null,
       "object_fit": null,
       "object_position": null,
       "order": null,
       "overflow": null,
       "overflow_x": null,
       "overflow_y": null,
       "padding": null,
       "right": null,
       "top": null,
       "visibility": null,
       "width": null
      }
     },
     "c51d626462fc4b60b47021a18a825fd7": {
      "model_module": "@jupyter-widgets/base",
      "model_module_version": "1.2.0",
      "model_name": "LayoutModel",
      "state": {
       "_model_module": "@jupyter-widgets/base",
       "_model_module_version": "1.2.0",
       "_model_name": "LayoutModel",
       "_view_count": null,
       "_view_module": "@jupyter-widgets/base",
       "_view_module_version": "1.2.0",
       "_view_name": "LayoutView",
       "align_content": null,
       "align_items": null,
       "align_self": null,
       "border": null,
       "bottom": null,
       "display": null,
       "flex": null,
       "flex_flow": null,
       "grid_area": null,
       "grid_auto_columns": null,
       "grid_auto_flow": null,
       "grid_auto_rows": null,
       "grid_column": null,
       "grid_gap": null,
       "grid_row": null,
       "grid_template_areas": null,
       "grid_template_columns": null,
       "grid_template_rows": null,
       "height": null,
       "justify_content": null,
       "justify_items": null,
       "left": null,
       "margin": null,
       "max_height": null,
       "max_width": null,
       "min_height": null,
       "min_width": null,
       "object_fit": null,
       "object_position": null,
       "order": null,
       "overflow": null,
       "overflow_x": null,
       "overflow_y": null,
       "padding": null,
       "right": null,
       "top": null,
       "visibility": null,
       "width": null
      }
     },
     "cc8a847146d945e4a2dbc60a54273067": {
      "model_module": "@jupyter-widgets/controls",
      "model_module_version": "1.5.0",
      "model_name": "HTMLModel",
      "state": {
       "_dom_classes": [],
       "_model_module": "@jupyter-widgets/controls",
       "_model_module_version": "1.5.0",
       "_model_name": "HTMLModel",
       "_view_count": null,
       "_view_module": "@jupyter-widgets/controls",
       "_view_module_version": "1.5.0",
       "_view_name": "HTMLView",
       "description": "",
       "description_tooltip": null,
       "layout": "IPY_MODEL_951aa7e7bab24377a60f243d1bb44b1f",
       "placeholder": "​",
       "style": "IPY_MODEL_8ada6b6398f546d58cedbae366638bea",
       "value": "config.json: 100%"
      }
     },
     "cebf5aa35feb437a9d77bef39fe4617b": {
      "model_module": "@jupyter-widgets/controls",
      "model_module_version": "1.5.0",
      "model_name": "FloatProgressModel",
      "state": {
       "_dom_classes": [],
       "_model_module": "@jupyter-widgets/controls",
       "_model_module_version": "1.5.0",
       "_model_name": "FloatProgressModel",
       "_view_count": null,
       "_view_module": "@jupyter-widgets/controls",
       "_view_module_version": "1.5.0",
       "_view_name": "ProgressView",
       "bar_style": "success",
       "description": "",
       "description_tooltip": null,
       "layout": "IPY_MODEL_6bae97ec426942faa67c9e20fb4a04e4",
       "max": 29,
       "min": 0,
       "orientation": "horizontal",
       "style": "IPY_MODEL_eaabb5cd00564cef953e9c57cb6e37eb",
       "value": 29
      }
     },
     "cff6b66ddf6743a08c55f734080c2a0b": {
      "model_module": "@jupyter-widgets/base",
      "model_module_version": "1.2.0",
      "model_name": "LayoutModel",
      "state": {
       "_model_module": "@jupyter-widgets/base",
       "_model_module_version": "1.2.0",
       "_model_name": "LayoutModel",
       "_view_count": null,
       "_view_module": "@jupyter-widgets/base",
       "_view_module_version": "1.2.0",
       "_view_name": "LayoutView",
       "align_content": null,
       "align_items": null,
       "align_self": null,
       "border": null,
       "bottom": null,
       "display": null,
       "flex": null,
       "flex_flow": null,
       "grid_area": null,
       "grid_auto_columns": null,
       "grid_auto_flow": null,
       "grid_auto_rows": null,
       "grid_column": null,
       "grid_gap": null,
       "grid_row": null,
       "grid_template_areas": null,
       "grid_template_columns": null,
       "grid_template_rows": null,
       "height": null,
       "justify_content": null,
       "justify_items": null,
       "left": null,
       "margin": null,
       "max_height": null,
       "max_width": null,
       "min_height": null,
       "min_width": null,
       "object_fit": null,
       "object_position": null,
       "order": null,
       "overflow": null,
       "overflow_x": null,
       "overflow_y": null,
       "padding": null,
       "right": null,
       "top": null,
       "visibility": null,
       "width": null
      }
     },
     "db212a400bed41a1a59d25edcacf6e5f": {
      "model_module": "@jupyter-widgets/base",
      "model_module_version": "1.2.0",
      "model_name": "LayoutModel",
      "state": {
       "_model_module": "@jupyter-widgets/base",
       "_model_module_version": "1.2.0",
       "_model_name": "LayoutModel",
       "_view_count": null,
       "_view_module": "@jupyter-widgets/base",
       "_view_module_version": "1.2.0",
       "_view_name": "LayoutView",
       "align_content": null,
       "align_items": null,
       "align_self": null,
       "border": null,
       "bottom": null,
       "display": null,
       "flex": null,
       "flex_flow": null,
       "grid_area": null,
       "grid_auto_columns": null,
       "grid_auto_flow": null,
       "grid_auto_rows": null,
       "grid_column": null,
       "grid_gap": null,
       "grid_row": null,
       "grid_template_areas": null,
       "grid_template_columns": null,
       "grid_template_rows": null,
       "height": null,
       "justify_content": null,
       "justify_items": null,
       "left": null,
       "margin": null,
       "max_height": null,
       "max_width": null,
       "min_height": null,
       "min_width": null,
       "object_fit": null,
       "object_position": null,
       "order": null,
       "overflow": null,
       "overflow_x": null,
       "overflow_y": null,
       "padding": null,
       "right": null,
       "top": null,
       "visibility": null,
       "width": null
      }
     },
     "ddf7e047714041a78158ea40f98f5f8e": {
      "model_module": "@jupyter-widgets/controls",
      "model_module_version": "1.5.0",
      "model_name": "HBoxModel",
      "state": {
       "_dom_classes": [],
       "_model_module": "@jupyter-widgets/controls",
       "_model_module_version": "1.5.0",
       "_model_name": "HBoxModel",
       "_view_count": null,
       "_view_module": "@jupyter-widgets/controls",
       "_view_module_version": "1.5.0",
       "_view_name": "HBoxView",
       "box_style": "",
       "children": [
        "IPY_MODEL_cc8a847146d945e4a2dbc60a54273067",
        "IPY_MODEL_bb3df889b75b48e79eecf9a28b36df17",
        "IPY_MODEL_4980843f004641e9ae7fd9d586584fd3"
       ],
       "layout": "IPY_MODEL_6a3ade0adb5944f99d1eab18bc4eb511"
      }
     },
     "e050d8b1d9f5478489c3052bf6dc7922": {
      "model_module": "@jupyter-widgets/controls",
      "model_module_version": "1.5.0",
      "model_name": "ProgressStyleModel",
      "state": {
       "_model_module": "@jupyter-widgets/controls",
       "_model_module_version": "1.5.0",
       "_model_name": "ProgressStyleModel",
       "_view_count": null,
       "_view_module": "@jupyter-widgets/base",
       "_view_module_version": "1.2.0",
       "_view_name": "StyleView",
       "bar_color": null,
       "description_width": ""
      }
     },
     "e377956e1ab34abd9f99288f1dcf3768": {
      "model_module": "@jupyter-widgets/base",
      "model_module_version": "1.2.0",
      "model_name": "LayoutModel",
      "state": {
       "_model_module": "@jupyter-widgets/base",
       "_model_module_version": "1.2.0",
       "_model_name": "LayoutModel",
       "_view_count": null,
       "_view_module": "@jupyter-widgets/base",
       "_view_module_version": "1.2.0",
       "_view_name": "LayoutView",
       "align_content": null,
       "align_items": null,
       "align_self": null,
       "border": null,
       "bottom": null,
       "display": null,
       "flex": null,
       "flex_flow": null,
       "grid_area": null,
       "grid_auto_columns": null,
       "grid_auto_flow": null,
       "grid_auto_rows": null,
       "grid_column": null,
       "grid_gap": null,
       "grid_row": null,
       "grid_template_areas": null,
       "grid_template_columns": null,
       "grid_template_rows": null,
       "height": null,
       "justify_content": null,
       "justify_items": null,
       "left": null,
       "margin": null,
       "max_height": null,
       "max_width": null,
       "min_height": null,
       "min_width": null,
       "object_fit": null,
       "object_position": null,
       "order": null,
       "overflow": null,
       "overflow_x": null,
       "overflow_y": null,
       "padding": null,
       "right": null,
       "top": null,
       "visibility": null,
       "width": null
      }
     },
     "eaabb5cd00564cef953e9c57cb6e37eb": {
      "model_module": "@jupyter-widgets/controls",
      "model_module_version": "1.5.0",
      "model_name": "ProgressStyleModel",
      "state": {
       "_model_module": "@jupyter-widgets/controls",
       "_model_module_version": "1.5.0",
       "_model_name": "ProgressStyleModel",
       "_view_count": null,
       "_view_module": "@jupyter-widgets/base",
       "_view_module_version": "1.2.0",
       "_view_name": "StyleView",
       "bar_color": null,
       "description_width": ""
      }
     },
     "f16b8f1a4b5546218af1ccd3ab1e5123": {
      "model_module": "@jupyter-widgets/controls",
      "model_module_version": "1.5.0",
      "model_name": "DescriptionStyleModel",
      "state": {
       "_model_module": "@jupyter-widgets/controls",
       "_model_module_version": "1.5.0",
       "_model_name": "DescriptionStyleModel",
       "_view_count": null,
       "_view_module": "@jupyter-widgets/base",
       "_view_module_version": "1.2.0",
       "_view_name": "StyleView",
       "description_width": ""
      }
     },
     "f476b66f4b0343488a61db758a2abcda": {
      "model_module": "@jupyter-widgets/controls",
      "model_module_version": "1.5.0",
      "model_name": "DescriptionStyleModel",
      "state": {
       "_model_module": "@jupyter-widgets/controls",
       "_model_module_version": "1.5.0",
       "_model_name": "DescriptionStyleModel",
       "_view_count": null,
       "_view_module": "@jupyter-widgets/base",
       "_view_module_version": "1.2.0",
       "_view_name": "StyleView",
       "description_width": ""
      }
     },
     "f523e0194e614773b08618d186065181": {
      "model_module": "@jupyter-widgets/base",
      "model_module_version": "1.2.0",
      "model_name": "LayoutModel",
      "state": {
       "_model_module": "@jupyter-widgets/base",
       "_model_module_version": "1.2.0",
       "_model_name": "LayoutModel",
       "_view_count": null,
       "_view_module": "@jupyter-widgets/base",
       "_view_module_version": "1.2.0",
       "_view_name": "LayoutView",
       "align_content": null,
       "align_items": null,
       "align_self": null,
       "border": null,
       "bottom": null,
       "display": null,
       "flex": null,
       "flex_flow": null,
       "grid_area": null,
       "grid_auto_columns": null,
       "grid_auto_flow": null,
       "grid_auto_rows": null,
       "grid_column": null,
       "grid_gap": null,
       "grid_row": null,
       "grid_template_areas": null,
       "grid_template_columns": null,
       "grid_template_rows": null,
       "height": null,
       "justify_content": null,
       "justify_items": null,
       "left": null,
       "margin": null,
       "max_height": null,
       "max_width": null,
       "min_height": null,
       "min_width": null,
       "object_fit": null,
       "object_position": null,
       "order": null,
       "overflow": null,
       "overflow_x": null,
       "overflow_y": null,
       "padding": null,
       "right": null,
       "top": null,
       "visibility": null,
       "width": null
      }
     },
     "fb3fad5958094b71a80771fed70d6c84": {
      "model_module": "@jupyter-widgets/controls",
      "model_module_version": "1.5.0",
      "model_name": "HBoxModel",
      "state": {
       "_dom_classes": [],
       "_model_module": "@jupyter-widgets/controls",
       "_model_module_version": "1.5.0",
       "_model_name": "HBoxModel",
       "_view_count": null,
       "_view_module": "@jupyter-widgets/controls",
       "_view_module_version": "1.5.0",
       "_view_name": "HBoxView",
       "box_style": "",
       "children": [
        "IPY_MODEL_8e6592f1dee34875850c339c3b5b2e6f",
        "IPY_MODEL_cebf5aa35feb437a9d77bef39fe4617b",
        "IPY_MODEL_47a5d504bfd94250b0130671f61899cb"
       ],
       "layout": "IPY_MODEL_e377956e1ab34abd9f99288f1dcf3768"
      }
     },
     "ffe70a5053a34ceb8c85c8ee3a7419c8": {
      "model_module": "@jupyter-widgets/base",
      "model_module_version": "1.2.0",
      "model_name": "LayoutModel",
      "state": {
       "_model_module": "@jupyter-widgets/base",
       "_model_module_version": "1.2.0",
       "_model_name": "LayoutModel",
       "_view_count": null,
       "_view_module": "@jupyter-widgets/base",
       "_view_module_version": "1.2.0",
       "_view_name": "LayoutView",
       "align_content": null,
       "align_items": null,
       "align_self": null,
       "border": null,
       "bottom": null,
       "display": null,
       "flex": null,
       "flex_flow": null,
       "grid_area": null,
       "grid_auto_columns": null,
       "grid_auto_flow": null,
       "grid_auto_rows": null,
       "grid_column": null,
       "grid_gap": null,
       "grid_row": null,
       "grid_template_areas": null,
       "grid_template_columns": null,
       "grid_template_rows": null,
       "height": null,
       "justify_content": null,
       "justify_items": null,
       "left": null,
       "margin": null,
       "max_height": null,
       "max_width": null,
       "min_height": null,
       "min_width": null,
       "object_fit": null,
       "object_position": null,
       "order": null,
       "overflow": null,
       "overflow_x": null,
       "overflow_y": null,
       "padding": null,
       "right": null,
       "top": null,
       "visibility": null,
       "width": null
      }
     }
    },
    "version_major": 2,
    "version_minor": 0
   }
  }
 },
 "nbformat": 4,
 "nbformat_minor": 5
}
