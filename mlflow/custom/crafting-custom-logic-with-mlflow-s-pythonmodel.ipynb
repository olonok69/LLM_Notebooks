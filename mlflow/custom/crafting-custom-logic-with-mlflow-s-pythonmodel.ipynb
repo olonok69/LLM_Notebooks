{
 "cells": [
  {
   "cell_type": "markdown",
   "metadata": {},
   "source": [
    "# Crafting Custom Logic with MLflow’s PythonModel\n",
    "\n",
    "mlflow.pyfunc\n",
    "The python_function model flavor serves as a default model interface for MLflow Python models. Any MLflow Python model is expected to be loadable as a python_function model.\n",
    "\n",
    "In addition, the mlflow.pyfunc module defines a generic filesystem format for Python models and provides utilities for saving to and loading from this format. The format is self contained in the sense that it includes all necessary information for anyone to load it and use it. Dependencies are either stored directly with the model or referenced via a Conda environment.\n",
    "\n",
    "The mlflow.pyfunc module also defines utilities for creating custom pyfunc models using frameworks and inference logic that may not be natively included in MLflow\n",
    "\n",
    "\n",
    "custom implementation for semantic search using MLflow and Sentence Transformers\n",
    "\n",
    "# pyfunc\n",
    "\n",
    "https://mlflow.org/docs/latest/python_api/mlflow.pyfunc.html#pyfunc-create-custom\n",
    "\n",
    "https://mlflow.org/docs/latest/python_api/mlflow.pyfunc.html#mlflow.pyfunc.PyFuncModel\n",
    "\n",
    "# CloudPickle\n",
    "https://github.com/cloudpipe/cloudpickle\n",
    "\n",
    "cloudpickle can serialize Python functions, lambda functions, and locally defined classes and functions inside other functions. This makes cloudpickle especially useful for parallel and distributed computing where code objects need to be sent over network to execute on remote workers\n",
    "\n",
    "\n",
    "# Function-based Model vs Class-based Model\n",
    "When creating custom PyFunc models, you can choose between two different interfaces: a function-based model and a class-based model. In short, a function-based model is simply a python function that does not take additional params. The class-based model, on the other hand, is subclass of PythonModel that supports several required and optional methods. If your use case is simple and fits within a single predict function, a funcion-based approach is recommended. If you need more power, such as custom serialization, custom data processing, or to override additional methods, you should use the class-based implementation."
   ]
  },
  {
   "cell_type": "code",
   "execution_count": null,
   "metadata": {
    "execution": {
     "iopub.execute_input": "2024-05-18T19:52:30.520794Z",
     "iopub.status.busy": "2024-05-18T19:52:30.520339Z",
     "iopub.status.idle": "2024-05-18T19:53:02.289893Z",
     "shell.execute_reply": "2024-05-18T19:53:02.288530Z",
     "shell.execute_reply.started": "2024-05-18T19:52:30.520760Z"
    },
    "trusted": true
   },
   "outputs": [],
   "source": [
    "\n",
    "%pip install mlflow==2.11.2 -q\n",
    "%pip install transformers==4.39.3  pyngrok datasets sentence_transformers -q"
   ]
  },
  {
   "cell_type": "code",
   "execution_count": null,
   "metadata": {
    "execution": {
     "iopub.execute_input": "2024-05-18T20:14:18.554895Z",
     "iopub.status.busy": "2024-05-18T20:14:18.554317Z",
     "iopub.status.idle": "2024-05-18T20:14:18.883970Z",
     "shell.execute_reply": "2024-05-18T20:14:18.882619Z",
     "shell.execute_reply.started": "2024-05-18T20:14:18.554849Z"
    },
    "trusted": true
   },
   "outputs": [],
   "source": [
    "from kaggle_secrets import UserSecretsClient\n",
    "user_secrets = UserSecretsClient()\n",
    "NGROK = user_secrets.get_secret(\"NGROK\")"
   ]
  },
  {
   "cell_type": "code",
   "execution_count": null,
   "metadata": {
    "execution": {
     "iopub.execute_input": "2024-05-18T20:14:21.071403Z",
     "iopub.status.busy": "2024-05-18T20:14:21.070938Z",
     "iopub.status.idle": "2024-05-18T20:14:21.117165Z",
     "shell.execute_reply": "2024-05-18T20:14:21.115704Z",
     "shell.execute_reply.started": "2024-05-18T20:14:21.071370Z"
    },
    "trusted": true
   },
   "outputs": [],
   "source": [
    "\n",
    "from pyngrok import ngrok\n",
    "\n",
    "get_ipython().system_raw(\"mlflow ui --port 5000 &\")\n",
    "\n",
    "\n",
    "# Terminate open tunnels if exist\n",
    "ngrok.kill()"
   ]
  },
  {
   "cell_type": "code",
   "execution_count": null,
   "metadata": {
    "execution": {
     "iopub.execute_input": "2024-05-18T20:14:32.952957Z",
     "iopub.status.busy": "2024-05-18T20:14:32.952504Z",
     "iopub.status.idle": "2024-05-18T20:14:34.727582Z",
     "shell.execute_reply": "2024-05-18T20:14:34.726257Z",
     "shell.execute_reply.started": "2024-05-18T20:14:32.952924Z"
    },
    "trusted": true
   },
   "outputs": [],
   "source": [
    "ngrok.set_auth_token(NGROK)\n",
    "\n",
    "# Open an HTTPs tunnel on port 5000 for http://localhost:5000\n",
    "ngrok_tunnel = ngrok.connect(addr=\"5000\", proto=\"http\", bind_tls=True)\n",
    "print(\"MLflow Tracking UI:\", ngrok_tunnel.public_url)"
   ]
  },
  {
   "cell_type": "code",
   "execution_count": null,
   "metadata": {
    "execution": {
     "iopub.execute_input": "2024-05-18T20:17:35.437179Z",
     "iopub.status.busy": "2024-05-18T20:17:35.436775Z",
     "iopub.status.idle": "2024-05-18T20:17:35.443177Z",
     "shell.execute_reply": "2024-05-18T20:17:35.441860Z",
     "shell.execute_reply.started": "2024-05-18T20:17:35.437149Z"
    },
    "trusted": true
   },
   "outputs": [],
   "source": [
    "import warnings\n",
    "\n",
    "# Disable a few less-than-useful UserWarnings from setuptools and pydantic\n",
    "warnings.filterwarnings(\"ignore\", category=UserWarning)"
   ]
  },
  {
   "cell_type": "code",
   "execution_count": null,
   "metadata": {
    "execution": {
     "iopub.execute_input": "2024-05-18T20:17:32.355518Z",
     "iopub.status.busy": "2024-05-18T20:17:32.354800Z",
     "iopub.status.idle": "2024-05-18T20:17:32.362197Z",
     "shell.execute_reply": "2024-05-18T20:17:32.360742Z",
     "shell.execute_reply.started": "2024-05-18T20:17:32.355480Z"
    },
    "trusted": true
   },
   "outputs": [],
   "source": [
    "import warnings\n",
    "\n",
    "import numpy as np\n",
    "import pandas as pd\n",
    "from sentence_transformers import SentenceTransformer, util\n",
    "\n",
    "import mlflow\n",
    "from mlflow.models.signature import infer_signature\n",
    "from mlflow.pyfunc import PythonModel"
   ]
  },
  {
   "cell_type": "markdown",
   "metadata": {},
   "source": [
    "# CloudPickle\n",
    "https://github.com/cloudpipe/cloudpickle\n",
    "\n",
    "cloudpickle can serialize Python functions, lambda functions, and locally defined classes and functions inside other functions. This makes cloudpickle especially useful for parallel and distributed computing where code objects need to be sent over network to execute on remote workers\n",
    "\n",
    "# https://mlflow.org/docs/latest/python_api/mlflow.pyfunc.html#mlflow.pyfunc.log_model\n",
    "\n",
    "# Function-based Model\n",
    "\n",
    "If you’re looking to serialize a simple python function without additional dependent methods, you can simply log a predict method via the keyword argument python_model\n",
    "\n",
    "```\n",
    "import mlflow\n",
    "import pandas as pd\n",
    "\n",
    "# Define a simple function to log\n",
    "def predict(model_input):\n",
    "    return model_input.apply(lambda x: x * 2)\n",
    "\n",
    "# Save the function as a model\n",
    "with mlflow.start_run():\n",
    "    mlflow.pyfunc.log_model(\"model\", python_model=predict, pip_requirements=[\"pandas\"])\n",
    "    run_id = mlflow.active_run().info.run_id\n",
    "\n",
    "# Load the model from the tracking server and perform inference\n",
    "model = mlflow.pyfunc.load_model(f\"runs:/{run_id}/model\")\n",
    "x_new = pd.Series([1,2,3])\n",
    "\n",
    "prediction = model.predict(x_new)\n",
    "print(prediction)\n",
    "```\n",
    "\n",
    "# Class-based Model\n",
    "If you’re looking to serialize a more complex object, for instance a class that handles preprocessing, complex prediction logic, or custom serialization, you should subclass the PythonModel class.\n",
    "\n",
    "```\n",
    "import mlflow\n",
    "import pandas as pd\n",
    "\n",
    "class MyModel(mlflow.pyfunc.PythonModel):\n",
    "    def predict(self, context, model_input, params=None):\n",
    "        return [x*2 for x in model_input]\n",
    "\n",
    "# Save the function as a model\n",
    "with mlflow.start_run():\n",
    "    mlflow.pyfunc.log_model(\"model\", python_model=MyModel(), pip_requirements=[\"pandas\"])\n",
    "    run_id = mlflow.active_run().info.run_id\n",
    "\n",
    "# Load the model from the tracking server and perform inference\n",
    "model = mlflow.pyfunc.load_model(f\"runs:/{run_id}/model\")\n",
    "x_new = pd.Series([1, 2, 3])\n",
    "\n",
    "print(f\"Prediction:\n",
    "    {model.predict(x_new)}\")\n",
    "```"
   ]
  },
  {
   "cell_type": "code",
   "execution_count": null,
   "metadata": {
    "execution": {
     "iopub.execute_input": "2024-05-18T16:31:31.888115Z",
     "iopub.status.busy": "2024-05-18T16:31:31.887470Z",
     "iopub.status.idle": "2024-05-18T16:31:31.896357Z",
     "shell.execute_reply": "2024-05-18T16:31:31.895246Z",
     "shell.execute_reply.started": "2024-05-18T16:31:31.888080Z"
    },
    "trusted": true
   },
   "outputs": [],
   "source": [
    "# Python function models are loaded as an instance of PyFuncModel, which is an MLflow wrapper around \n",
    "# the model implementation and model metadata (MLmodel file)\n",
    "# https://mlflow.org/docs/latest/python_api/mlflow.pyfunc.html#mlflow.pyfunc.PyFuncModel\n",
    "help(PythonModel)"
   ]
  },
  {
   "cell_type": "markdown",
   "metadata": {},
   "source": [
    "# Advanced Semantic Search with Sentence Transformers and MLflow"
   ]
  },
  {
   "cell_type": "code",
   "execution_count": null,
   "metadata": {
    "execution": {
     "iopub.execute_input": "2024-05-18T20:24:49.240457Z",
     "iopub.status.busy": "2024-05-18T20:24:49.239979Z",
     "iopub.status.idle": "2024-05-18T20:24:49.258717Z",
     "shell.execute_reply": "2024-05-18T20:24:49.257139Z",
     "shell.execute_reply.started": "2024-05-18T20:24:49.240401Z"
    },
    "trusted": true
   },
   "outputs": [],
   "source": [
    "class SemanticSearchModel(PythonModel):\n",
    "    def load_context(self, context):\n",
    "        \"\"\"Load the model context for inference, including the corpus from a file.\"\"\"\n",
    "        try:\n",
    "            # Load the pre-trained sentence transformer model\n",
    "            self.model = SentenceTransformer.load(context.artifacts[\"model_path\"])\n",
    "\n",
    "            # Load the corpus from the specified file\n",
    "            corpus_file = context.artifacts[\"corpus_file\"]\n",
    "            with open(corpus_file) as file:\n",
    "                self.corpus = file.read().splitlines()\n",
    "\n",
    "            # Encode the corpus and convert it to a tensor\n",
    "            self.corpus_embeddings = self.model.encode(self.corpus, convert_to_tensor=True)\n",
    "\n",
    "        except Exception as e:\n",
    "            raise ValueError(f\"Error loading model and corpus: {e}\")\n",
    "\n",
    "    def predict(self, context, model_input, params=None):\n",
    "        \"\"\"Predict method to perform semantic search over the corpus.\"\"\"\n",
    "\n",
    "        if isinstance(model_input, pd.DataFrame):\n",
    "            if model_input.shape[1] != 1:\n",
    "                raise ValueError(\"DataFrame input must have exactly one column.\")\n",
    "            model_input = model_input.iloc[0, 0]\n",
    "        elif isinstance(model_input, dict):\n",
    "            model_input = model_input.get(\"sentence\")\n",
    "            if model_input is None:\n",
    "                raise ValueError(\"The input dictionary must have a key named 'sentence'.\")\n",
    "        else:\n",
    "            raise TypeError(\n",
    "                f\"Unexpected type for model_input: {type(model_input)}. Must be either a Dict or a DataFrame.\"\n",
    "            )\n",
    "\n",
    "        # Encode the query\n",
    "        query_embedding = self.model.encode(model_input, convert_to_tensor=True)\n",
    "\n",
    "        # Compute cosine similarity scores\n",
    "        cos_scores = util.cos_sim(query_embedding, self.corpus_embeddings)[0]\n",
    "\n",
    "        # Determine the number of top results to return\n",
    "        top_k = params.get(\"top_k\", 3) if params else 3  # Default to 3 if not specified\n",
    "\n",
    "        minimum_relevancy = (\n",
    "            params.get(\"minimum_relevancy\", 0.2) if params else 0.2\n",
    "        )  # Default to 0.2 if not specified\n",
    "\n",
    "        # Get the top_k most similar sentences from the corpus\n",
    "        top_results = np.argsort(cos_scores, axis=0)[-top_k:]\n",
    "\n",
    "        # Prepare the initial results list\n",
    "        initial_results = [\n",
    "            (self.corpus[idx], cos_scores[idx].item()) for idx in reversed(top_results)\n",
    "        ]\n",
    "\n",
    "        # Filter the results based on the minimum relevancy threshold\n",
    "        filtered_results = [result for result in initial_results if result[1] >= minimum_relevancy]\n",
    "\n",
    "        # If all results are below the threshold, issue a warning and return the top result\n",
    "        if not filtered_results:\n",
    "            warnings.warn(\n",
    "                \"All top results are below the minimum relevancy threshold. \"\n",
    "                \"Returning the highest match instead.\",\n",
    "                RuntimeWarning,\n",
    "            )\n",
    "            return [initial_results[0]]\n",
    "        else:\n",
    "            return filtered_results"
   ]
  },
  {
   "cell_type": "code",
   "execution_count": null,
   "metadata": {
    "execution": {
     "iopub.execute_input": "2024-05-18T20:24:52.799107Z",
     "iopub.status.busy": "2024-05-18T20:24:52.798734Z",
     "iopub.status.idle": "2024-05-18T20:24:52.814965Z",
     "shell.execute_reply": "2024-05-18T20:24:52.813493Z",
     "shell.execute_reply.started": "2024-05-18T20:24:52.799078Z"
    },
    "trusted": true
   },
   "outputs": [],
   "source": [
    "corpus = [\n",
    "    \"Perfecting a Sourdough Bread Recipe: The Joy of Baking. Baking sourdough bread \"\n",
    "    \"requires patience, skill, and a good understanding of yeast fermentation. Each \"\n",
    "    \"loaf is unique, telling its own story of the baker's journey.\",\n",
    "    \"The Mars Rover's Discoveries: Unveiling the Red Planet. NASA's Mars rover has \"\n",
    "    \"sent back stunning images and data, revealing the planet's secrets. These \"\n",
    "    \"discoveries may hold the key to understanding Mars' history.\",\n",
    "    \"The Art of Growing Herbs: Enhancing Your Culinary Skills. Growing your own \"\n",
    "    \"herbs can transform your cooking, adding fresh and vibrant flavors. Whether it's \"\n",
    "    \"basil, thyme, or rosemary, each herb has its own unique characteristics.\",\n",
    "    \"AI in Software Development: Transforming the Tech Landscape. The rapid \"\n",
    "    \"advancements in artificial intelligence are reshaping how we approach software \"\n",
    "    \"development. From automation to machine learning, the possibilities are endless.\",\n",
    "    \"Backpacking Through Europe: A Journey of Discovery. Traveling across Europe by \"\n",
    "    \"backpack allows one to immerse in diverse cultures and landscapes. It's an \"\n",
    "    \"adventure that combines the thrill of exploration with personal growth.\",\n",
    "    \"Shakespeare's Timeless Influence: Reshaping Modern Storytelling. The works of \"\n",
    "    \"William Shakespeare continue to inspire and influence contemporary literature. \"\n",
    "    \"His mastery of language and deep understanding of human nature are unparalleled.\",\n",
    "    \"The Rise of Renewable Energy: A Sustainable Future. Embracing renewable energy \"\n",
    "    \"is crucial for achieving a sustainable and environmentally friendly lifestyle. \"\n",
    "    \"Solar, wind, and hydro power are leading the way in this green revolution.\",\n",
    "    \"The Magic of Jazz: An Exploration of Sound and Harmony. Jazz music, known for \"\n",
    "    \"its improvisation and complex harmonies, has a rich and diverse history. It \"\n",
    "    \"evokes a range of emotions, often reflecting the soul of the musician.\",\n",
    "    \"Yoga for Mind and Body: The Benefits of Regular Practice. Engaging in regular \"\n",
    "    \"yoga practice can significantly improve flexibility, strength, and mental \"\n",
    "    \"well-being. It's a holistic approach to health, combining physical and spiritual \"\n",
    "    \"aspects.\",\n",
    "    \"The Egyptian Pyramids: Monuments of Ancient Majesty. The ancient Egyptian \"\n",
    "    \"pyramids, monumental tombs for pharaohs, are marvels of architectural \"\n",
    "    \"ingenuity. They stand as a testament to the advanced skills of ancient builders.\",\n",
    "    \"Vegan Cuisine: A World of Flavor. Exploring vegan cuisine reveals a world of \"\n",
    "    \"nutritious and delicious possibilities. From hearty soups to delectable desserts, \"\n",
    "    \"plant-based dishes are diverse and satisfying.\",\n",
    "    \"Extraterrestrial Life: The Endless Search. The quest to find life beyond Earth \"\n",
    "    \"continues to captivate scientists and the public alike. Advances in space \"\n",
    "    \"technology are bringing us closer to answering this age-old question.\",\n",
    "    \"The Art of Plant Pruning: Promoting Healthy Growth. Regular pruning is essential \"\n",
    "    \"for maintaining healthy and vibrant plants. It's not just about cutting back, but \"\n",
    "    \"understanding each plant's growth patterns and needs.\",\n",
    "    \"Cybersecurity in the Digital Age: Protecting Our Data. With the rise of digital \"\n",
    "    \"technology, cybersecurity has become a critical concern. Protecting sensitive \"\n",
    "    \"information from cyber threats is an ongoing challenge for individuals and \"\n",
    "    \"businesses alike.\",\n",
    "    \"The Great Wall of China: A Historical Journey. Visiting the Great Wall offers \"\n",
    "    \"more than just breathtaking views; it's a journey through history. This ancient \"\n",
    "    \"structure tells stories of empires, invasions, and human resilience.\",\n",
    "    \"Mystery Novels: Crafting Suspense and Intrigue. A great mystery novel captivates \"\n",
    "    \"the reader with intricate plots and unexpected twists. It's a genre that combines \"\n",
    "    \"intellectual challenge with entertainment.\",\n",
    "    \"Conserving Endangered Species: A Global Effort. Protecting endangered species \"\n",
    "    \"is a critical task that requires international collaboration. From rainforests to \"\n",
    "    \"oceans, every effort counts in preserving our planet's biodiversity.\",\n",
    "    \"Emotions in Classical Music: A Symphony of Feelings. Classical music is not just \"\n",
    "    \"an auditory experience; it's an emotional journey. Each composition tells a story, \"\n",
    "    \"conveying feelings from joy to sorrow, tranquility to excitement.\",\n",
    "    \"CrossFit: A Test of Strength and Endurance. CrossFit is more than just a fitness \"\n",
    "    \"regimen; it's a lifestyle that challenges your physical and mental limits. It \"\n",
    "    \"combines various disciplines to create a comprehensive workout.\",\n",
    "    \"The Renaissance: An Era of Artistic Genius. The Renaissance marked a period of \"\n",
    "    \"extraordinary artistic and scientific achievements. It was a time when creativity \"\n",
    "    \"and innovation flourished, reshaping the course of history.\",\n",
    "    \"Exploring International Cuisines: A Culinary Adventure. Discovering international \"\n",
    "    \"cuisines is an adventure for the palate. Each dish offers a glimpse into the \"\n",
    "    \"culture and traditions of its origin.\",\n",
    "    \"Astronaut Training: Preparing for the Unknown. Becoming an astronaut involves \"\n",
    "    \"rigorous training to prepare for the extreme conditions of space. It's a journey \"\n",
    "    \"that tests both physical endurance and mental resilience.\",\n",
    "    \"Sustainable Gardening: Nurturing the Environment. Sustainable gardening is not \"\n",
    "    \"just about growing plants; it's about cultivating an ecosystem. By embracing \"\n",
    "    \"environmentally friendly practices, gardeners can have a positive impact on the \"\n",
    "    \"planet.\",\n",
    "    \"The Smartphone Revolution: Changing Communication. Smartphones have transformed \"\n",
    "    \"how we communicate, offering unprecedented connectivity and convenience. This \"\n",
    "    \"technology continues to evolve, shaping our daily interactions.\",\n",
    "    \"Experiencing African Safaris: Wildlife and Wilderness. An African safari is an \"\n",
    "    \"unforgettable experience that brings you face-to-face with the wonders of \"\n",
    "    \"wildlife. It's a journey that connects you with the raw beauty of nature.\",\n",
    "    \"Graphic Novels: A Blend of Art and Story. Graphic novels offer a unique medium \"\n",
    "    \"where art and narrative intertwine to tell compelling stories. They challenge \"\n",
    "    \"traditional forms of storytelling, offering visual and textual richness.\",\n",
    "    \"Addressing Ocean Pollution: A Call to Action. The increasing levels of pollution \"\n",
    "    \"in our oceans are a pressing environmental concern. Protecting marine life and \"\n",
    "    \"ecosystems requires concerted global efforts.\",\n",
    "    \"The Origins of Hip Hop: A Cultural Movement. Hip hop music, originating from the \"\n",
    "    \"streets of New York, has grown into a powerful cultural movement. Its beats and \"\n",
    "    \"lyrics reflect the experiences and voices of a community.\",\n",
    "    \"Swimming: A Comprehensive Workout. Swimming offers a full-body workout that is \"\n",
    "    \"both challenging and refreshing. It's an exercise that enhances cardiovascular \"\n",
    "    \"health, builds muscle, and improves endurance.\",\n",
    "    \"The Fall of the Berlin Wall: A Historical Turning Point. The fall of the Berlin \"\n",
    "    \"Wall was not just a physical demolition; it was a symbol of political and social \"\n",
    "    \"change. This historic event marked the end of an era and the beginning of a new \"\n",
    "    \"chapter in world history.\",\n",
    "]\n",
    "\n",
    "# Write the corpus to a file\n",
    "corpus_file = \"/kaggle/working/search_corpus.txt\"\n",
    "with open(corpus_file, \"w\") as file:\n",
    "    for sentence in corpus:\n",
    "        file.write(sentence + \"\\n\")"
   ]
  },
  {
   "cell_type": "code",
   "execution_count": null,
   "metadata": {
    "execution": {
     "iopub.execute_input": "2024-05-18T20:24:56.931818Z",
     "iopub.status.busy": "2024-05-18T20:24:56.931443Z",
     "iopub.status.idle": "2024-05-18T20:25:03.047321Z",
     "shell.execute_reply": "2024-05-18T20:25:03.045962Z",
     "shell.execute_reply.started": "2024-05-18T20:24:56.931789Z"
    },
    "trusted": true
   },
   "outputs": [],
   "source": [
    "# Load a pre-trained sentence transformer model\n",
    "model = SentenceTransformer(\"all-MiniLM-L6-v2\")\n",
    "\n",
    "# Create an input example DataFrame\n",
    "input_example = [\"Something I want to find matches for.\"]\n",
    "\n",
    "# Save the model in the /tmp directory\n",
    "model_directory = \"/kaggle/working/mlruns/search_model\"\n",
    "model.save(model_directory)\n",
    "\n",
    "artifacts = {\"model_path\": model_directory, \"corpus_file\": corpus_file}\n",
    "\n",
    "# Generate test output for signature\n",
    "test_output = [\"match 1\", \"match 2\", \"match 3\"]\n",
    "\n",
    "# Define the signature associated with the model\n",
    "signature = infer_signature(\n",
    "    input_example, test_output, params={\"top_k\": 3, \"minimum_relevancy\": 0.2}\n",
    ")\n",
    "\n",
    "# Visualize the signature\n",
    "signature"
   ]
  },
  {
   "cell_type": "code",
   "execution_count": null,
   "metadata": {
    "execution": {
     "iopub.execute_input": "2024-05-18T20:25:09.828110Z",
     "iopub.status.busy": "2024-05-18T20:25:09.826604Z",
     "iopub.status.idle": "2024-05-18T20:25:10.166723Z",
     "shell.execute_reply": "2024-05-18T20:25:10.165479Z",
     "shell.execute_reply.started": "2024-05-18T20:25:09.828054Z"
    },
    "trusted": true
   },
   "outputs": [],
   "source": [
    "mlflow.set_tracking_uri(\"http://127.0.0.1:5000\")\n",
    "\n",
    "mlflow.set_experiment(\"Semantic Similarity\")"
   ]
  },
  {
   "cell_type": "code",
   "execution_count": null,
   "metadata": {
    "execution": {
     "iopub.execute_input": "2024-05-18T20:26:33.001408Z",
     "iopub.status.busy": "2024-05-18T20:26:33.001033Z",
     "iopub.status.idle": "2024-05-18T20:26:40.011387Z",
     "shell.execute_reply": "2024-05-18T20:26:40.009963Z",
     "shell.execute_reply.started": "2024-05-18T20:26:33.001377Z"
    },
    "trusted": true
   },
   "outputs": [],
   "source": [
    "from datetime import datetime\n",
    "import pandas as pd\n",
    "name = \"Semantic_Similarity_\" +datetime.now().strftime(\"%Y-%m-%d_%H:%M:%S\")\n",
    "with mlflow.start_run(run_name = name) as run:\n",
    "    model_info = mlflow.pyfunc.log_model(\n",
    "        \"semantic_search\",\n",
    "        python_model=SemanticSearchModel(),\n",
    "        input_example=input_example,\n",
    "        signature=signature,\n",
    "        artifacts=artifacts,\n",
    "        pip_requirements=[\"sentence_transformers\", \"numpy\"],\n",
    "    )"
   ]
  },
  {
   "cell_type": "code",
   "execution_count": null,
   "metadata": {
    "execution": {
     "iopub.execute_input": "2024-05-18T20:27:37.443194Z",
     "iopub.status.busy": "2024-05-18T20:27:37.442727Z",
     "iopub.status.idle": "2024-05-18T20:27:37.453771Z",
     "shell.execute_reply": "2024-05-18T20:27:37.452006Z",
     "shell.execute_reply.started": "2024-05-18T20:27:37.443160Z"
    },
    "trusted": true
   },
   "outputs": [],
   "source": [
    "model_info.model_uri"
   ]
  },
  {
   "cell_type": "code",
   "execution_count": null,
   "metadata": {
    "execution": {
     "iopub.execute_input": "2024-05-18T20:27:52.030564Z",
     "iopub.status.busy": "2024-05-18T20:27:52.030058Z",
     "iopub.status.idle": "2024-05-18T20:27:59.176508Z",
     "shell.execute_reply": "2024-05-18T20:27:59.174976Z",
     "shell.execute_reply.started": "2024-05-18T20:27:52.030527Z"
    },
    "trusted": true
   },
   "outputs": [],
   "source": [
    "loaded_dynamic = mlflow.pyfunc.load_model(model_info.model_uri)\n",
    "\n",
    "# Make sure that it generates a reasonable output\n",
    "loaded_dynamic.predict([\"I'd like some ideas for a meal to cook.\"], params={\"top_k\": 4, \"minimum_relevancy\": 0.25})"
   ]
  },
  {
   "cell_type": "code",
   "execution_count": null,
   "metadata": {
    "execution": {
     "iopub.execute_input": "2024-05-18T20:28:42.796605Z",
     "iopub.status.busy": "2024-05-18T20:28:42.796154Z",
     "iopub.status.idle": "2024-05-18T20:28:42.865951Z",
     "shell.execute_reply": "2024-05-18T20:28:42.864432Z",
     "shell.execute_reply.started": "2024-05-18T20:28:42.796572Z"
    },
    "trusted": true
   },
   "outputs": [],
   "source": [
    "loaded_dynamic.predict(\n",
    "    [\"Latest stories on computing\"], params={\"top_k\": 10, \"minimum_relevancy\": 0.4}\n",
    ")"
   ]
  },
  {
   "cell_type": "markdown",
   "metadata": {},
   "source": [
    "# Advanced Paraphrase Mining with Sentence Transformers and MLflow\n"
   ]
  },
  {
   "cell_type": "code",
   "execution_count": null,
   "metadata": {
    "execution": {
     "iopub.execute_input": "2024-05-18T20:29:51.278830Z",
     "iopub.status.busy": "2024-05-18T20:29:51.278273Z",
     "iopub.status.idle": "2024-05-18T20:29:51.300829Z",
     "shell.execute_reply": "2024-05-18T20:29:51.299385Z",
     "shell.execute_reply.started": "2024-05-18T20:29:51.278791Z"
    },
    "trusted": true
   },
   "outputs": [],
   "source": [
    "import warnings\n",
    "from typing import List\n",
    "\n",
    "class ParaphraseMiningModel(PythonModel):\n",
    "    def load_context(self, context):\n",
    "        \"\"\"Load the model context for inference, including the customer feedback corpus.\"\"\"\n",
    "        try:\n",
    "            # Load the pre-trained sentence transformer model\n",
    "            self.model = SentenceTransformer.load(context.artifacts[\"model_path\"])\n",
    "\n",
    "            # Load the customer feedback corpus from the specified file\n",
    "            corpus_file = context.artifacts[\"corpus_file\"]\n",
    "            with open(corpus_file) as file:\n",
    "                self.corpus = file.read().splitlines()\n",
    "\n",
    "        except Exception as e:\n",
    "            raise ValueError(f\"Error loading model and corpus: {e}\")\n",
    "\n",
    "    def _sort_and_filter_matches(\n",
    "        self, query: str, paraphrase_pairs: List[tuple], similarity_threshold: float\n",
    "    ):\n",
    "        \"\"\"Sort and filter the matches by similarity score.\"\"\"\n",
    "\n",
    "        # Convert to list of tuples and sort by score\n",
    "        sorted_matches = sorted(paraphrase_pairs, key=lambda x: x[1], reverse=True)\n",
    "\n",
    "        # Filter and collect paraphrases for the query, avoiding duplicates\n",
    "        query_paraphrases = {}\n",
    "        for score, i, j in sorted_matches:\n",
    "            if score < similarity_threshold:\n",
    "                continue\n",
    "\n",
    "            paraphrase = self.corpus[j] if self.corpus[i] == query else self.corpus[i]\n",
    "            if paraphrase == query:\n",
    "                continue\n",
    "\n",
    "            if paraphrase not in query_paraphrases or score > query_paraphrases[paraphrase]:\n",
    "                query_paraphrases[paraphrase] = score\n",
    "\n",
    "        return sorted(query_paraphrases.items(), key=lambda x: x[1], reverse=True)\n",
    "\n",
    "    def predict(self, context, model_input, params=None):\n",
    "        \"\"\"Predict method to perform paraphrase mining over the corpus.\"\"\"\n",
    "\n",
    "        # Validate and extract the query input\n",
    "        if isinstance(model_input, pd.DataFrame):\n",
    "            if model_input.shape[1] != 1:\n",
    "                raise ValueError(\"DataFrame input must have exactly one column.\")\n",
    "            query = model_input.iloc[0, 0]\n",
    "        elif isinstance(model_input, dict):\n",
    "            query = model_input.get(\"query\")\n",
    "            if query is None:\n",
    "                raise ValueError(\"The input dictionary must have a key named 'query'.\")\n",
    "        else:\n",
    "            raise TypeError(\n",
    "                f\"Unexpected type for model_input: {type(model_input)}. Must be either a Dict or a DataFrame.\"\n",
    "            )\n",
    "\n",
    "        # Determine the minimum similarity threshold\n",
    "        similarity_threshold = params.get(\"similarity_threshold\", 0.5) if params else 0.5\n",
    "\n",
    "        # Add the query to the corpus for paraphrase mining\n",
    "        extended_corpus = self.corpus + [query]\n",
    "\n",
    "        # Perform paraphrase mining\n",
    "        paraphrase_pairs = util.paraphrase_mining(\n",
    "            self.model, extended_corpus, show_progress_bar=False\n",
    "        )\n",
    "\n",
    "        # Convert to list of tuples and sort by score\n",
    "        sorted_paraphrases = self._sort_and_filter_matches(\n",
    "            query, paraphrase_pairs, similarity_threshold\n",
    "        )\n",
    "\n",
    "        # Warning if no paraphrases found\n",
    "        if not sorted_paraphrases:\n",
    "            warnings.warn(\"No paraphrases found above the similarity threshold.\", UserWarning)\n",
    "\n",
    "        return {sentence[0]: str(sentence[1]) for sentence in sorted_paraphrases}"
   ]
  },
  {
   "cell_type": "code",
   "execution_count": null,
   "metadata": {
    "execution": {
     "iopub.execute_input": "2024-05-18T20:29:54.544205Z",
     "iopub.status.busy": "2024-05-18T20:29:54.543703Z",
     "iopub.status.idle": "2024-05-18T20:29:54.558506Z",
     "shell.execute_reply": "2024-05-18T20:29:54.557530Z",
     "shell.execute_reply.started": "2024-05-18T20:29:54.544169Z"
    },
    "trusted": true
   },
   "outputs": [],
   "source": [
    "corpus = [\n",
    "    \"Exploring ancient cities in Europe offers a glimpse into history.\",\n",
    "    \"Modern AI technologies are revolutionizing industries.\",\n",
    "    \"Healthy eating contributes significantly to overall well-being.\",\n",
    "    \"Advancements in renewable energy are combating climate change.\",\n",
    "    \"Learning a new language opens doors to different cultures.\",\n",
    "    \"Gardening is a relaxing hobby that connects you with nature.\",\n",
    "    \"Blockchain technology could redefine digital transactions.\",\n",
    "    \"Homemade Italian pasta is a delight to cook and eat.\",\n",
    "    \"Practicing yoga daily improves both physical and mental health.\",\n",
    "    \"The art of photography captures moments in time.\",\n",
    "    \"Baking bread at home has become a popular quarantine activity.\",\n",
    "    \"Virtual reality is creating new experiences in gaming.\",\n",
    "    \"Sustainable travel is becoming a priority for eco-conscious tourists.\",\n",
    "    \"Reading books is a great way to unwind and learn.\",\n",
    "    \"Jazz music provides a rich tapestry of sound and rhythm.\",\n",
    "    \"Marathon training requires discipline and perseverance.\",\n",
    "    \"Studying the stars helps us understand our universe.\",\n",
    "    \"The rise of electric cars is an important environmental development.\",\n",
    "    \"Documentary films offer deep insights into real-world issues.\",\n",
    "    \"Crafting DIY projects can be both fun and rewarding.\",\n",
    "    \"The history of ancient civilizations is fascinating to explore.\",\n",
    "    \"Exploring the depths of the ocean reveals a world of marine wonders.\",\n",
    "    \"Learning to play a musical instrument can be a rewarding challenge.\",\n",
    "    \"Artificial intelligence is shaping the future of personalized medicine.\",\n",
    "    \"Cycling is not only a great workout but also eco-friendly transportation.\",\n",
    "    \"Home automation with IoT devices is enhancing living experiences.\",\n",
    "    \"Understanding quantum computing requires a grasp of complex physics.\",\n",
    "    \"A well-brewed cup of coffee is the perfect start to the day.\",\n",
    "    \"Urban farming is gaining popularity as a sustainable food source.\",\n",
    "    \"Meditation and mindfulness can lead to a more balanced life.\",\n",
    "    \"The popularity of podcasts has revolutionized audio storytelling.\",\n",
    "    \"Space exploration continues to push the boundaries of human knowledge.\",\n",
    "    \"Wildlife conservation is essential for maintaining biodiversity.\",\n",
    "    \"The fusion of technology and fashion is creating new trends.\",\n",
    "    \"E-learning platforms have transformed the educational landscape.\",\n",
    "    \"Dark chocolate has surprising health benefits when enjoyed in moderation.\",\n",
    "    \"Robotics in manufacturing is leading to more efficient production.\",\n",
    "    \"Creating a personal budget is key to financial well-being.\",\n",
    "    \"Hiking in nature is a great way to connect with the outdoors.\",\n",
    "    \"3D printing is innovating the way we create and manufacture objects.\",\n",
    "    \"Sommeliers can identify a wine's characteristics with just a taste.\",\n",
    "    \"Mind-bending puzzles and riddles are great for cognitive exercise.\",\n",
    "    \"Social media has a profound impact on communication and culture.\",\n",
    "    \"Urban sketching captures the essence of city life on paper.\",\n",
    "    \"The ethics of AI is a growing field in tech philosophy.\",\n",
    "    \"Homemade skincare remedies are becoming more popular.\",\n",
    "    \"Virtual travel experiences can provide a sense of adventure at home.\",\n",
    "    \"Ancient mythology still influences modern storytelling and literature.\",\n",
    "    \"Building model kits is a hobby that requires patience and precision.\",\n",
    "    \"The study of languages opens windows into different worldviews.\",\n",
    "    \"Professional esports has become a major global phenomenon.\",\n",
    "    \"The mysteries of the universe are unveiled through space missions.\",\n",
    "    \"Astronauts' experiences in space stations offer unique insights into life beyond Earth.\",\n",
    "    \"Telescopic observations bring distant galaxies within our view.\",\n",
    "    \"The study of celestial bodies helps us understand the cosmos.\",\n",
    "    \"Space travel advancements could lead to interplanetary exploration.\",\n",
    "    \"Observing celestial events provides valuable data for astronomers.\",\n",
    "    \"The development of powerful rockets is key to deep space exploration.\",\n",
    "    \"Mars rover missions are crucial in searching for extraterrestrial life.\",\n",
    "    \"Satellites play a vital role in our understanding of Earth's atmosphere.\",\n",
    "    \"Astrophysics is central to unraveling the secrets of space.\",\n",
    "    \"Zero gravity environments in space pose unique challenges and opportunities.\",\n",
    "    \"Space tourism might soon become a reality for many.\",\n",
    "    \"Lunar missions have contributed significantly to our knowledge of the moon.\",\n",
    "    \"The International Space Station is a hub for groundbreaking space research.\",\n",
    "    \"Studying comets and asteroids reveals information about the early solar system.\",\n",
    "    \"Advancements in space technology have implications for many scientific fields.\",\n",
    "    \"The possibility of life on other planets continues to intrigue scientists.\",\n",
    "    \"Black holes are among the most mysterious phenomena in space.\",\n",
    "    \"The history of space exploration is filled with remarkable achievements.\",\n",
    "    \"Future space missions could unlock the mysteries of dark matter.\",\n",
    "]\n",
    "\n",
    "# Write out the corpus to a file\n",
    "corpus_file = \"/kaggle/working/feedback.txt\"\n",
    "with open(corpus_file, \"w\") as file:\n",
    "    for sentence in corpus:\n",
    "        file.write(sentence + \"\\n\")"
   ]
  },
  {
   "cell_type": "code",
   "execution_count": null,
   "metadata": {
    "execution": {
     "iopub.execute_input": "2024-05-18T20:31:01.537860Z",
     "iopub.status.busy": "2024-05-18T20:31:01.537381Z",
     "iopub.status.idle": "2024-05-18T20:31:02.734838Z",
     "shell.execute_reply": "2024-05-18T20:31:02.733685Z",
     "shell.execute_reply.started": "2024-05-18T20:31:01.537828Z"
    },
    "trusted": true
   },
   "outputs": [],
   "source": [
    "# Load a pre-trained sentence transformer model\n",
    "model = SentenceTransformer(\"all-MiniLM-L6-v2\")\n",
    "\n",
    "# Create an input example DataFrame\n",
    "input_example = pd.DataFrame({\"query\": [\"This product works well. I'm satisfied.\"]})\n",
    "\n",
    "# Save the model in the /tmp directory\n",
    "model_directory = \"/kaggle/working/paraphrase_search_model\"\n",
    "model.save(model_directory)\n",
    "\n",
    "# Define the path for the corpus file\n",
    "corpus_file = \"/kaggle/working/feedback.txt\"\n",
    "\n",
    "# Define the artifacts (paths to the model and corpus file)\n",
    "artifacts = {\"model_path\": model_directory, \"corpus_file\": corpus_file}\n",
    "\n",
    "# Generate test output for signature\n",
    "# Sample output for paraphrase mining could be a list of tuples (paraphrase, score)\n",
    "test_output = [{\"This product is satisfactory and functions as expected.\": \"0.8\"}]\n",
    "\n",
    "# Define the signature associated with the model\n",
    "# The signature includes the structure of the input and the expected output, as well as any parameters that\n",
    "# we would like to expose for overriding at inference time (including their default values if they are not overridden).\n",
    "signature = infer_signature(\n",
    "    model_input=input_example, model_output=test_output, params={\"similarity_threshold\": 0.5}\n",
    ")\n",
    "\n",
    "# Visualize the signature, showing our overridden inference parameter and its default.\n",
    "signature"
   ]
  },
  {
   "cell_type": "code",
   "execution_count": null,
   "metadata": {
    "execution": {
     "iopub.execute_input": "2024-05-18T20:31:09.342137Z",
     "iopub.status.busy": "2024-05-18T20:31:09.341720Z",
     "iopub.status.idle": "2024-05-18T20:31:09.386199Z",
     "shell.execute_reply": "2024-05-18T20:31:09.384793Z",
     "shell.execute_reply.started": "2024-05-18T20:31:09.342103Z"
    },
    "trusted": true
   },
   "outputs": [],
   "source": [
    "# Set experiment\n",
    "mlflow.set_experiment(\"Paraphrase Mining\")"
   ]
  },
  {
   "cell_type": "code",
   "execution_count": null,
   "metadata": {
    "execution": {
     "iopub.execute_input": "2024-05-18T20:31:13.437606Z",
     "iopub.status.busy": "2024-05-18T20:31:13.437096Z",
     "iopub.status.idle": "2024-05-18T20:31:15.785061Z",
     "shell.execute_reply": "2024-05-18T20:31:15.783536Z",
     "shell.execute_reply.started": "2024-05-18T20:31:13.437566Z"
    },
    "trusted": true
   },
   "outputs": [],
   "source": [
    "name = \"Paraphrase_Mining_\" +datetime.now().strftime(\"%Y-%m-%d_%H:%M:%S\")\n",
    "with mlflow.start_run(run_name = name) as run:\n",
    "    model_info = mlflow.pyfunc.log_model(\n",
    "        \"paraphrase_model\",\n",
    "        python_model=ParaphraseMiningModel(),\n",
    "        input_example=input_example,\n",
    "        signature=signature,\n",
    "        artifacts=artifacts,\n",
    "        pip_requirements=[\"sentence_transformers\"],\n",
    "    )"
   ]
  },
  {
   "cell_type": "code",
   "execution_count": null,
   "metadata": {
    "execution": {
     "iopub.execute_input": "2024-05-18T20:32:06.994689Z",
     "iopub.status.busy": "2024-05-18T20:32:06.994096Z",
     "iopub.status.idle": "2024-05-18T20:32:13.686476Z",
     "shell.execute_reply": "2024-05-18T20:32:13.685183Z",
     "shell.execute_reply.started": "2024-05-18T20:32:06.994653Z"
    },
    "trusted": true
   },
   "outputs": [],
   "source": [
    "loaded_dynamic = mlflow.pyfunc.load_model(model_info.model_uri)\n",
    "\n",
    "# Perform a quick validation that our loaded model is performing adequately\n",
    "loaded_dynamic.predict(\n",
    "    {\"query\": \"Space exploration is fascinating.\"}, params={\"similarity_threshold\": 0.65}\n",
    ")"
   ]
  }
 ],
 "metadata": {
  "kernelspec": {
   "display_name": "Python 3",
   "language": "python",
   "name": "python3"
  },
  "language_info": {
   "codemirror_mode": {
    "name": "ipython",
    "version": 3
   },
   "file_extension": ".py",
   "mimetype": "text/x-python",
   "name": "python",
   "nbconvert_exporter": "python",
   "pygments_lexer": "ipython3",
   "version": "3.10.13"
  }
 },
 "nbformat": 4,
 "nbformat_minor": 4
}
