{
  "cells": [
    {
      "cell_type": "markdown",
      "metadata": {
        "colab_type": "text",
        "id": "view-in-github"
      },
      "source": [
        "<a href=\"https://colab.research.google.com/github/olonok69/LLM_Notebooks/blob/main/mlflow/custom/FineTuned_Vit_save_to_MLFLOW.ipynb\" target=\"_parent\"><img src=\"https://colab.research.google.com/assets/colab-badge.svg\" alt=\"Open In Colab\"/></a>"
      ]
    },
    {
      "cell_type": "markdown",
      "metadata": {
        "id": "icBzRcgcWOoq"
      },
      "source": [
        "# ViT Transformer\n",
        "\n",
        "The Vision Transformer (ViT) is a transformer encoder model (BERT-like) pretrained on a large collection of images in a supervised fashion, namely ImageNet-21k, at a resolution of 224x224 pixels.\n",
        "\n",
        "Images are presented to the model as a sequence of fixed-size patches (resolution 16x16), which are linearly embedded. One also adds a [CLS] token to the beginning of a sequence to use it for classification tasks. One also adds absolute position embeddings before feeding the sequence to the layers of the Transformer encoder.\n",
        "\n",
        "Note that this model does not provide any fine-tuned heads, as these were zero'd by Google researchers. However, the model does include the pre-trained pooler, which can be used for downstream tasks (such as image classification).\n",
        "\n",
        "By pre-training the model, it learns an inner representation of images that can then be used to extract features useful for downstream tasks: if you have a dataset of labeled images for instance, you can train a standard classifier by placing a linear layer on top of the pre-trained encoder. One typically places a linear layer on top of the [CLS] token, as the last hidden state of this token can be seen as a representation of an entire image.\n",
        "\n",
        "\n",
        "https://huggingface.co/google/vit-base-patch16-224-in21k\n",
        "\n",
        "\n",
        "###Paper\n",
        "https://arxiv.org/pdf/2010.11929\n",
        "\n",
        "\n",
        "\n",
        "### Training data\n",
        "The ViT model was pretrained on ImageNet-21k, a dataset consisting of 14 million images and 21k classes. https://www.image-net.org/"
      ]
    },
    {
      "cell_type": "code",
      "execution_count": null,
      "metadata": {
        "colab": {
          "base_uri": "https://localhost:8080/"
        },
        "id": "uzu0R8y3oqj7",
        "outputId": "a7c0e21a-c756-4072-b7fe-c0a8eab51277"
      },
      "outputs": [],
      "source": [
        "from google.colab import drive\n",
        "drive.mount('/content/drive')"
      ]
    },
    {
      "cell_type": "code",
      "execution_count": null,
      "metadata": {
        "colab": {
          "base_uri": "https://localhost:8080/"
        },
        "id": "PNaQgd55pPCn",
        "outputId": "c7bbbe13-058c-4069-b800-0d167f2bd67c"
      },
      "outputs": [],
      "source": [
        "!pip install mlflow   optimum open_clip_torch --quiet\n",
        "\n",
        "! pip install psutil pynvml -q"
      ]
    },
    {
      "cell_type": "code",
      "execution_count": null,
      "metadata": {
        "colab": {
          "base_uri": "https://localhost:8080/"
        },
        "id": "_4BthcQkpsWX",
        "outputId": "dbc79850-838c-461d-97a3-3451479869a1"
      },
      "outputs": [],
      "source": [
        "# Transformers installation\n",
        "\n",
        "! pip install transformers[torch] -q\n",
        "! pip install accelerate -U -q\n",
        "# To install from source instead of the last release, comment the command above and uncomment the following one.\n",
        "# ! pip install git+https://github.com/huggingface/transformers.git"
      ]
    },
    {
      "cell_type": "code",
      "execution_count": null,
      "metadata": {
        "colab": {
          "base_uri": "https://localhost:8080/"
        },
        "id": "L4A5Y9YtWfjI",
        "outputId": "1a3593a0-4985-4236-8ae5-69f6573992ad"
      },
      "outputs": [],
      "source": [
        "! pip install onnxruntime -q\n",
        "! pip install optimum[onnxruntime] -q"
      ]
    },
    {
      "cell_type": "code",
      "execution_count": null,
      "metadata": {
        "id": "u8yHXLQyCeVJ"
      },
      "outputs": [],
      "source": [
        "path_model =\"/content/drive/MyDrive/models/nsfw_pytorch\""
      ]
    },
    {
      "cell_type": "code",
      "execution_count": null,
      "metadata": {
        "id": "taUuIbADpcaR"
      },
      "outputs": [],
      "source": [
        "from google.colab import userdata\n",
        "\n",
        "from transformers import ViTImageProcessor, ViTForImageClassification\n",
        "import os\n",
        "import sys\n",
        "import platform\n",
        "from PIL import Image"
      ]
    },
    {
      "cell_type": "code",
      "execution_count": null,
      "metadata": {
        "id": "CicPfY0RrsR2"
      },
      "outputs": [],
      "source": [
        "\n",
        "\n",
        "from datasets import load_dataset\n",
        "from functools import partial\n",
        "import os\n",
        "\n",
        "import torch\n",
        "from transformers import AutoModelForCausalLM, AutoTokenizer, set_seed, Trainer, TrainingArguments, BitsAndBytesConfig, \\\n",
        "    DataCollatorForLanguageModeling, Trainer, TrainingArguments\n",
        "from datasets import load_dataset\n",
        "from torch import cuda, bfloat16\n",
        "import transformers\n",
        "import openai\n",
        "\n",
        "import torch.nn as nn\n",
        "from google.colab import userdata\n",
        "import mlflow\n",
        "import numpy as np"
      ]
    },
    {
      "cell_type": "code",
      "execution_count": null,
      "metadata": {
        "id": "K7vZHAW_sdrj"
      },
      "outputs": [],
      "source": [
        "\n",
        "from google.colab import output\n",
        "output.enable_custom_widget_manager()\n",
        "\n",
        "from transformers.utils import logging\n",
        "from transformers import pipeline"
      ]
    },
    {
      "cell_type": "code",
      "execution_count": null,
      "metadata": {
        "id": "Gvyw8-W7wJkd"
      },
      "outputs": [],
      "source": [
        "logging.set_verbosity_error()\n",
        "\n",
        "os.environ[\"TRANSFORMERS_VERBOSITY\"] = \"error\""
      ]
    },
    {
      "cell_type": "code",
      "execution_count": null,
      "metadata": {
        "colab": {
          "base_uri": "https://localhost:8080/",
          "height": 35
        },
        "id": "i4BfxrozshY3",
        "outputId": "75648d2f-96b3-49c8-a5ab-67c241209aba"
      },
      "outputs": [],
      "source": [
        "\n",
        "\n",
        "device = f'cuda:{cuda.current_device()}' if cuda.is_available() else 'cpu'\n",
        "device\n"
      ]
    },
    {
      "cell_type": "code",
      "execution_count": null,
      "metadata": {
        "id": "iQMCpdWkuu1Q"
      },
      "outputs": [],
      "source": [
        "MLFLOW_TRACKING_URI=\"databricks\"\n",
        "# Specify the workspace hostname and token\n",
        "DATABRICKS_HOST=\"https://adb-2467347032368999.19.azuredatabricks.net/\"\n",
        "DATABRICKS_TOKEN=userdata.get('DATABRCKS_TTOKEN')"
      ]
    },
    {
      "cell_type": "code",
      "execution_count": null,
      "metadata": {
        "id": "zUweE6gbuyYI"
      },
      "outputs": [],
      "source": [
        "\n",
        "\n",
        "if \"MLFLOW_TRACKING_URI\" not in os.environ:\n",
        "    os.environ[\"MLFLOW_TRACKING_URI\"] = MLFLOW_TRACKING_URI\n",
        "if \"DATABRICKS_HOST\" not in os.environ:\n",
        "    os.environ[\"DATABRICKS_HOST\"] = DATABRICKS_HOST\n",
        "if \"DATABRICKS_TOKEN\" not in os.environ:\n",
        "    os.environ[\"DATABRICKS_TOKEN\"] = DATABRICKS_TOKEN"
      ]
    },
    {
      "cell_type": "code",
      "execution_count": null,
      "metadata": {
        "id": "qbn0XCE3vm9U"
      },
      "outputs": [],
      "source": [
        "mlflow.set_tracking_uri(MLFLOW_TRACKING_URI)"
      ]
    },
    {
      "cell_type": "code",
      "execution_count": null,
      "metadata": {
        "colab": {
          "base_uri": "https://localhost:8080/"
        },
        "id": "X9Wk76w6vowx",
        "outputId": "6a2490e9-8ba6-40fb-ef43-d7f4ab99b88b"
      },
      "outputs": [],
      "source": [
        "\n",
        "mlflow.set_experiment(\"/Users/pepe@kk.com/nsfw_pytorch\")\n"
      ]
    },
    {
      "cell_type": "code",
      "execution_count": null,
      "metadata": {
        "id": "zegpmMnFvrtV"
      },
      "outputs": [],
      "source": [
        "mlflow.end_run()"
      ]
    },
    {
      "cell_type": "code",
      "execution_count": null,
      "metadata": {
        "id": "LF_PrlqXDq2J"
      },
      "outputs": [],
      "source": [
        "\n",
        "processor = ViTImageProcessor.from_pretrained(path_model)\n",
        "model = ViTForImageClassification.from_pretrained(path_model)\n",
        "model = model.to(device)"
      ]
    },
    {
      "cell_type": "code",
      "execution_count": null,
      "metadata": {
        "id": "zvUjNxw_wKAQ"
      },
      "outputs": [],
      "source": [
        "image_path = \"/content/drive/MyDrive/data/beach.jpg\"\n",
        "image = Image.open(image_path).convert(\"RGB\")"
      ]
    },
    {
      "cell_type": "code",
      "execution_count": null,
      "metadata": {
        "colab": {
          "base_uri": "https://localhost:8080/"
        },
        "id": "TDDGeiRNJQJb",
        "outputId": "6392c737-e1c1-462c-930c-9649878bbb77"
      },
      "outputs": [],
      "source": [
        "np.array(image).shape"
      ]
    },
    {
      "cell_type": "code",
      "execution_count": null,
      "metadata": {
        "colab": {
          "base_uri": "https://localhost:8080/",
          "height": 399
        },
        "id": "w0gjTkd2p6O1",
        "outputId": "8c4c2939-c714-4a55-eb06-0ad337a9ad0b"
      },
      "outputs": [],
      "source": [
        "np.array(image)"
      ]
    },
    {
      "cell_type": "code",
      "execution_count": null,
      "metadata": {
        "id": "NxB2wzpNGJdU"
      },
      "outputs": [],
      "source": [
        "pipe = pipeline( model=model, image_processor=processor, task= \"image-classification\")"
      ]
    },
    {
      "cell_type": "code",
      "execution_count": null,
      "metadata": {
        "colab": {
          "base_uri": "https://localhost:8080/"
        },
        "id": "SNZEDvWrGJUx",
        "outputId": "d0a17b9c-1df8-46be-a02f-c5256595579c"
      },
      "outputs": [],
      "source": [
        "pipe.predict(image.resize((224, 224)))"
      ]
    },
    {
      "cell_type": "code",
      "execution_count": null,
      "metadata": {
        "colab": {
          "base_uri": "https://localhost:8080/",
          "height": 35
        },
        "id": "c8uhvPwaHNkS",
        "outputId": "250616c3-e416-4a42-826e-da968af07443"
      },
      "outputs": [],
      "source": [
        "transformers.__version__"
      ]
    },
    {
      "cell_type": "code",
      "execution_count": null,
      "metadata": {
        "id": "TCL2a1iVZtSP"
      },
      "outputs": [],
      "source": [
        "from optimum.onnxruntime import ORTModelForSeq2SeqLM\n",
        "from optimum.onnxruntime import ORTQuantizer\n",
        "from optimum.pipelines import pipeline\n",
        "import mlflow\n",
        "from mlflow.models.signature import infer_signature\n",
        "from mlflow.pyfunc import PythonModel\n",
        "import pprint"
      ]
    },
    {
      "cell_type": "code",
      "execution_count": null,
      "metadata": {
        "colab": {
          "base_uri": "https://localhost:8080/"
        },
        "id": "P7rAK6zPO5o5",
        "outputId": "d407e53c-394a-4816-9244-640ac134b3a0"
      },
      "outputs": [],
      "source": [
        "pipe.predict(Image.fromarray(np.array(image.resize((224, 224)))))"
      ]
    },
    {
      "cell_type": "code",
      "execution_count": null,
      "metadata": {
        "colab": {
          "base_uri": "https://localhost:8080/"
        },
        "id": "RRR4jCd3J2se",
        "outputId": "8c1811e1-063d-4775-f9d2-a262be7a964d"
      },
      "outputs": [],
      "source": [
        "from mlflow.models import infer_signature\n",
        "\n",
        "model_output= [{'label': 'neutral', 'score': 0.9923934936523438},\n",
        " {'label': 'drawings', 'score': 0.3168586194515228},\n",
        " {'label': 'sexy', 'score': 0.27099496126174927},\n",
        " {'label': 'porn', 'score': 0.22660772502422333},\n",
        " {'label': 'hentai', 'score': 0.13095062971115112}]\n",
        "infer_signature(model_input=np.array(image.resize((224, 224))),model_output=model_output)"
      ]
    },
    {
      "cell_type": "code",
      "execution_count": null,
      "metadata": {
        "id": "1yu3PNQif6rW"
      },
      "outputs": [],
      "source": [
        "class NSFW_Classifier(PythonModel):\n",
        "  def load_context(self, context):\n",
        "        \"\"\"\n",
        "        This method initializes the tokenizer and language model\n",
        "        using the specified model snapshot directory.\n",
        "        \"\"\"\n",
        "\n",
        "        from transformers import ViTImageProcessor, ViTForImageClassification\n",
        "        from transformers import pipeline\n",
        "        from PIL import Image\n",
        "        import torch\n",
        "\n",
        "\n",
        "        self.model = ViTForImageClassification.from_pretrained(context.artifacts[\"snapshot\"])\n",
        "        self.tokenizer = ViTImageProcessor.from_pretrained(context.artifacts[\"snapshot\"])\n",
        "        self.pipe = pipeline( model=self.model, image_processor=self.tokenizer, task= \"image-classification\")\n",
        "\n",
        "\n",
        "  def predict(self, context, model_input, params=None):\n",
        "        \"\"\"\n",
        "        This method generates prediction for the given input.\n",
        "        \"\"\"\n",
        "        path_image = model_input[\"path_image\"]\n",
        "        image = Image.open(image_path).convert(\"RGB\")\n",
        "        result = self.pipe.predict(image)\n",
        "        return result\n"
      ]
    },
    {
      "cell_type": "code",
      "execution_count": null,
      "metadata": {
        "id": "oS5NYOkOf6jq"
      },
      "outputs": [],
      "source": [
        "import numpy as np\n",
        "import pandas as pd\n",
        "\n",
        "import mlflow\n",
        "from mlflow.models.signature import ModelSignature\n",
        "from mlflow.types import ColSpec, DataType, ParamSchema, ParamSpec, Schema\n",
        "\n",
        "from mlflow.models import infer_signature\n",
        "\n",
        "model_output= [{'label': 'neutral', 'score': 0.9923934936523438},\n",
        " {'label': 'drawings', 'score': 0.3168586194515228},\n",
        " {'label': 'sexy', 'score': 0.27099496126174927},\n",
        " {'label': 'porn', 'score': 0.22660772502422333},\n",
        " {'label': 'hentai', 'score': 0.13095062971115112}]\n",
        "\n",
        "model_input= \"/content/drive/MyDrive/data/beach.jpg\"\n",
        "\n",
        "signature = infer_signature(model_input=model_input,model_output=model_output)\n",
        "\n",
        "\n",
        "\n",
        "# Define input example\n",
        "input_example = {\"path_image\":\"/content/drive/MyDrive/data/beach.jpg\"}"
      ]
    },
    {
      "cell_type": "code",
      "execution_count": null,
      "metadata": {
        "colab": {
          "base_uri": "https://localhost:8080/"
        },
        "id": "O6EC9vtaRWOt",
        "outputId": "bb95ee73-0efc-4415-8c8f-48fbd2b49873"
      },
      "outputs": [],
      "source": [
        "signature"
      ]
    },
    {
      "cell_type": "code",
      "execution_count": null,
      "metadata": {
        "colab": {
          "base_uri": "https://localhost:8080/"
        },
        "id": "3nFDU-ahRYyV",
        "outputId": "897b6660-5b29-4117-e801-faecf5470b3d"
      },
      "outputs": [],
      "source": [
        "input_example"
      ]
    },
    {
      "cell_type": "code",
      "execution_count": null,
      "metadata": {
        "colab": {
          "base_uri": "https://localhost:8080/",
          "height": 35
        },
        "id": "YWxQ4DtDuqtu",
        "outputId": "8b3b28ad-2a6f-43d6-bc60-aaf6e579daf6"
      },
      "outputs": [],
      "source": [
        "import datetime\n",
        "now = datetime.datetime.now()\n",
        "now.strftime(\"%Y-%m-%d_%H:%M:%S\")"
      ]
    },
    {
      "cell_type": "code",
      "execution_count": null,
      "metadata": {
        "id": "9ImpbVJ68WVd"
      },
      "outputs": [],
      "source": [
        "# Get the current base version of torch that is installed, without specific version modifiers\n",
        "torch_version = torch.__version__.split(\"+\")[0]"
      ]
    },
    {
      "cell_type": "code",
      "execution_count": null,
      "metadata": {
        "colab": {
          "base_uri": "https://localhost:8080/",
          "height": 413,
          "referenced_widgets": [
            "8522168f2d4240cd99f056588fc70070",
            "6f7f3f7b8e174cf2bb518d9fadd0ecf6",
            "2cd2c6e8d7164668a753b92996f9aaf8",
            "5b089fd6f499484b94019ed94561b405",
            "6d6c51a4408c443dbd0cf61683cc603a",
            "a7ce3753da5449b3bed17eebeb987cc2",
            "6f877c2950754d33947e2ae3efff0715",
            "1a8ffcf7da7041f3bddd0c627e6782e8",
            "59af6b75ed2b4d49a2e1da6a911d3ead",
            "217f686270d1477483cd41288194fab4",
            "2e3661531cf44063ab2818be910bfd4c",
            "8fb176dc716c48358b95b1b8c0df30fe",
            "f49839d20485456e8b495845812ff39c",
            "839197570fbc4ae4990b550e5e691d37",
            "9df7d1b76a184dad94d6d085ca09d1ff",
            "9d8aea2b157b4ac8b6864b93d46f3cd7",
            "7d221132fcf0441b9e68863b783ff7ea",
            "82c8eced386249ce88ec8f716c1aec2d",
            "ee82f26e19454efc973840d55b9552b8",
            "a791ca279f19463489668c97fe8925dc",
            "f5ecf9ced6de4d26af494939cbc5419f",
            "5271dac63be8434d94eed32274f875dd"
          ]
        },
        "id": "BXD5wuDXimyv",
        "outputId": "e654ea65-6d15-4c3f-d51b-5c2cf9425133"
      },
      "outputs": [],
      "source": [
        "\n",
        "# Start an MLflow run context and log the PHi3 model wrapper along with the param-included signature to\n",
        "# allow for overriding parameters at inference time\n",
        "now = datetime.datetime.now()\n",
        "\n",
        "description= \"\"\"Log NSFW fine tunned model with mlflow\"\"\"\n",
        "with mlflow.start_run(run_name=f\"nsfw_log_{now.strftime('%Y-%m-%d_%H:%M:%S')}\", description=description) as run:\n",
        "    model_info = mlflow.pyfunc.log_model(\n",
        "        \"nsfw_image_classification\",\n",
        "        python_model=NSFW_Classifier(),\n",
        "        # NOTE: the artifacts dictionary mapping is critical! This dict is used by the load_context() method in our PHi3() class.\n",
        "        artifacts={\"snapshot\": \"/content/drive/MyDrive/models/nsfw_pytorch\"},\n",
        "\n",
        "        pip_requirements=[\n",
        "            f\"torch=={torch_version}\",\n",
        "            f\"transformers=={transformers.__version__}\",\n",
        "            \"pillow\",\n",
        "\n",
        "\n",
        "        ],\n",
        "        input_example=input_example,\n",
        "        signature=signature,\n",
        "    )"
      ]
    },
    {
      "cell_type": "code",
      "execution_count": null,
      "metadata": {
        "colab": {
          "base_uri": "https://localhost:8080/"
        },
        "id": "Fo31rdE5wwHj",
        "outputId": "dbbfa232-12d7-4c65-d6ec-a108e138a1db"
      },
      "outputs": [],
      "source": [
        "run.to_dictionary()"
      ]
    },
    {
      "cell_type": "code",
      "execution_count": null,
      "metadata": {
        "colab": {
          "base_uri": "https://localhost:8080/",
          "height": 35
        },
        "id": "7ni3ZzBVimvh",
        "outputId": "bdd50125-973c-4578-c6e6-2c39f97c56db"
      },
      "outputs": [],
      "source": [
        "\n",
        "model_info.model_uri"
      ]
    },
    {
      "cell_type": "code",
      "execution_count": null,
      "metadata": {
        "colab": {
          "base_uri": "https://localhost:8080/",
          "height": 49,
          "referenced_widgets": [
            "3f87bddffd9b4ae6aa71f4b58ed53830",
            "b174e8e9dae045fe9d3cfd665c1e2b59",
            "d0db1a77595a433fa8bf54af21a37ff5",
            "93fdfa7fd1394ecd95d0edef8cd85614",
            "8da92f8aaa384a95b8e211c1a9c8e940",
            "c26ca388ac384f22a28ca94131c8c4a2",
            "369e5c606a0f4e608844feaa85da74ca",
            "96ce7a8aba3e41be9a77e7290c987cd4",
            "24472759809f405e8f8fe15e03f85956",
            "f8531de936524e81adb7ae6c8bf3774e",
            "9e851978e43b4c8fa61e44d1c5787d4e"
          ]
        },
        "id": "tts2Z4vjimdy",
        "outputId": "8949a59a-1d66-4f41-b75e-fd324879bdd2"
      },
      "outputs": [],
      "source": [
        "loaded_model = mlflow.pyfunc.load_model(model_info.model_uri)"
      ]
    },
    {
      "cell_type": "code",
      "execution_count": null,
      "metadata": {
        "colab": {
          "base_uri": "https://localhost:8080/"
        },
        "id": "Xy9Zm0RHpb15",
        "outputId": "9301ee05-3c4d-4e34-8275-52cb91b1c291"
      },
      "outputs": [],
      "source": [
        "loaded_model"
      ]
    },
    {
      "cell_type": "code",
      "execution_count": null,
      "metadata": {
        "colab": {
          "base_uri": "https://localhost:8080/"
        },
        "id": "Kx_SXW-ppzfr",
        "outputId": "d1f5ca80-536e-4ade-d840-98d9eccfcdbf"
      },
      "outputs": [],
      "source": [
        "\n",
        "time1=  datetime.datetime.now()\n",
        "response = loaded_model.predict({\"path_image\":\"/content/drive/MyDrive/data/beach.jpg\"})\n",
        "time2=  datetime.datetime.now()\n",
        "print(time2-time1)"
      ]
    },
    {
      "cell_type": "code",
      "execution_count": null,
      "metadata": {
        "colab": {
          "base_uri": "https://localhost:8080/"
        },
        "id": "1aaqfk4VpzXF",
        "outputId": "aa1f0b09-1339-4e24-a704-b94f8a2ab658"
      },
      "outputs": [],
      "source": [
        "\n",
        "pprint.pprint(response)"
      ]
    },
    {
      "cell_type": "code",
      "execution_count": null,
      "metadata": {
        "colab": {
          "base_uri": "https://localhost:8080/"
        },
        "id": "6nK4IVofaAxY",
        "outputId": "4311d471-64ee-457d-fa7b-51e8b402e87c"
      },
      "outputs": [],
      "source": [
        "result = mlflow.register_model(\n",
        "    model_info.model_uri, \"vit_nsfw\"\n",
        ")"
      ]
    },
    {
      "cell_type": "code",
      "execution_count": null,
      "metadata": {
        "id": "w9d-RG6fjpdq"
      },
      "outputs": [],
      "source": [
        "from mlflow import MlflowClient\n",
        "\n",
        "client = MlflowClient()"
      ]
    },
    {
      "cell_type": "code",
      "execution_count": null,
      "metadata": {
        "colab": {
          "base_uri": "https://localhost:8080/"
        },
        "id": "gMzquuDAaWeI",
        "outputId": "cb516b32-fd24-4ac0-c486-cc26ca706373"
      },
      "outputs": [],
      "source": [
        "client.get_model_version(name=\"vit_nsfw\", version=2)"
      ]
    },
    {
      "cell_type": "code",
      "execution_count": null,
      "metadata": {
        "colab": {
          "base_uri": "https://localhost:8080/",
          "height": 173,
          "referenced_widgets": [
            "537cc12c7e424de3b2da01649d221456",
            "afc66fbb64eb4752ad0fb4f6c83e3455",
            "b5d67c105403422d9955f822e98cf8d0",
            "7ce70fb7f2014975aafb396c2819f757",
            "91fa11e29eb24fe9a15ea62e569f88c5",
            "6d3701db6dea442da494b89fd5e93a09",
            "cca70bd2fbda4d2794b2d2e6695d4f14",
            "dbfd4a9ff6b64830926d5188ffe40f44",
            "e1bd11607b494b2d9dd423ddc325823a",
            "e192de06b3d64246bd9a35b08fd04fa8",
            "ab36e8f60e6747a5b5b7f63e0cb93214"
          ]
        },
        "id": "9ENan7waany8",
        "outputId": "8460e671-a442-49b7-8026-1a3686fe0e1e"
      },
      "outputs": [],
      "source": [
        "import mlflow.pyfunc\n",
        "\n",
        "model_name = \"vit_nsfw\"\n",
        "model_version = 2\n",
        "\n",
        "model = mlflow.pyfunc.load_model(model_uri=f\"models:/{model_name}/{model_version}\")\n",
        "\n",
        "model.predict({\"path_image\":\"/content/drive/MyDrive/data/beach.jpg\"})"
      ]
    },
    {
      "cell_type": "code",
      "execution_count": null,
      "metadata": {
        "colab": {
          "base_uri": "https://localhost:8080/",
          "height": 35
        },
        "id": "ecENSV77s5ti",
        "outputId": "824368c9-5ffc-4c49-8a5c-15b739de7d32"
      },
      "outputs": [],
      "source": [
        "f\"models:/{model_name}/{model_version}\""
      ]
    }
  ],
  "metadata": {
    "accelerator": "GPU",
    "colab": {
      "authorship_tag": "ABX9TyP4n97sGZ3pE85X/Mavhx2C",
      "gpuType": "T4",
      "include_colab_link": true,
      "machine_shape": "hm",
      "provenance": []
    },
    "kernelspec": {
      "display_name": "Python 3",
      "name": "python3"
    },
    "language_info": {
      "name": "python"
    },
    "widgets": {
      "application/vnd.jupyter.widget-state+json": {
        "1a8ffcf7da7041f3bddd0c627e6782e8": {
          "model_module": "@jupyter-widgets/base",
          "model_module_version": "1.2.0",
          "model_name": "LayoutModel",
          "state": {
            "_model_module": "@jupyter-widgets/base",
            "_model_module_version": "1.2.0",
            "_model_name": "LayoutModel",
            "_view_count": null,
            "_view_module": "@jupyter-widgets/base",
            "_view_module_version": "1.2.0",
            "_view_name": "LayoutView",
            "align_content": null,
            "align_items": null,
            "align_self": null,
            "border": null,
            "bottom": null,
            "display": null,
            "flex": null,
            "flex_flow": null,
            "grid_area": null,
            "grid_auto_columns": null,
            "grid_auto_flow": null,
            "grid_auto_rows": null,
            "grid_column": null,
            "grid_gap": null,
            "grid_row": null,
            "grid_template_areas": null,
            "grid_template_columns": null,
            "grid_template_rows": null,
            "height": null,
            "justify_content": null,
            "justify_items": null,
            "left": null,
            "margin": null,
            "max_height": null,
            "max_width": null,
            "min_height": null,
            "min_width": null,
            "object_fit": null,
            "object_position": null,
            "order": null,
            "overflow": null,
            "overflow_x": null,
            "overflow_y": null,
            "padding": null,
            "right": null,
            "top": null,
            "visibility": null,
            "width": null
          }
        },
        "217f686270d1477483cd41288194fab4": {
          "model_module": "@jupyter-widgets/base",
          "model_module_version": "1.2.0",
          "model_name": "LayoutModel",
          "state": {
            "_model_module": "@jupyter-widgets/base",
            "_model_module_version": "1.2.0",
            "_model_name": "LayoutModel",
            "_view_count": null,
            "_view_module": "@jupyter-widgets/base",
            "_view_module_version": "1.2.0",
            "_view_name": "LayoutView",
            "align_content": null,
            "align_items": null,
            "align_self": null,
            "border": null,
            "bottom": null,
            "display": null,
            "flex": null,
            "flex_flow": null,
            "grid_area": null,
            "grid_auto_columns": null,
            "grid_auto_flow": null,
            "grid_auto_rows": null,
            "grid_column": null,
            "grid_gap": null,
            "grid_row": null,
            "grid_template_areas": null,
            "grid_template_columns": null,
            "grid_template_rows": null,
            "height": null,
            "justify_content": null,
            "justify_items": null,
            "left": null,
            "margin": null,
            "max_height": null,
            "max_width": null,
            "min_height": null,
            "min_width": null,
            "object_fit": null,
            "object_position": null,
            "order": null,
            "overflow": null,
            "overflow_x": null,
            "overflow_y": null,
            "padding": null,
            "right": null,
            "top": null,
            "visibility": null,
            "width": null
          }
        },
        "24472759809f405e8f8fe15e03f85956": {
          "model_module": "@jupyter-widgets/controls",
          "model_module_version": "1.5.0",
          "model_name": "ProgressStyleModel",
          "state": {
            "_model_module": "@jupyter-widgets/controls",
            "_model_module_version": "1.5.0",
            "_model_name": "ProgressStyleModel",
            "_view_count": null,
            "_view_module": "@jupyter-widgets/base",
            "_view_module_version": "1.2.0",
            "_view_name": "StyleView",
            "bar_color": null,
            "description_width": ""
          }
        },
        "2cd2c6e8d7164668a753b92996f9aaf8": {
          "model_module": "@jupyter-widgets/controls",
          "model_module_version": "1.5.0",
          "model_name": "FloatProgressModel",
          "state": {
            "_dom_classes": [],
            "_model_module": "@jupyter-widgets/controls",
            "_model_module_version": "1.5.0",
            "_model_name": "FloatProgressModel",
            "_view_count": null,
            "_view_module": "@jupyter-widgets/controls",
            "_view_module_version": "1.5.0",
            "_view_name": "ProgressView",
            "bar_style": "success",
            "description": "",
            "description_tooltip": null,
            "layout": "IPY_MODEL_1a8ffcf7da7041f3bddd0c627e6782e8",
            "max": 4,
            "min": 0,
            "orientation": "horizontal",
            "style": "IPY_MODEL_59af6b75ed2b4d49a2e1da6a911d3ead",
            "value": 4
          }
        },
        "2e3661531cf44063ab2818be910bfd4c": {
          "model_module": "@jupyter-widgets/controls",
          "model_module_version": "1.5.0",
          "model_name": "DescriptionStyleModel",
          "state": {
            "_model_module": "@jupyter-widgets/controls",
            "_model_module_version": "1.5.0",
            "_model_name": "DescriptionStyleModel",
            "_view_count": null,
            "_view_module": "@jupyter-widgets/base",
            "_view_module_version": "1.2.0",
            "_view_name": "StyleView",
            "description_width": ""
          }
        },
        "369e5c606a0f4e608844feaa85da74ca": {
          "model_module": "@jupyter-widgets/controls",
          "model_module_version": "1.5.0",
          "model_name": "DescriptionStyleModel",
          "state": {
            "_model_module": "@jupyter-widgets/controls",
            "_model_module_version": "1.5.0",
            "_model_name": "DescriptionStyleModel",
            "_view_count": null,
            "_view_module": "@jupyter-widgets/base",
            "_view_module_version": "1.2.0",
            "_view_name": "StyleView",
            "description_width": ""
          }
        },
        "3f87bddffd9b4ae6aa71f4b58ed53830": {
          "model_module": "@jupyter-widgets/controls",
          "model_module_version": "1.5.0",
          "model_name": "HBoxModel",
          "state": {
            "_dom_classes": [],
            "_model_module": "@jupyter-widgets/controls",
            "_model_module_version": "1.5.0",
            "_model_name": "HBoxModel",
            "_view_count": null,
            "_view_module": "@jupyter-widgets/controls",
            "_view_module_version": "1.5.0",
            "_view_name": "HBoxView",
            "box_style": "",
            "children": [
              "IPY_MODEL_b174e8e9dae045fe9d3cfd665c1e2b59",
              "IPY_MODEL_d0db1a77595a433fa8bf54af21a37ff5",
              "IPY_MODEL_93fdfa7fd1394ecd95d0edef8cd85614"
            ],
            "layout": "IPY_MODEL_8da92f8aaa384a95b8e211c1a9c8e940"
          }
        },
        "5271dac63be8434d94eed32274f875dd": {
          "model_module": "@jupyter-widgets/controls",
          "model_module_version": "1.5.0",
          "model_name": "HBoxModel",
          "state": {
            "_dom_classes": [],
            "_model_module": "@jupyter-widgets/controls",
            "_model_module_version": "1.5.0",
            "_model_name": "HBoxModel",
            "_view_count": null,
            "_view_module": "@jupyter-widgets/controls",
            "_view_module_version": "1.5.0",
            "_view_name": "HBoxView",
            "box_style": "",
            "children": [
              "IPY_MODEL_82c8eced386249ce88ec8f716c1aec2d",
              "IPY_MODEL_ee82f26e19454efc973840d55b9552b8",
              "IPY_MODEL_a791ca279f19463489668c97fe8925dc"
            ],
            "layout": "IPY_MODEL_f5ecf9ced6de4d26af494939cbc5419f"
          }
        },
        "537cc12c7e424de3b2da01649d221456": {
          "model_module": "@jupyter-widgets/controls",
          "model_module_version": "1.5.0",
          "model_name": "HBoxModel",
          "state": {
            "_dom_classes": [],
            "_model_module": "@jupyter-widgets/controls",
            "_model_module_version": "1.5.0",
            "_model_name": "HBoxModel",
            "_view_count": null,
            "_view_module": "@jupyter-widgets/controls",
            "_view_module_version": "1.5.0",
            "_view_name": "HBoxView",
            "box_style": "",
            "children": [
              "IPY_MODEL_afc66fbb64eb4752ad0fb4f6c83e3455",
              "IPY_MODEL_b5d67c105403422d9955f822e98cf8d0",
              "IPY_MODEL_7ce70fb7f2014975aafb396c2819f757"
            ],
            "layout": "IPY_MODEL_91fa11e29eb24fe9a15ea62e569f88c5"
          }
        },
        "59af6b75ed2b4d49a2e1da6a911d3ead": {
          "model_module": "@jupyter-widgets/controls",
          "model_module_version": "1.5.0",
          "model_name": "ProgressStyleModel",
          "state": {
            "_model_module": "@jupyter-widgets/controls",
            "_model_module_version": "1.5.0",
            "_model_name": "ProgressStyleModel",
            "_view_count": null,
            "_view_module": "@jupyter-widgets/base",
            "_view_module_version": "1.2.0",
            "_view_name": "StyleView",
            "bar_color": null,
            "description_width": ""
          }
        },
        "5b089fd6f499484b94019ed94561b405": {
          "model_module": "@jupyter-widgets/controls",
          "model_module_version": "1.5.0",
          "model_name": "HTMLModel",
          "state": {
            "_dom_classes": [],
            "_model_module": "@jupyter-widgets/controls",
            "_model_module_version": "1.5.0",
            "_model_name": "HTMLModel",
            "_view_count": null,
            "_view_module": "@jupyter-widgets/controls",
            "_view_module_version": "1.5.0",
            "_view_name": "HTMLView",
            "description": "",
            "description_tooltip": null,
            "layout": "IPY_MODEL_217f686270d1477483cd41288194fab4",
            "placeholder": "​",
            "style": "IPY_MODEL_2e3661531cf44063ab2818be910bfd4c",
            "value": " 4/4 [00:00&lt;00:00,  6.53it/s]"
          }
        },
        "6d3701db6dea442da494b89fd5e93a09": {
          "model_module": "@jupyter-widgets/base",
          "model_module_version": "1.2.0",
          "model_name": "LayoutModel",
          "state": {
            "_model_module": "@jupyter-widgets/base",
            "_model_module_version": "1.2.0",
            "_model_name": "LayoutModel",
            "_view_count": null,
            "_view_module": "@jupyter-widgets/base",
            "_view_module_version": "1.2.0",
            "_view_name": "LayoutView",
            "align_content": null,
            "align_items": null,
            "align_self": null,
            "border": null,
            "bottom": null,
            "display": null,
            "flex": null,
            "flex_flow": null,
            "grid_area": null,
            "grid_auto_columns": null,
            "grid_auto_flow": null,
            "grid_auto_rows": null,
            "grid_column": null,
            "grid_gap": null,
            "grid_row": null,
            "grid_template_areas": null,
            "grid_template_columns": null,
            "grid_template_rows": null,
            "height": null,
            "justify_content": null,
            "justify_items": null,
            "left": null,
            "margin": null,
            "max_height": null,
            "max_width": null,
            "min_height": null,
            "min_width": null,
            "object_fit": null,
            "object_position": null,
            "order": null,
            "overflow": null,
            "overflow_x": null,
            "overflow_y": null,
            "padding": null,
            "right": null,
            "top": null,
            "visibility": null,
            "width": null
          }
        },
        "6d6c51a4408c443dbd0cf61683cc603a": {
          "model_module": "@jupyter-widgets/base",
          "model_module_version": "1.2.0",
          "model_name": "LayoutModel",
          "state": {
            "_model_module": "@jupyter-widgets/base",
            "_model_module_version": "1.2.0",
            "_model_name": "LayoutModel",
            "_view_count": null,
            "_view_module": "@jupyter-widgets/base",
            "_view_module_version": "1.2.0",
            "_view_name": "LayoutView",
            "align_content": null,
            "align_items": null,
            "align_self": null,
            "border": null,
            "bottom": null,
            "display": null,
            "flex": null,
            "flex_flow": null,
            "grid_area": null,
            "grid_auto_columns": null,
            "grid_auto_flow": null,
            "grid_auto_rows": null,
            "grid_column": null,
            "grid_gap": null,
            "grid_row": null,
            "grid_template_areas": null,
            "grid_template_columns": null,
            "grid_template_rows": null,
            "height": null,
            "justify_content": null,
            "justify_items": null,
            "left": null,
            "margin": null,
            "max_height": null,
            "max_width": null,
            "min_height": null,
            "min_width": null,
            "object_fit": null,
            "object_position": null,
            "order": null,
            "overflow": null,
            "overflow_x": null,
            "overflow_y": null,
            "padding": null,
            "right": null,
            "top": null,
            "visibility": null,
            "width": null
          }
        },
        "6f7f3f7b8e174cf2bb518d9fadd0ecf6": {
          "model_module": "@jupyter-widgets/controls",
          "model_module_version": "1.5.0",
          "model_name": "HTMLModel",
          "state": {
            "_dom_classes": [],
            "_model_module": "@jupyter-widgets/controls",
            "_model_module_version": "1.5.0",
            "_model_name": "HTMLModel",
            "_view_count": null,
            "_view_module": "@jupyter-widgets/controls",
            "_view_module_version": "1.5.0",
            "_view_name": "HTMLView",
            "description": "",
            "description_tooltip": null,
            "layout": "IPY_MODEL_a7ce3753da5449b3bed17eebeb987cc2",
            "placeholder": "​",
            "style": "IPY_MODEL_6f877c2950754d33947e2ae3efff0715",
            "value": "Downloading artifacts: 100%"
          }
        },
        "6f877c2950754d33947e2ae3efff0715": {
          "model_module": "@jupyter-widgets/controls",
          "model_module_version": "1.5.0",
          "model_name": "DescriptionStyleModel",
          "state": {
            "_model_module": "@jupyter-widgets/controls",
            "_model_module_version": "1.5.0",
            "_model_name": "DescriptionStyleModel",
            "_view_count": null,
            "_view_module": "@jupyter-widgets/base",
            "_view_module_version": "1.2.0",
            "_view_name": "StyleView",
            "description_width": ""
          }
        },
        "7ce70fb7f2014975aafb396c2819f757": {
          "model_module": "@jupyter-widgets/controls",
          "model_module_version": "1.5.0",
          "model_name": "HTMLModel",
          "state": {
            "_dom_classes": [],
            "_model_module": "@jupyter-widgets/controls",
            "_model_module_version": "1.5.0",
            "_model_name": "HTMLModel",
            "_view_count": null,
            "_view_module": "@jupyter-widgets/controls",
            "_view_module_version": "1.5.0",
            "_view_name": "HTMLView",
            "description": "",
            "description_tooltip": null,
            "layout": "IPY_MODEL_e192de06b3d64246bd9a35b08fd04fa8",
            "placeholder": "​",
            "style": "IPY_MODEL_ab36e8f60e6747a5b5b7f63e0cb93214",
            "value": " 11/11 [00:52&lt;00:00,  5.81s/it]"
          }
        },
        "7d221132fcf0441b9e68863b783ff7ea": {
          "model_module": "@jupyter-widgets/controls",
          "model_module_version": "1.5.0",
          "model_name": "DescriptionStyleModel",
          "state": {
            "_model_module": "@jupyter-widgets/controls",
            "_model_module_version": "1.5.0",
            "_model_name": "DescriptionStyleModel",
            "_view_count": null,
            "_view_module": "@jupyter-widgets/base",
            "_view_module_version": "1.2.0",
            "_view_name": "StyleView",
            "description_width": ""
          }
        },
        "82c8eced386249ce88ec8f716c1aec2d": {
          "model_module": "@jupyter-widgets/controls",
          "model_module_version": "1.5.0",
          "model_name": "HTMLModel",
          "state": {
            "_dom_classes": [],
            "_model_module": "@jupyter-widgets/controls",
            "_model_module_version": "1.5.0",
            "_model_name": "HTMLModel",
            "_view_count": null,
            "_view_module": "@jupyter-widgets/controls",
            "_view_module_version": "1.5.0",
            "_view_name": "HTMLView",
            "description": "",
            "description_tooltip": null,
            "layout": "IPY_MODEL_839197570fbc4ae4990b550e5e691d37",
            "placeholder": "​",
            "style": "IPY_MODEL_9df7d1b76a184dad94d6d085ca09d1ff",
            "value": "Uploading artifacts: 100%"
          }
        },
        "839197570fbc4ae4990b550e5e691d37": {
          "model_module": "@jupyter-widgets/base",
          "model_module_version": "1.2.0",
          "model_name": "LayoutModel",
          "state": {
            "_model_module": "@jupyter-widgets/base",
            "_model_module_version": "1.2.0",
            "_model_name": "LayoutModel",
            "_view_count": null,
            "_view_module": "@jupyter-widgets/base",
            "_view_module_version": "1.2.0",
            "_view_name": "LayoutView",
            "align_content": null,
            "align_items": null,
            "align_self": null,
            "border": null,
            "bottom": null,
            "display": null,
            "flex": null,
            "flex_flow": null,
            "grid_area": null,
            "grid_auto_columns": null,
            "grid_auto_flow": null,
            "grid_auto_rows": null,
            "grid_column": null,
            "grid_gap": null,
            "grid_row": null,
            "grid_template_areas": null,
            "grid_template_columns": null,
            "grid_template_rows": null,
            "height": null,
            "justify_content": null,
            "justify_items": null,
            "left": null,
            "margin": null,
            "max_height": null,
            "max_width": null,
            "min_height": null,
            "min_width": null,
            "object_fit": null,
            "object_position": null,
            "order": null,
            "overflow": null,
            "overflow_x": null,
            "overflow_y": null,
            "padding": null,
            "right": null,
            "top": null,
            "visibility": null,
            "width": null
          }
        },
        "8522168f2d4240cd99f056588fc70070": {
          "model_module": "@jupyter-widgets/controls",
          "model_module_version": "1.5.0",
          "model_name": "HBoxModel",
          "state": {
            "_dom_classes": [],
            "_model_module": "@jupyter-widgets/controls",
            "_model_module_version": "1.5.0",
            "_model_name": "HBoxModel",
            "_view_count": null,
            "_view_module": "@jupyter-widgets/controls",
            "_view_module_version": "1.5.0",
            "_view_name": "HBoxView",
            "box_style": "",
            "children": [
              "IPY_MODEL_6f7f3f7b8e174cf2bb518d9fadd0ecf6",
              "IPY_MODEL_2cd2c6e8d7164668a753b92996f9aaf8",
              "IPY_MODEL_5b089fd6f499484b94019ed94561b405"
            ],
            "layout": "IPY_MODEL_6d6c51a4408c443dbd0cf61683cc603a"
          }
        },
        "8da92f8aaa384a95b8e211c1a9c8e940": {
          "model_module": "@jupyter-widgets/base",
          "model_module_version": "1.2.0",
          "model_name": "LayoutModel",
          "state": {
            "_model_module": "@jupyter-widgets/base",
            "_model_module_version": "1.2.0",
            "_model_name": "LayoutModel",
            "_view_count": null,
            "_view_module": "@jupyter-widgets/base",
            "_view_module_version": "1.2.0",
            "_view_name": "LayoutView",
            "align_content": null,
            "align_items": null,
            "align_self": null,
            "border": null,
            "bottom": null,
            "display": null,
            "flex": null,
            "flex_flow": null,
            "grid_area": null,
            "grid_auto_columns": null,
            "grid_auto_flow": null,
            "grid_auto_rows": null,
            "grid_column": null,
            "grid_gap": null,
            "grid_row": null,
            "grid_template_areas": null,
            "grid_template_columns": null,
            "grid_template_rows": null,
            "height": null,
            "justify_content": null,
            "justify_items": null,
            "left": null,
            "margin": null,
            "max_height": null,
            "max_width": null,
            "min_height": null,
            "min_width": null,
            "object_fit": null,
            "object_position": null,
            "order": null,
            "overflow": null,
            "overflow_x": null,
            "overflow_y": null,
            "padding": null,
            "right": null,
            "top": null,
            "visibility": null,
            "width": null
          }
        },
        "8fb176dc716c48358b95b1b8c0df30fe": {
          "model_module": "@jupyter-widgets/base",
          "model_module_version": "1.2.0",
          "model_name": "LayoutModel",
          "state": {
            "_model_module": "@jupyter-widgets/base",
            "_model_module_version": "1.2.0",
            "_model_name": "LayoutModel",
            "_view_count": null,
            "_view_module": "@jupyter-widgets/base",
            "_view_module_version": "1.2.0",
            "_view_name": "LayoutView",
            "align_content": null,
            "align_items": null,
            "align_self": null,
            "border": null,
            "bottom": null,
            "display": null,
            "flex": null,
            "flex_flow": null,
            "grid_area": null,
            "grid_auto_columns": null,
            "grid_auto_flow": null,
            "grid_auto_rows": null,
            "grid_column": null,
            "grid_gap": null,
            "grid_row": null,
            "grid_template_areas": null,
            "grid_template_columns": null,
            "grid_template_rows": null,
            "height": null,
            "justify_content": null,
            "justify_items": null,
            "left": null,
            "margin": null,
            "max_height": null,
            "max_width": null,
            "min_height": null,
            "min_width": null,
            "object_fit": null,
            "object_position": null,
            "order": null,
            "overflow": null,
            "overflow_x": null,
            "overflow_y": null,
            "padding": null,
            "right": null,
            "top": null,
            "visibility": null,
            "width": null
          }
        },
        "91fa11e29eb24fe9a15ea62e569f88c5": {
          "model_module": "@jupyter-widgets/base",
          "model_module_version": "1.2.0",
          "model_name": "LayoutModel",
          "state": {
            "_model_module": "@jupyter-widgets/base",
            "_model_module_version": "1.2.0",
            "_model_name": "LayoutModel",
            "_view_count": null,
            "_view_module": "@jupyter-widgets/base",
            "_view_module_version": "1.2.0",
            "_view_name": "LayoutView",
            "align_content": null,
            "align_items": null,
            "align_self": null,
            "border": null,
            "bottom": null,
            "display": null,
            "flex": null,
            "flex_flow": null,
            "grid_area": null,
            "grid_auto_columns": null,
            "grid_auto_flow": null,
            "grid_auto_rows": null,
            "grid_column": null,
            "grid_gap": null,
            "grid_row": null,
            "grid_template_areas": null,
            "grid_template_columns": null,
            "grid_template_rows": null,
            "height": null,
            "justify_content": null,
            "justify_items": null,
            "left": null,
            "margin": null,
            "max_height": null,
            "max_width": null,
            "min_height": null,
            "min_width": null,
            "object_fit": null,
            "object_position": null,
            "order": null,
            "overflow": null,
            "overflow_x": null,
            "overflow_y": null,
            "padding": null,
            "right": null,
            "top": null,
            "visibility": null,
            "width": null
          }
        },
        "93fdfa7fd1394ecd95d0edef8cd85614": {
          "model_module": "@jupyter-widgets/controls",
          "model_module_version": "1.5.0",
          "model_name": "HTMLModel",
          "state": {
            "_dom_classes": [],
            "_model_module": "@jupyter-widgets/controls",
            "_model_module_version": "1.5.0",
            "_model_name": "HTMLModel",
            "_view_count": null,
            "_view_module": "@jupyter-widgets/controls",
            "_view_module_version": "1.5.0",
            "_view_name": "HTMLView",
            "description": "",
            "description_tooltip": null,
            "layout": "IPY_MODEL_f8531de936524e81adb7ae6c8bf3774e",
            "placeholder": "​",
            "style": "IPY_MODEL_9e851978e43b4c8fa61e44d1c5787d4e",
            "value": " 11/11 [01:06&lt;00:00,  6.45s/it]"
          }
        },
        "96ce7a8aba3e41be9a77e7290c987cd4": {
          "model_module": "@jupyter-widgets/base",
          "model_module_version": "1.2.0",
          "model_name": "LayoutModel",
          "state": {
            "_model_module": "@jupyter-widgets/base",
            "_model_module_version": "1.2.0",
            "_model_name": "LayoutModel",
            "_view_count": null,
            "_view_module": "@jupyter-widgets/base",
            "_view_module_version": "1.2.0",
            "_view_name": "LayoutView",
            "align_content": null,
            "align_items": null,
            "align_self": null,
            "border": null,
            "bottom": null,
            "display": null,
            "flex": null,
            "flex_flow": null,
            "grid_area": null,
            "grid_auto_columns": null,
            "grid_auto_flow": null,
            "grid_auto_rows": null,
            "grid_column": null,
            "grid_gap": null,
            "grid_row": null,
            "grid_template_areas": null,
            "grid_template_columns": null,
            "grid_template_rows": null,
            "height": null,
            "justify_content": null,
            "justify_items": null,
            "left": null,
            "margin": null,
            "max_height": null,
            "max_width": null,
            "min_height": null,
            "min_width": null,
            "object_fit": null,
            "object_position": null,
            "order": null,
            "overflow": null,
            "overflow_x": null,
            "overflow_y": null,
            "padding": null,
            "right": null,
            "top": null,
            "visibility": null,
            "width": null
          }
        },
        "9d8aea2b157b4ac8b6864b93d46f3cd7": {
          "model_module": "@jupyter-widgets/base",
          "model_module_version": "1.2.0",
          "model_name": "LayoutModel",
          "state": {
            "_model_module": "@jupyter-widgets/base",
            "_model_module_version": "1.2.0",
            "_model_name": "LayoutModel",
            "_view_count": null,
            "_view_module": "@jupyter-widgets/base",
            "_view_module_version": "1.2.0",
            "_view_name": "LayoutView",
            "align_content": null,
            "align_items": null,
            "align_self": null,
            "border": null,
            "bottom": null,
            "display": null,
            "flex": null,
            "flex_flow": null,
            "grid_area": null,
            "grid_auto_columns": null,
            "grid_auto_flow": null,
            "grid_auto_rows": null,
            "grid_column": null,
            "grid_gap": null,
            "grid_row": null,
            "grid_template_areas": null,
            "grid_template_columns": null,
            "grid_template_rows": null,
            "height": null,
            "justify_content": null,
            "justify_items": null,
            "left": null,
            "margin": null,
            "max_height": null,
            "max_width": null,
            "min_height": null,
            "min_width": null,
            "object_fit": null,
            "object_position": null,
            "order": null,
            "overflow": null,
            "overflow_x": null,
            "overflow_y": null,
            "padding": null,
            "right": null,
            "top": null,
            "visibility": null,
            "width": null
          }
        },
        "9df7d1b76a184dad94d6d085ca09d1ff": {
          "model_module": "@jupyter-widgets/controls",
          "model_module_version": "1.5.0",
          "model_name": "DescriptionStyleModel",
          "state": {
            "_model_module": "@jupyter-widgets/controls",
            "_model_module_version": "1.5.0",
            "_model_name": "DescriptionStyleModel",
            "_view_count": null,
            "_view_module": "@jupyter-widgets/base",
            "_view_module_version": "1.2.0",
            "_view_name": "StyleView",
            "description_width": ""
          }
        },
        "9e851978e43b4c8fa61e44d1c5787d4e": {
          "model_module": "@jupyter-widgets/controls",
          "model_module_version": "1.5.0",
          "model_name": "DescriptionStyleModel",
          "state": {
            "_model_module": "@jupyter-widgets/controls",
            "_model_module_version": "1.5.0",
            "_model_name": "DescriptionStyleModel",
            "_view_count": null,
            "_view_module": "@jupyter-widgets/base",
            "_view_module_version": "1.2.0",
            "_view_name": "StyleView",
            "description_width": ""
          }
        },
        "a791ca279f19463489668c97fe8925dc": {
          "model_module": "@jupyter-widgets/controls",
          "model_module_version": "1.5.0",
          "model_name": "HTMLModel",
          "state": {
            "_dom_classes": [],
            "_model_module": "@jupyter-widgets/controls",
            "_model_module_version": "1.5.0",
            "_model_name": "HTMLModel",
            "_view_count": null,
            "_view_module": "@jupyter-widgets/controls",
            "_view_module_version": "1.5.0",
            "_view_name": "HTMLView",
            "description": "",
            "description_tooltip": null,
            "layout": "IPY_MODEL_9d8aea2b157b4ac8b6864b93d46f3cd7",
            "placeholder": "​",
            "style": "IPY_MODEL_7d221132fcf0441b9e68863b783ff7ea",
            "value": " 11/11 [00:20&lt;00:00,  2.00s/it]"
          }
        },
        "a7ce3753da5449b3bed17eebeb987cc2": {
          "model_module": "@jupyter-widgets/base",
          "model_module_version": "1.2.0",
          "model_name": "LayoutModel",
          "state": {
            "_model_module": "@jupyter-widgets/base",
            "_model_module_version": "1.2.0",
            "_model_name": "LayoutModel",
            "_view_count": null,
            "_view_module": "@jupyter-widgets/base",
            "_view_module_version": "1.2.0",
            "_view_name": "LayoutView",
            "align_content": null,
            "align_items": null,
            "align_self": null,
            "border": null,
            "bottom": null,
            "display": null,
            "flex": null,
            "flex_flow": null,
            "grid_area": null,
            "grid_auto_columns": null,
            "grid_auto_flow": null,
            "grid_auto_rows": null,
            "grid_column": null,
            "grid_gap": null,
            "grid_row": null,
            "grid_template_areas": null,
            "grid_template_columns": null,
            "grid_template_rows": null,
            "height": null,
            "justify_content": null,
            "justify_items": null,
            "left": null,
            "margin": null,
            "max_height": null,
            "max_width": null,
            "min_height": null,
            "min_width": null,
            "object_fit": null,
            "object_position": null,
            "order": null,
            "overflow": null,
            "overflow_x": null,
            "overflow_y": null,
            "padding": null,
            "right": null,
            "top": null,
            "visibility": null,
            "width": null
          }
        },
        "ab36e8f60e6747a5b5b7f63e0cb93214": {
          "model_module": "@jupyter-widgets/controls",
          "model_module_version": "1.5.0",
          "model_name": "DescriptionStyleModel",
          "state": {
            "_model_module": "@jupyter-widgets/controls",
            "_model_module_version": "1.5.0",
            "_model_name": "DescriptionStyleModel",
            "_view_count": null,
            "_view_module": "@jupyter-widgets/base",
            "_view_module_version": "1.2.0",
            "_view_name": "StyleView",
            "description_width": ""
          }
        },
        "afc66fbb64eb4752ad0fb4f6c83e3455": {
          "model_module": "@jupyter-widgets/controls",
          "model_module_version": "1.5.0",
          "model_name": "HTMLModel",
          "state": {
            "_dom_classes": [],
            "_model_module": "@jupyter-widgets/controls",
            "_model_module_version": "1.5.0",
            "_model_name": "HTMLModel",
            "_view_count": null,
            "_view_module": "@jupyter-widgets/controls",
            "_view_module_version": "1.5.0",
            "_view_name": "HTMLView",
            "description": "",
            "description_tooltip": null,
            "layout": "IPY_MODEL_6d3701db6dea442da494b89fd5e93a09",
            "placeholder": "​",
            "style": "IPY_MODEL_cca70bd2fbda4d2794b2d2e6695d4f14",
            "value": "Downloading artifacts: 100%"
          }
        },
        "b174e8e9dae045fe9d3cfd665c1e2b59": {
          "model_module": "@jupyter-widgets/controls",
          "model_module_version": "1.5.0",
          "model_name": "HTMLModel",
          "state": {
            "_dom_classes": [],
            "_model_module": "@jupyter-widgets/controls",
            "_model_module_version": "1.5.0",
            "_model_name": "HTMLModel",
            "_view_count": null,
            "_view_module": "@jupyter-widgets/controls",
            "_view_module_version": "1.5.0",
            "_view_name": "HTMLView",
            "description": "",
            "description_tooltip": null,
            "layout": "IPY_MODEL_c26ca388ac384f22a28ca94131c8c4a2",
            "placeholder": "​",
            "style": "IPY_MODEL_369e5c606a0f4e608844feaa85da74ca",
            "value": "Downloading artifacts: 100%"
          }
        },
        "b5d67c105403422d9955f822e98cf8d0": {
          "model_module": "@jupyter-widgets/controls",
          "model_module_version": "1.5.0",
          "model_name": "FloatProgressModel",
          "state": {
            "_dom_classes": [],
            "_model_module": "@jupyter-widgets/controls",
            "_model_module_version": "1.5.0",
            "_model_name": "FloatProgressModel",
            "_view_count": null,
            "_view_module": "@jupyter-widgets/controls",
            "_view_module_version": "1.5.0",
            "_view_name": "ProgressView",
            "bar_style": "success",
            "description": "",
            "description_tooltip": null,
            "layout": "IPY_MODEL_dbfd4a9ff6b64830926d5188ffe40f44",
            "max": 11,
            "min": 0,
            "orientation": "horizontal",
            "style": "IPY_MODEL_e1bd11607b494b2d9dd423ddc325823a",
            "value": 11
          }
        },
        "c26ca388ac384f22a28ca94131c8c4a2": {
          "model_module": "@jupyter-widgets/base",
          "model_module_version": "1.2.0",
          "model_name": "LayoutModel",
          "state": {
            "_model_module": "@jupyter-widgets/base",
            "_model_module_version": "1.2.0",
            "_model_name": "LayoutModel",
            "_view_count": null,
            "_view_module": "@jupyter-widgets/base",
            "_view_module_version": "1.2.0",
            "_view_name": "LayoutView",
            "align_content": null,
            "align_items": null,
            "align_self": null,
            "border": null,
            "bottom": null,
            "display": null,
            "flex": null,
            "flex_flow": null,
            "grid_area": null,
            "grid_auto_columns": null,
            "grid_auto_flow": null,
            "grid_auto_rows": null,
            "grid_column": null,
            "grid_gap": null,
            "grid_row": null,
            "grid_template_areas": null,
            "grid_template_columns": null,
            "grid_template_rows": null,
            "height": null,
            "justify_content": null,
            "justify_items": null,
            "left": null,
            "margin": null,
            "max_height": null,
            "max_width": null,
            "min_height": null,
            "min_width": null,
            "object_fit": null,
            "object_position": null,
            "order": null,
            "overflow": null,
            "overflow_x": null,
            "overflow_y": null,
            "padding": null,
            "right": null,
            "top": null,
            "visibility": null,
            "width": null
          }
        },
        "cca70bd2fbda4d2794b2d2e6695d4f14": {
          "model_module": "@jupyter-widgets/controls",
          "model_module_version": "1.5.0",
          "model_name": "DescriptionStyleModel",
          "state": {
            "_model_module": "@jupyter-widgets/controls",
            "_model_module_version": "1.5.0",
            "_model_name": "DescriptionStyleModel",
            "_view_count": null,
            "_view_module": "@jupyter-widgets/base",
            "_view_module_version": "1.2.0",
            "_view_name": "StyleView",
            "description_width": ""
          }
        },
        "d0db1a77595a433fa8bf54af21a37ff5": {
          "model_module": "@jupyter-widgets/controls",
          "model_module_version": "1.5.0",
          "model_name": "FloatProgressModel",
          "state": {
            "_dom_classes": [],
            "_model_module": "@jupyter-widgets/controls",
            "_model_module_version": "1.5.0",
            "_model_name": "FloatProgressModel",
            "_view_count": null,
            "_view_module": "@jupyter-widgets/controls",
            "_view_module_version": "1.5.0",
            "_view_name": "ProgressView",
            "bar_style": "success",
            "description": "",
            "description_tooltip": null,
            "layout": "IPY_MODEL_96ce7a8aba3e41be9a77e7290c987cd4",
            "max": 11,
            "min": 0,
            "orientation": "horizontal",
            "style": "IPY_MODEL_24472759809f405e8f8fe15e03f85956",
            "value": 11
          }
        },
        "dbfd4a9ff6b64830926d5188ffe40f44": {
          "model_module": "@jupyter-widgets/base",
          "model_module_version": "1.2.0",
          "model_name": "LayoutModel",
          "state": {
            "_model_module": "@jupyter-widgets/base",
            "_model_module_version": "1.2.0",
            "_model_name": "LayoutModel",
            "_view_count": null,
            "_view_module": "@jupyter-widgets/base",
            "_view_module_version": "1.2.0",
            "_view_name": "LayoutView",
            "align_content": null,
            "align_items": null,
            "align_self": null,
            "border": null,
            "bottom": null,
            "display": null,
            "flex": null,
            "flex_flow": null,
            "grid_area": null,
            "grid_auto_columns": null,
            "grid_auto_flow": null,
            "grid_auto_rows": null,
            "grid_column": null,
            "grid_gap": null,
            "grid_row": null,
            "grid_template_areas": null,
            "grid_template_columns": null,
            "grid_template_rows": null,
            "height": null,
            "justify_content": null,
            "justify_items": null,
            "left": null,
            "margin": null,
            "max_height": null,
            "max_width": null,
            "min_height": null,
            "min_width": null,
            "object_fit": null,
            "object_position": null,
            "order": null,
            "overflow": null,
            "overflow_x": null,
            "overflow_y": null,
            "padding": null,
            "right": null,
            "top": null,
            "visibility": null,
            "width": null
          }
        },
        "e192de06b3d64246bd9a35b08fd04fa8": {
          "model_module": "@jupyter-widgets/base",
          "model_module_version": "1.2.0",
          "model_name": "LayoutModel",
          "state": {
            "_model_module": "@jupyter-widgets/base",
            "_model_module_version": "1.2.0",
            "_model_name": "LayoutModel",
            "_view_count": null,
            "_view_module": "@jupyter-widgets/base",
            "_view_module_version": "1.2.0",
            "_view_name": "LayoutView",
            "align_content": null,
            "align_items": null,
            "align_self": null,
            "border": null,
            "bottom": null,
            "display": null,
            "flex": null,
            "flex_flow": null,
            "grid_area": null,
            "grid_auto_columns": null,
            "grid_auto_flow": null,
            "grid_auto_rows": null,
            "grid_column": null,
            "grid_gap": null,
            "grid_row": null,
            "grid_template_areas": null,
            "grid_template_columns": null,
            "grid_template_rows": null,
            "height": null,
            "justify_content": null,
            "justify_items": null,
            "left": null,
            "margin": null,
            "max_height": null,
            "max_width": null,
            "min_height": null,
            "min_width": null,
            "object_fit": null,
            "object_position": null,
            "order": null,
            "overflow": null,
            "overflow_x": null,
            "overflow_y": null,
            "padding": null,
            "right": null,
            "top": null,
            "visibility": null,
            "width": null
          }
        },
        "e1bd11607b494b2d9dd423ddc325823a": {
          "model_module": "@jupyter-widgets/controls",
          "model_module_version": "1.5.0",
          "model_name": "ProgressStyleModel",
          "state": {
            "_model_module": "@jupyter-widgets/controls",
            "_model_module_version": "1.5.0",
            "_model_name": "ProgressStyleModel",
            "_view_count": null,
            "_view_module": "@jupyter-widgets/base",
            "_view_module_version": "1.2.0",
            "_view_name": "StyleView",
            "bar_color": null,
            "description_width": ""
          }
        },
        "ee82f26e19454efc973840d55b9552b8": {
          "model_module": "@jupyter-widgets/controls",
          "model_module_version": "1.5.0",
          "model_name": "FloatProgressModel",
          "state": {
            "_dom_classes": [],
            "_model_module": "@jupyter-widgets/controls",
            "_model_module_version": "1.5.0",
            "_model_name": "FloatProgressModel",
            "_view_count": null,
            "_view_module": "@jupyter-widgets/controls",
            "_view_module_version": "1.5.0",
            "_view_name": "ProgressView",
            "bar_style": "success",
            "description": "",
            "description_tooltip": null,
            "layout": "IPY_MODEL_8fb176dc716c48358b95b1b8c0df30fe",
            "max": 11,
            "min": 0,
            "orientation": "horizontal",
            "style": "IPY_MODEL_f49839d20485456e8b495845812ff39c",
            "value": 11
          }
        },
        "f49839d20485456e8b495845812ff39c": {
          "model_module": "@jupyter-widgets/controls",
          "model_module_version": "1.5.0",
          "model_name": "ProgressStyleModel",
          "state": {
            "_model_module": "@jupyter-widgets/controls",
            "_model_module_version": "1.5.0",
            "_model_name": "ProgressStyleModel",
            "_view_count": null,
            "_view_module": "@jupyter-widgets/base",
            "_view_module_version": "1.2.0",
            "_view_name": "StyleView",
            "bar_color": null,
            "description_width": ""
          }
        },
        "f5ecf9ced6de4d26af494939cbc5419f": {
          "model_module": "@jupyter-widgets/base",
          "model_module_version": "1.2.0",
          "model_name": "LayoutModel",
          "state": {
            "_model_module": "@jupyter-widgets/base",
            "_model_module_version": "1.2.0",
            "_model_name": "LayoutModel",
            "_view_count": null,
            "_view_module": "@jupyter-widgets/base",
            "_view_module_version": "1.2.0",
            "_view_name": "LayoutView",
            "align_content": null,
            "align_items": null,
            "align_self": null,
            "border": null,
            "bottom": null,
            "display": null,
            "flex": null,
            "flex_flow": null,
            "grid_area": null,
            "grid_auto_columns": null,
            "grid_auto_flow": null,
            "grid_auto_rows": null,
            "grid_column": null,
            "grid_gap": null,
            "grid_row": null,
            "grid_template_areas": null,
            "grid_template_columns": null,
            "grid_template_rows": null,
            "height": null,
            "justify_content": null,
            "justify_items": null,
            "left": null,
            "margin": null,
            "max_height": null,
            "max_width": null,
            "min_height": null,
            "min_width": null,
            "object_fit": null,
            "object_position": null,
            "order": null,
            "overflow": null,
            "overflow_x": null,
            "overflow_y": null,
            "padding": null,
            "right": null,
            "top": null,
            "visibility": null,
            "width": null
          }
        },
        "f8531de936524e81adb7ae6c8bf3774e": {
          "model_module": "@jupyter-widgets/base",
          "model_module_version": "1.2.0",
          "model_name": "LayoutModel",
          "state": {
            "_model_module": "@jupyter-widgets/base",
            "_model_module_version": "1.2.0",
            "_model_name": "LayoutModel",
            "_view_count": null,
            "_view_module": "@jupyter-widgets/base",
            "_view_module_version": "1.2.0",
            "_view_name": "LayoutView",
            "align_content": null,
            "align_items": null,
            "align_self": null,
            "border": null,
            "bottom": null,
            "display": null,
            "flex": null,
            "flex_flow": null,
            "grid_area": null,
            "grid_auto_columns": null,
            "grid_auto_flow": null,
            "grid_auto_rows": null,
            "grid_column": null,
            "grid_gap": null,
            "grid_row": null,
            "grid_template_areas": null,
            "grid_template_columns": null,
            "grid_template_rows": null,
            "height": null,
            "justify_content": null,
            "justify_items": null,
            "left": null,
            "margin": null,
            "max_height": null,
            "max_width": null,
            "min_height": null,
            "min_width": null,
            "object_fit": null,
            "object_position": null,
            "order": null,
            "overflow": null,
            "overflow_x": null,
            "overflow_y": null,
            "padding": null,
            "right": null,
            "top": null,
            "visibility": null,
            "width": null
          }
        }
      }
    }
  },
  "nbformat": 4,
  "nbformat_minor": 0
}
